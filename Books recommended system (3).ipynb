{
 "cells": [
  {
   "cell_type": "markdown",
   "metadata": {},
   "source": [
    "# BOOKS RECOMMENDER SYSTEM"
   ]
  },
  {
   "cell_type": "code",
   "execution_count": 1,
   "metadata": {},
   "outputs": [],
   "source": [
    "# Import libraries\n",
    "import numpy as np\n",
    "import pandas as pd\n",
    "import matplotlib.pyplot as plt\n",
    "import seaborn as sns"
   ]
  },
  {
   "cell_type": "code",
   "execution_count": 2,
   "metadata": {},
   "outputs": [
    {
     "name": "stderr",
     "output_type": "stream",
     "text": [
      "C:\\Users\\hamdi\\anaconda3\\lib\\site-packages\\IPython\\core\\interactiveshell.py:3063: DtypeWarning: Columns (3) have mixed types.Specify dtype option on import or set low_memory=False.\n",
      "  interactivity=interactivity, compiler=compiler, result=result)\n"
     ]
    }
   ],
   "source": [
    "# Reading Data\n",
    "books=pd.read_csv('Books.csv')"
   ]
  },
  {
   "cell_type": "code",
   "execution_count": 3,
   "metadata": {},
   "outputs": [],
   "source": [
    "users=pd.read_csv('Users.csv')"
   ]
  },
  {
   "cell_type": "code",
   "execution_count": 4,
   "metadata": {},
   "outputs": [],
   "source": [
    "ratings=pd.read_csv('Ratings.csv')"
   ]
  },
  {
   "cell_type": "code",
   "execution_count": 5,
   "metadata": {},
   "outputs": [
    {
     "data": {
      "text/html": [
       "<div>\n",
       "<style scoped>\n",
       "    .dataframe tbody tr th:only-of-type {\n",
       "        vertical-align: middle;\n",
       "    }\n",
       "\n",
       "    .dataframe tbody tr th {\n",
       "        vertical-align: top;\n",
       "    }\n",
       "\n",
       "    .dataframe thead th {\n",
       "        text-align: right;\n",
       "    }\n",
       "</style>\n",
       "<table border=\"1\" class=\"dataframe\">\n",
       "  <thead>\n",
       "    <tr style=\"text-align: right;\">\n",
       "      <th></th>\n",
       "      <th>ISBN</th>\n",
       "      <th>Book-Title</th>\n",
       "      <th>Book-Author</th>\n",
       "      <th>Year-Of-Publication</th>\n",
       "      <th>Publisher</th>\n",
       "      <th>Image-URL-S</th>\n",
       "      <th>Image-URL-M</th>\n",
       "      <th>Image-URL-L</th>\n",
       "    </tr>\n",
       "  </thead>\n",
       "  <tbody>\n",
       "    <tr>\n",
       "      <th>0</th>\n",
       "      <td>0195153448</td>\n",
       "      <td>Classical Mythology</td>\n",
       "      <td>Mark P. O. Morford</td>\n",
       "      <td>2002</td>\n",
       "      <td>Oxford University Press</td>\n",
       "      <td>http://images.amazon.com/images/P/0195153448.0...</td>\n",
       "      <td>http://images.amazon.com/images/P/0195153448.0...</td>\n",
       "      <td>http://images.amazon.com/images/P/0195153448.0...</td>\n",
       "    </tr>\n",
       "    <tr>\n",
       "      <th>1</th>\n",
       "      <td>0002005018</td>\n",
       "      <td>Clara Callan</td>\n",
       "      <td>Richard Bruce Wright</td>\n",
       "      <td>2001</td>\n",
       "      <td>HarperFlamingo Canada</td>\n",
       "      <td>http://images.amazon.com/images/P/0002005018.0...</td>\n",
       "      <td>http://images.amazon.com/images/P/0002005018.0...</td>\n",
       "      <td>http://images.amazon.com/images/P/0002005018.0...</td>\n",
       "    </tr>\n",
       "    <tr>\n",
       "      <th>2</th>\n",
       "      <td>0060973129</td>\n",
       "      <td>Decision in Normandy</td>\n",
       "      <td>Carlo D'Este</td>\n",
       "      <td>1991</td>\n",
       "      <td>HarperPerennial</td>\n",
       "      <td>http://images.amazon.com/images/P/0060973129.0...</td>\n",
       "      <td>http://images.amazon.com/images/P/0060973129.0...</td>\n",
       "      <td>http://images.amazon.com/images/P/0060973129.0...</td>\n",
       "    </tr>\n",
       "    <tr>\n",
       "      <th>3</th>\n",
       "      <td>0374157065</td>\n",
       "      <td>Flu: The Story of the Great Influenza Pandemic...</td>\n",
       "      <td>Gina Bari Kolata</td>\n",
       "      <td>1999</td>\n",
       "      <td>Farrar Straus Giroux</td>\n",
       "      <td>http://images.amazon.com/images/P/0374157065.0...</td>\n",
       "      <td>http://images.amazon.com/images/P/0374157065.0...</td>\n",
       "      <td>http://images.amazon.com/images/P/0374157065.0...</td>\n",
       "    </tr>\n",
       "    <tr>\n",
       "      <th>4</th>\n",
       "      <td>0393045218</td>\n",
       "      <td>The Mummies of Urumchi</td>\n",
       "      <td>E. J. W. Barber</td>\n",
       "      <td>1999</td>\n",
       "      <td>W. W. Norton &amp;amp; Company</td>\n",
       "      <td>http://images.amazon.com/images/P/0393045218.0...</td>\n",
       "      <td>http://images.amazon.com/images/P/0393045218.0...</td>\n",
       "      <td>http://images.amazon.com/images/P/0393045218.0...</td>\n",
       "    </tr>\n",
       "  </tbody>\n",
       "</table>\n",
       "</div>"
      ],
      "text/plain": [
       "         ISBN                                         Book-Title  \\\n",
       "0  0195153448                                Classical Mythology   \n",
       "1  0002005018                                       Clara Callan   \n",
       "2  0060973129                               Decision in Normandy   \n",
       "3  0374157065  Flu: The Story of the Great Influenza Pandemic...   \n",
       "4  0393045218                             The Mummies of Urumchi   \n",
       "\n",
       "            Book-Author Year-Of-Publication                   Publisher  \\\n",
       "0    Mark P. O. Morford                2002     Oxford University Press   \n",
       "1  Richard Bruce Wright                2001       HarperFlamingo Canada   \n",
       "2          Carlo D'Este                1991             HarperPerennial   \n",
       "3      Gina Bari Kolata                1999        Farrar Straus Giroux   \n",
       "4       E. J. W. Barber                1999  W. W. Norton &amp; Company   \n",
       "\n",
       "                                         Image-URL-S  \\\n",
       "0  http://images.amazon.com/images/P/0195153448.0...   \n",
       "1  http://images.amazon.com/images/P/0002005018.0...   \n",
       "2  http://images.amazon.com/images/P/0060973129.0...   \n",
       "3  http://images.amazon.com/images/P/0374157065.0...   \n",
       "4  http://images.amazon.com/images/P/0393045218.0...   \n",
       "\n",
       "                                         Image-URL-M  \\\n",
       "0  http://images.amazon.com/images/P/0195153448.0...   \n",
       "1  http://images.amazon.com/images/P/0002005018.0...   \n",
       "2  http://images.amazon.com/images/P/0060973129.0...   \n",
       "3  http://images.amazon.com/images/P/0374157065.0...   \n",
       "4  http://images.amazon.com/images/P/0393045218.0...   \n",
       "\n",
       "                                         Image-URL-L  \n",
       "0  http://images.amazon.com/images/P/0195153448.0...  \n",
       "1  http://images.amazon.com/images/P/0002005018.0...  \n",
       "2  http://images.amazon.com/images/P/0060973129.0...  \n",
       "3  http://images.amazon.com/images/P/0374157065.0...  \n",
       "4  http://images.amazon.com/images/P/0393045218.0...  "
      ]
     },
     "execution_count": 5,
     "metadata": {},
     "output_type": "execute_result"
    }
   ],
   "source": [
    "#Exploring data\n",
    "books.head()"
   ]
  },
  {
   "cell_type": "code",
   "execution_count": 6,
   "metadata": {},
   "outputs": [
    {
     "data": {
      "text/html": [
       "<div>\n",
       "<style scoped>\n",
       "    .dataframe tbody tr th:only-of-type {\n",
       "        vertical-align: middle;\n",
       "    }\n",
       "\n",
       "    .dataframe tbody tr th {\n",
       "        vertical-align: top;\n",
       "    }\n",
       "\n",
       "    .dataframe thead th {\n",
       "        text-align: right;\n",
       "    }\n",
       "</style>\n",
       "<table border=\"1\" class=\"dataframe\">\n",
       "  <thead>\n",
       "    <tr style=\"text-align: right;\">\n",
       "      <th></th>\n",
       "      <th>User-ID</th>\n",
       "      <th>Location</th>\n",
       "      <th>Age</th>\n",
       "    </tr>\n",
       "  </thead>\n",
       "  <tbody>\n",
       "    <tr>\n",
       "      <th>0</th>\n",
       "      <td>1</td>\n",
       "      <td>nyc, new york, usa</td>\n",
       "      <td>NaN</td>\n",
       "    </tr>\n",
       "    <tr>\n",
       "      <th>1</th>\n",
       "      <td>2</td>\n",
       "      <td>stockton, california, usa</td>\n",
       "      <td>18.0</td>\n",
       "    </tr>\n",
       "    <tr>\n",
       "      <th>2</th>\n",
       "      <td>3</td>\n",
       "      <td>moscow, yukon territory, russia</td>\n",
       "      <td>NaN</td>\n",
       "    </tr>\n",
       "    <tr>\n",
       "      <th>3</th>\n",
       "      <td>4</td>\n",
       "      <td>porto, v.n.gaia, portugal</td>\n",
       "      <td>17.0</td>\n",
       "    </tr>\n",
       "    <tr>\n",
       "      <th>4</th>\n",
       "      <td>5</td>\n",
       "      <td>farnborough, hants, united kingdom</td>\n",
       "      <td>NaN</td>\n",
       "    </tr>\n",
       "  </tbody>\n",
       "</table>\n",
       "</div>"
      ],
      "text/plain": [
       "   User-ID                            Location   Age\n",
       "0        1                  nyc, new york, usa   NaN\n",
       "1        2           stockton, california, usa  18.0\n",
       "2        3     moscow, yukon territory, russia   NaN\n",
       "3        4           porto, v.n.gaia, portugal  17.0\n",
       "4        5  farnborough, hants, united kingdom   NaN"
      ]
     },
     "execution_count": 6,
     "metadata": {},
     "output_type": "execute_result"
    }
   ],
   "source": [
    "users.head()"
   ]
  },
  {
   "cell_type": "code",
   "execution_count": 7,
   "metadata": {},
   "outputs": [
    {
     "data": {
      "text/html": [
       "<div>\n",
       "<style scoped>\n",
       "    .dataframe tbody tr th:only-of-type {\n",
       "        vertical-align: middle;\n",
       "    }\n",
       "\n",
       "    .dataframe tbody tr th {\n",
       "        vertical-align: top;\n",
       "    }\n",
       "\n",
       "    .dataframe thead th {\n",
       "        text-align: right;\n",
       "    }\n",
       "</style>\n",
       "<table border=\"1\" class=\"dataframe\">\n",
       "  <thead>\n",
       "    <tr style=\"text-align: right;\">\n",
       "      <th></th>\n",
       "      <th>User-ID</th>\n",
       "      <th>ISBN</th>\n",
       "      <th>Book-Rating</th>\n",
       "    </tr>\n",
       "  </thead>\n",
       "  <tbody>\n",
       "    <tr>\n",
       "      <th>0</th>\n",
       "      <td>276725</td>\n",
       "      <td>034545104X</td>\n",
       "      <td>0</td>\n",
       "    </tr>\n",
       "    <tr>\n",
       "      <th>1</th>\n",
       "      <td>276726</td>\n",
       "      <td>0155061224</td>\n",
       "      <td>5</td>\n",
       "    </tr>\n",
       "    <tr>\n",
       "      <th>2</th>\n",
       "      <td>276727</td>\n",
       "      <td>0446520802</td>\n",
       "      <td>0</td>\n",
       "    </tr>\n",
       "    <tr>\n",
       "      <th>3</th>\n",
       "      <td>276729</td>\n",
       "      <td>052165615X</td>\n",
       "      <td>3</td>\n",
       "    </tr>\n",
       "    <tr>\n",
       "      <th>4</th>\n",
       "      <td>276729</td>\n",
       "      <td>0521795028</td>\n",
       "      <td>6</td>\n",
       "    </tr>\n",
       "  </tbody>\n",
       "</table>\n",
       "</div>"
      ],
      "text/plain": [
       "   User-ID        ISBN  Book-Rating\n",
       "0   276725  034545104X            0\n",
       "1   276726  0155061224            5\n",
       "2   276727  0446520802            0\n",
       "3   276729  052165615X            3\n",
       "4   276729  0521795028            6"
      ]
     },
     "execution_count": 7,
     "metadata": {},
     "output_type": "execute_result"
    }
   ],
   "source": [
    "ratings.head()"
   ]
  },
  {
   "cell_type": "code",
   "execution_count": 8,
   "metadata": {},
   "outputs": [
    {
     "name": "stdout",
     "output_type": "stream",
     "text": [
      "books dimension : (271360, 8)\n",
      "users dimension : (278858, 3)\n",
      "ratings dimension : (1149780, 3)\n"
     ]
    }
   ],
   "source": [
    "# Data dimensions\n",
    "print(\"books dimension : \"+str(books.shape))\n",
    "print(\"users dimension : \"+str(users.shape))\n",
    "print(\"ratings dimension : \"+str(ratings.shape))"
   ]
  },
  {
   "cell_type": "markdown",
   "metadata": {},
   "source": [
    "# BOOKS DATASET"
   ]
  },
  {
   "cell_type": "markdown",
   "metadata": {},
   "source": [
    "## DATA CLEANING ( BOOKS )"
   ]
  },
  {
   "cell_type": "code",
   "execution_count": 9,
   "metadata": {},
   "outputs": [],
   "source": [
    "# Renaming books's columns\n",
    "books.columns = ['ISBN', 'bookTitle', 'bookAuthor', 'yearOfPublication', 'publisher', 'imageUrlS', 'imageUrlM', 'imageUrlL']"
   ]
  },
  {
   "cell_type": "code",
   "execution_count": 10,
   "metadata": {},
   "outputs": [
    {
     "data": {
      "text/html": [
       "<div>\n",
       "<style scoped>\n",
       "    .dataframe tbody tr th:only-of-type {\n",
       "        vertical-align: middle;\n",
       "    }\n",
       "\n",
       "    .dataframe tbody tr th {\n",
       "        vertical-align: top;\n",
       "    }\n",
       "\n",
       "    .dataframe thead th {\n",
       "        text-align: right;\n",
       "    }\n",
       "</style>\n",
       "<table border=\"1\" class=\"dataframe\">\n",
       "  <thead>\n",
       "    <tr style=\"text-align: right;\">\n",
       "      <th></th>\n",
       "      <th>ISBN</th>\n",
       "      <th>bookTitle</th>\n",
       "      <th>bookAuthor</th>\n",
       "      <th>yearOfPublication</th>\n",
       "      <th>publisher</th>\n",
       "    </tr>\n",
       "  </thead>\n",
       "  <tbody>\n",
       "    <tr>\n",
       "      <th>0</th>\n",
       "      <td>0195153448</td>\n",
       "      <td>Classical Mythology</td>\n",
       "      <td>Mark P. O. Morford</td>\n",
       "      <td>2002</td>\n",
       "      <td>Oxford University Press</td>\n",
       "    </tr>\n",
       "    <tr>\n",
       "      <th>1</th>\n",
       "      <td>0002005018</td>\n",
       "      <td>Clara Callan</td>\n",
       "      <td>Richard Bruce Wright</td>\n",
       "      <td>2001</td>\n",
       "      <td>HarperFlamingo Canada</td>\n",
       "    </tr>\n",
       "    <tr>\n",
       "      <th>2</th>\n",
       "      <td>0060973129</td>\n",
       "      <td>Decision in Normandy</td>\n",
       "      <td>Carlo D'Este</td>\n",
       "      <td>1991</td>\n",
       "      <td>HarperPerennial</td>\n",
       "    </tr>\n",
       "    <tr>\n",
       "      <th>3</th>\n",
       "      <td>0374157065</td>\n",
       "      <td>Flu: The Story of the Great Influenza Pandemic...</td>\n",
       "      <td>Gina Bari Kolata</td>\n",
       "      <td>1999</td>\n",
       "      <td>Farrar Straus Giroux</td>\n",
       "    </tr>\n",
       "    <tr>\n",
       "      <th>4</th>\n",
       "      <td>0393045218</td>\n",
       "      <td>The Mummies of Urumchi</td>\n",
       "      <td>E. J. W. Barber</td>\n",
       "      <td>1999</td>\n",
       "      <td>W. W. Norton &amp;amp; Company</td>\n",
       "    </tr>\n",
       "  </tbody>\n",
       "</table>\n",
       "</div>"
      ],
      "text/plain": [
       "         ISBN                                          bookTitle  \\\n",
       "0  0195153448                                Classical Mythology   \n",
       "1  0002005018                                       Clara Callan   \n",
       "2  0060973129                               Decision in Normandy   \n",
       "3  0374157065  Flu: The Story of the Great Influenza Pandemic...   \n",
       "4  0393045218                             The Mummies of Urumchi   \n",
       "\n",
       "             bookAuthor yearOfPublication                   publisher  \n",
       "0    Mark P. O. Morford              2002     Oxford University Press  \n",
       "1  Richard Bruce Wright              2001       HarperFlamingo Canada  \n",
       "2          Carlo D'Este              1991             HarperPerennial  \n",
       "3      Gina Bari Kolata              1999        Farrar Straus Giroux  \n",
       "4       E. J. W. Barber              1999  W. W. Norton &amp; Company  "
      ]
     },
     "execution_count": 10,
     "metadata": {},
     "output_type": "execute_result"
    }
   ],
   "source": [
    "# Dropping books's last three columns containing image urls which will not be required for analysis\n",
    "books.drop(['imageUrlS', 'imageUrlM', 'imageUrlL'],axis=1,inplace=True)\n",
    "books.head()"
   ]
  },
  {
   "cell_type": "code",
   "execution_count": 11,
   "metadata": {},
   "outputs": [
    {
     "data": {
      "text/html": [
       "<div>\n",
       "<style scoped>\n",
       "    .dataframe tbody tr th:only-of-type {\n",
       "        vertical-align: middle;\n",
       "    }\n",
       "\n",
       "    .dataframe tbody tr th {\n",
       "        vertical-align: top;\n",
       "    }\n",
       "\n",
       "    .dataframe thead th {\n",
       "        text-align: right;\n",
       "    }\n",
       "</style>\n",
       "<table border=\"1\" class=\"dataframe\">\n",
       "  <thead>\n",
       "    <tr style=\"text-align: right;\">\n",
       "      <th></th>\n",
       "      <th>ISBN</th>\n",
       "      <th>bookTitle</th>\n",
       "      <th>bookAuthor</th>\n",
       "      <th>yearOfPublication</th>\n",
       "      <th>publisher</th>\n",
       "    </tr>\n",
       "  </thead>\n",
       "  <tbody>\n",
       "    <tr>\n",
       "      <th>count</th>\n",
       "      <td>271360</td>\n",
       "      <td>271360</td>\n",
       "      <td>271359</td>\n",
       "      <td>271360</td>\n",
       "      <td>271358</td>\n",
       "    </tr>\n",
       "    <tr>\n",
       "      <th>unique</th>\n",
       "      <td>271360</td>\n",
       "      <td>242135</td>\n",
       "      <td>102023</td>\n",
       "      <td>202</td>\n",
       "      <td>16807</td>\n",
       "    </tr>\n",
       "    <tr>\n",
       "      <th>top</th>\n",
       "      <td>0553218735</td>\n",
       "      <td>Selected Poems</td>\n",
       "      <td>Agatha Christie</td>\n",
       "      <td>2002</td>\n",
       "      <td>Harlequin</td>\n",
       "    </tr>\n",
       "    <tr>\n",
       "      <th>freq</th>\n",
       "      <td>1</td>\n",
       "      <td>27</td>\n",
       "      <td>632</td>\n",
       "      <td>13903</td>\n",
       "      <td>7535</td>\n",
       "    </tr>\n",
       "  </tbody>\n",
       "</table>\n",
       "</div>"
      ],
      "text/plain": [
       "              ISBN       bookTitle       bookAuthor  yearOfPublication  \\\n",
       "count       271360          271360           271359             271360   \n",
       "unique      271360          242135           102023                202   \n",
       "top     0553218735  Selected Poems  Agatha Christie               2002   \n",
       "freq             1              27              632              13903   \n",
       "\n",
       "        publisher  \n",
       "count      271358  \n",
       "unique      16807  \n",
       "top     Harlequin  \n",
       "freq         7535  "
      ]
     },
     "execution_count": 11,
     "metadata": {},
     "output_type": "execute_result"
    }
   ],
   "source": [
    "# Data description\n",
    "books.describe()"
   ]
  },
  {
   "cell_type": "code",
   "execution_count": 12,
   "metadata": {},
   "outputs": [
    {
     "data": {
      "text/plain": [
       "ISBN                 object\n",
       "bookTitle            object\n",
       "bookAuthor           object\n",
       "yearOfPublication    object\n",
       "publisher            object\n",
       "dtype: object"
      ]
     },
     "execution_count": 12,
     "metadata": {},
     "output_type": "execute_result"
    }
   ],
   "source": [
    "# Type of books's column\n",
    "books.dtypes"
   ]
  },
  {
   "cell_type": "code",
   "execution_count": 13,
   "metadata": {},
   "outputs": [
    {
     "data": {
      "text/plain": [
       "True"
      ]
     },
     "execution_count": 13,
     "metadata": {},
     "output_type": "execute_result"
    }
   ],
   "source": [
    "# ISBN's uniqueness\n",
    "books['ISBN'].is_unique"
   ]
  },
  {
   "cell_type": "code",
   "execution_count": 14,
   "metadata": {},
   "outputs": [
    {
     "data": {
      "text/plain": [
       "ISBN                 0\n",
       "bookTitle            0\n",
       "bookAuthor           1\n",
       "yearOfPublication    0\n",
       "publisher            2\n",
       "dtype: int64"
      ]
     },
     "execution_count": 14,
     "metadata": {},
     "output_type": "execute_result"
    }
   ],
   "source": [
    "# Find how much null data in each column\n",
    "books.isna().sum()"
   ]
  },
  {
   "cell_type": "code",
   "execution_count": 15,
   "metadata": {},
   "outputs": [
    {
     "data": {
      "text/plain": [
       "[187689]"
      ]
     },
     "execution_count": 15,
     "metadata": {},
     "output_type": "execute_result"
    }
   ],
   "source": [
    "# Find out index of null \"bookAuthor\" \n",
    "books[books['bookAuthor'].isnull()].index.tolist()"
   ]
  },
  {
   "cell_type": "code",
   "execution_count": 16,
   "metadata": {},
   "outputs": [
    {
     "data": {
      "text/plain": [
       "[128890, 129037]"
      ]
     },
     "execution_count": 16,
     "metadata": {},
     "output_type": "execute_result"
    }
   ],
   "source": [
    "# Find out index of null \"publisher\" \n",
    "books[books['publisher'].isnull()].index.tolist()"
   ]
  },
  {
   "cell_type": "code",
   "execution_count": 17,
   "metadata": {},
   "outputs": [
    {
     "data": {
      "text/plain": [
       "ISBN                                                        9627982032\n",
       "bookTitle            The Credit Suisse Guide to Managing Your Perso...\n",
       "bookAuthor                                                         NaN\n",
       "yearOfPublication                                                 1995\n",
       "publisher                               Edinburgh Financial Publishing\n",
       "Name: 187689, dtype: object"
      ]
     },
     "execution_count": 17,
     "metadata": {},
     "output_type": "execute_result"
    }
   ],
   "source": [
    "books.loc[187689]"
   ]
  },
  {
   "cell_type": "code",
   "execution_count": 18,
   "metadata": {},
   "outputs": [],
   "source": [
    "# Dropping rows containing missing values\n",
    "#books=books.drop([187689,128890, 129037])"
   ]
  },
  {
   "cell_type": "code",
   "execution_count": 19,
   "metadata": {},
   "outputs": [],
   "source": [
    "# Find how much null data in each column\n",
    "#books.isna().sum()"
   ]
  },
  {
   "cell_type": "code",
   "execution_count": 20,
   "metadata": {},
   "outputs": [
    {
     "data": {
      "text/html": [
       "<div>\n",
       "<style scoped>\n",
       "    .dataframe tbody tr th:only-of-type {\n",
       "        vertical-align: middle;\n",
       "    }\n",
       "\n",
       "    .dataframe tbody tr th {\n",
       "        vertical-align: top;\n",
       "    }\n",
       "\n",
       "    .dataframe thead th {\n",
       "        text-align: right;\n",
       "    }\n",
       "</style>\n",
       "<table border=\"1\" class=\"dataframe\">\n",
       "  <thead>\n",
       "    <tr style=\"text-align: right;\">\n",
       "      <th></th>\n",
       "      <th>ISBN</th>\n",
       "      <th>bookTitle</th>\n",
       "      <th>bookAuthor</th>\n",
       "      <th>yearOfPublication</th>\n",
       "      <th>publisher</th>\n",
       "    </tr>\n",
       "  </thead>\n",
       "  <tbody>\n",
       "    <tr>\n",
       "      <th>187689</th>\n",
       "      <td>9627982032</td>\n",
       "      <td>The Credit Suisse Guide to Managing Your Perso...</td>\n",
       "      <td>NaN</td>\n",
       "      <td>1995</td>\n",
       "      <td>Edinburgh Financial Publishing</td>\n",
       "    </tr>\n",
       "    <tr>\n",
       "      <th>128890</th>\n",
       "      <td>193169656X</td>\n",
       "      <td>Tyrant Moon</td>\n",
       "      <td>Elaine Corvidae</td>\n",
       "      <td>2002</td>\n",
       "      <td>NaN</td>\n",
       "    </tr>\n",
       "    <tr>\n",
       "      <th>129037</th>\n",
       "      <td>1931696993</td>\n",
       "      <td>Finders Keepers</td>\n",
       "      <td>Linnea Sinclair</td>\n",
       "      <td>2001</td>\n",
       "      <td>NaN</td>\n",
       "    </tr>\n",
       "  </tbody>\n",
       "</table>\n",
       "</div>"
      ],
      "text/plain": [
       "              ISBN                                          bookTitle  \\\n",
       "187689  9627982032  The Credit Suisse Guide to Managing Your Perso...   \n",
       "128890  193169656X                                        Tyrant Moon   \n",
       "129037  1931696993                                    Finders Keepers   \n",
       "\n",
       "             bookAuthor yearOfPublication                       publisher  \n",
       "187689              NaN              1995  Edinburgh Financial Publishing  \n",
       "128890  Elaine Corvidae              2002                             NaN  \n",
       "129037  Linnea Sinclair              2001                             NaN  "
      ]
     },
     "execution_count": 20,
     "metadata": {},
     "output_type": "execute_result"
    }
   ],
   "source": [
    "# Extracting data which containing missing values\n",
    "books.loc[[187689,128890, 129037],:]"
   ]
  },
  {
   "cell_type": "code",
   "execution_count": 21,
   "metadata": {},
   "outputs": [
    {
     "data": {
      "text/html": [
       "<div>\n",
       "<style scoped>\n",
       "    .dataframe tbody tr th:only-of-type {\n",
       "        vertical-align: middle;\n",
       "    }\n",
       "\n",
       "    .dataframe tbody tr th {\n",
       "        vertical-align: top;\n",
       "    }\n",
       "\n",
       "    .dataframe thead th {\n",
       "        text-align: right;\n",
       "    }\n",
       "</style>\n",
       "<table border=\"1\" class=\"dataframe\">\n",
       "  <thead>\n",
       "    <tr style=\"text-align: right;\">\n",
       "      <th></th>\n",
       "      <th>ISBN</th>\n",
       "      <th>bookTitle</th>\n",
       "      <th>bookAuthor</th>\n",
       "      <th>yearOfPublication</th>\n",
       "      <th>publisher</th>\n",
       "    </tr>\n",
       "  </thead>\n",
       "  <tbody>\n",
       "    <tr>\n",
       "      <th>187689</th>\n",
       "      <td>9627982032</td>\n",
       "      <td>The Credit Suisse Guide to Managing Your Perso...</td>\n",
       "      <td>NaN</td>\n",
       "      <td>1995</td>\n",
       "      <td>Edinburgh Financial Publishing</td>\n",
       "    </tr>\n",
       "  </tbody>\n",
       "</table>\n",
       "</div>"
      ],
      "text/plain": [
       "              ISBN                                          bookTitle  \\\n",
       "187689  9627982032  The Credit Suisse Guide to Managing Your Perso...   \n",
       "\n",
       "       bookAuthor yearOfPublication                       publisher  \n",
       "187689        NaN              1995  Edinburgh Financial Publishing  "
      ]
     },
     "execution_count": 21,
     "metadata": {},
     "output_type": "execute_result"
    }
   ],
   "source": [
    "# Checking all data published by 'Edinburgh Financial Publishing'\n",
    "books.groupby('publisher').get_group('Edinburgh Financial Publishing')"
   ]
  },
  {
   "cell_type": "code",
   "execution_count": 22,
   "metadata": {},
   "outputs": [
    {
     "data": {
      "text/html": [
       "<div>\n",
       "<style scoped>\n",
       "    .dataframe tbody tr th:only-of-type {\n",
       "        vertical-align: middle;\n",
       "    }\n",
       "\n",
       "    .dataframe tbody tr th {\n",
       "        vertical-align: top;\n",
       "    }\n",
       "\n",
       "    .dataframe thead th {\n",
       "        text-align: right;\n",
       "    }\n",
       "</style>\n",
       "<table border=\"1\" class=\"dataframe\">\n",
       "  <thead>\n",
       "    <tr style=\"text-align: right;\">\n",
       "      <th></th>\n",
       "      <th>ISBN</th>\n",
       "      <th>bookTitle</th>\n",
       "      <th>bookAuthor</th>\n",
       "      <th>yearOfPublication</th>\n",
       "      <th>publisher</th>\n",
       "    </tr>\n",
       "  </thead>\n",
       "  <tbody>\n",
       "    <tr>\n",
       "      <th>126762</th>\n",
       "      <td>1931696934</td>\n",
       "      <td>Winter's Orphans</td>\n",
       "      <td>Elaine Corvidae</td>\n",
       "      <td>2001</td>\n",
       "      <td>Novelbooks</td>\n",
       "    </tr>\n",
       "    <tr>\n",
       "      <th>128890</th>\n",
       "      <td>193169656X</td>\n",
       "      <td>Tyrant Moon</td>\n",
       "      <td>Elaine Corvidae</td>\n",
       "      <td>2002</td>\n",
       "      <td>NaN</td>\n",
       "    </tr>\n",
       "    <tr>\n",
       "      <th>129001</th>\n",
       "      <td>0759901880</td>\n",
       "      <td>Wolfkin</td>\n",
       "      <td>Elaine Corvidae</td>\n",
       "      <td>2001</td>\n",
       "      <td>Hard Shell Word Factory</td>\n",
       "    </tr>\n",
       "  </tbody>\n",
       "</table>\n",
       "</div>"
      ],
      "text/plain": [
       "              ISBN         bookTitle       bookAuthor yearOfPublication  \\\n",
       "126762  1931696934  Winter's Orphans  Elaine Corvidae              2001   \n",
       "128890  193169656X       Tyrant Moon  Elaine Corvidae              2002   \n",
       "129001  0759901880           Wolfkin  Elaine Corvidae              2001   \n",
       "\n",
       "                      publisher  \n",
       "126762               Novelbooks  \n",
       "128890                      NaN  \n",
       "129001  Hard Shell Word Factory  "
      ]
     },
     "execution_count": 22,
     "metadata": {},
     "output_type": "execute_result"
    }
   ],
   "source": [
    "# Checking data by 'bookAuthor'\n",
    "books.groupby('bookAuthor').get_group('Elaine Corvidae')"
   ]
  },
  {
   "cell_type": "code",
   "execution_count": 23,
   "metadata": {},
   "outputs": [
    {
     "data": {
      "text/html": [
       "<div>\n",
       "<style scoped>\n",
       "    .dataframe tbody tr th:only-of-type {\n",
       "        vertical-align: middle;\n",
       "    }\n",
       "\n",
       "    .dataframe tbody tr th {\n",
       "        vertical-align: top;\n",
       "    }\n",
       "\n",
       "    .dataframe thead th {\n",
       "        text-align: right;\n",
       "    }\n",
       "</style>\n",
       "<table border=\"1\" class=\"dataframe\">\n",
       "  <thead>\n",
       "    <tr style=\"text-align: right;\">\n",
       "      <th></th>\n",
       "      <th>ISBN</th>\n",
       "      <th>bookTitle</th>\n",
       "      <th>bookAuthor</th>\n",
       "      <th>yearOfPublication</th>\n",
       "      <th>publisher</th>\n",
       "    </tr>\n",
       "  </thead>\n",
       "  <tbody>\n",
       "    <tr>\n",
       "      <th>129037</th>\n",
       "      <td>1931696993</td>\n",
       "      <td>Finders Keepers</td>\n",
       "      <td>Linnea Sinclair</td>\n",
       "      <td>2001</td>\n",
       "      <td>NaN</td>\n",
       "    </tr>\n",
       "  </tbody>\n",
       "</table>\n",
       "</div>"
      ],
      "text/plain": [
       "              ISBN        bookTitle       bookAuthor yearOfPublication  \\\n",
       "129037  1931696993  Finders Keepers  Linnea Sinclair              2001   \n",
       "\n",
       "       publisher  \n",
       "129037       NaN  "
      ]
     },
     "execution_count": 23,
     "metadata": {},
     "output_type": "execute_result"
    }
   ],
   "source": [
    "books.groupby('bookAuthor').get_group('Linnea Sinclair')"
   ]
  },
  {
   "cell_type": "code",
   "execution_count": 24,
   "metadata": {},
   "outputs": [
    {
     "data": {
      "text/html": [
       "<div>\n",
       "<style scoped>\n",
       "    .dataframe tbody tr th:only-of-type {\n",
       "        vertical-align: middle;\n",
       "    }\n",
       "\n",
       "    .dataframe tbody tr th {\n",
       "        vertical-align: top;\n",
       "    }\n",
       "\n",
       "    .dataframe thead th {\n",
       "        text-align: right;\n",
       "    }\n",
       "</style>\n",
       "<table border=\"1\" class=\"dataframe\">\n",
       "  <thead>\n",
       "    <tr style=\"text-align: right;\">\n",
       "      <th></th>\n",
       "      <th>ISBN</th>\n",
       "      <th>bookTitle</th>\n",
       "      <th>bookAuthor</th>\n",
       "      <th>yearOfPublication</th>\n",
       "      <th>publisher</th>\n",
       "    </tr>\n",
       "  </thead>\n",
       "  <tbody>\n",
       "    <tr>\n",
       "      <th>128890</th>\n",
       "      <td>193169656X</td>\n",
       "      <td>Tyrant Moon</td>\n",
       "      <td>Elaine Corvidae</td>\n",
       "      <td>2002</td>\n",
       "      <td>NaN</td>\n",
       "    </tr>\n",
       "  </tbody>\n",
       "</table>\n",
       "</div>"
      ],
      "text/plain": [
       "              ISBN    bookTitle       bookAuthor yearOfPublication publisher\n",
       "128890  193169656X  Tyrant Moon  Elaine Corvidae              2002       NaN"
      ]
     },
     "execution_count": 24,
     "metadata": {},
     "output_type": "execute_result"
    }
   ],
   "source": [
    "# Checking data by 'bookTitle'\n",
    "books.groupby('bookTitle').get_group('Tyrant Moon')"
   ]
  },
  {
   "cell_type": "code",
   "execution_count": 25,
   "metadata": {},
   "outputs": [
    {
     "data": {
      "text/html": [
       "<div>\n",
       "<style scoped>\n",
       "    .dataframe tbody tr th:only-of-type {\n",
       "        vertical-align: middle;\n",
       "    }\n",
       "\n",
       "    .dataframe tbody tr th {\n",
       "        vertical-align: top;\n",
       "    }\n",
       "\n",
       "    .dataframe thead th {\n",
       "        text-align: right;\n",
       "    }\n",
       "</style>\n",
       "<table border=\"1\" class=\"dataframe\">\n",
       "  <thead>\n",
       "    <tr style=\"text-align: right;\">\n",
       "      <th></th>\n",
       "      <th>ISBN</th>\n",
       "      <th>bookTitle</th>\n",
       "      <th>bookAuthor</th>\n",
       "      <th>yearOfPublication</th>\n",
       "      <th>publisher</th>\n",
       "    </tr>\n",
       "  </thead>\n",
       "  <tbody>\n",
       "    <tr>\n",
       "      <th>10799</th>\n",
       "      <td>082177364X</td>\n",
       "      <td>Finders Keepers</td>\n",
       "      <td>Fern Michaels</td>\n",
       "      <td>2002</td>\n",
       "      <td>Zebra Books</td>\n",
       "    </tr>\n",
       "    <tr>\n",
       "      <th>42019</th>\n",
       "      <td>0070465037</td>\n",
       "      <td>Finders Keepers</td>\n",
       "      <td>Barbara Nickolae</td>\n",
       "      <td>1989</td>\n",
       "      <td>McGraw-Hill Companies</td>\n",
       "    </tr>\n",
       "    <tr>\n",
       "      <th>58264</th>\n",
       "      <td>0688118461</td>\n",
       "      <td>Finders Keepers</td>\n",
       "      <td>Emily Rodda</td>\n",
       "      <td>1993</td>\n",
       "      <td>Harpercollins Juvenile Books</td>\n",
       "    </tr>\n",
       "    <tr>\n",
       "      <th>66678</th>\n",
       "      <td>1575663236</td>\n",
       "      <td>Finders Keepers</td>\n",
       "      <td>Fern Michaels</td>\n",
       "      <td>1998</td>\n",
       "      <td>Kensington Publishing Corporation</td>\n",
       "    </tr>\n",
       "    <tr>\n",
       "      <th>129037</th>\n",
       "      <td>1931696993</td>\n",
       "      <td>Finders Keepers</td>\n",
       "      <td>Linnea Sinclair</td>\n",
       "      <td>2001</td>\n",
       "      <td>NaN</td>\n",
       "    </tr>\n",
       "    <tr>\n",
       "      <th>134309</th>\n",
       "      <td>0156309505</td>\n",
       "      <td>Finders Keepers</td>\n",
       "      <td>Will</td>\n",
       "      <td>1989</td>\n",
       "      <td>Voyager Books</td>\n",
       "    </tr>\n",
       "    <tr>\n",
       "      <th>173473</th>\n",
       "      <td>0973146907</td>\n",
       "      <td>Finders Keepers</td>\n",
       "      <td>Sean M. Costello</td>\n",
       "      <td>2002</td>\n",
       "      <td>Red Tower Publications</td>\n",
       "    </tr>\n",
       "    <tr>\n",
       "      <th>195885</th>\n",
       "      <td>0061083909</td>\n",
       "      <td>Finders Keepers</td>\n",
       "      <td>Sharon Sala</td>\n",
       "      <td>2003</td>\n",
       "      <td>HarperTorch</td>\n",
       "    </tr>\n",
       "    <tr>\n",
       "      <th>211874</th>\n",
       "      <td>0373261160</td>\n",
       "      <td>Finders Keepers</td>\n",
       "      <td>Elizabeth Travis</td>\n",
       "      <td>1993</td>\n",
       "      <td>Worldwide Library</td>\n",
       "    </tr>\n",
       "  </tbody>\n",
       "</table>\n",
       "</div>"
      ],
      "text/plain": [
       "              ISBN        bookTitle        bookAuthor yearOfPublication  \\\n",
       "10799   082177364X  Finders Keepers     Fern Michaels              2002   \n",
       "42019   0070465037  Finders Keepers  Barbara Nickolae              1989   \n",
       "58264   0688118461  Finders Keepers       Emily Rodda              1993   \n",
       "66678   1575663236  Finders Keepers     Fern Michaels              1998   \n",
       "129037  1931696993  Finders Keepers   Linnea Sinclair              2001   \n",
       "134309  0156309505  Finders Keepers              Will              1989   \n",
       "173473  0973146907  Finders Keepers  Sean M. Costello              2002   \n",
       "195885  0061083909  Finders Keepers       Sharon Sala              2003   \n",
       "211874  0373261160  Finders Keepers  Elizabeth Travis              1993   \n",
       "\n",
       "                                publisher  \n",
       "10799                         Zebra Books  \n",
       "42019               McGraw-Hill Companies  \n",
       "58264        Harpercollins Juvenile Books  \n",
       "66678   Kensington Publishing Corporation  \n",
       "129037                                NaN  \n",
       "134309                      Voyager Books  \n",
       "173473             Red Tower Publications  \n",
       "195885                        HarperTorch  \n",
       "211874                  Worldwide Library  "
      ]
     },
     "execution_count": 25,
     "metadata": {},
     "output_type": "execute_result"
    }
   ],
   "source": [
    "books.groupby('bookTitle').get_group('Finders Keepers')"
   ]
  },
  {
   "cell_type": "code",
   "execution_count": 26,
   "metadata": {},
   "outputs": [],
   "source": [
    "books.fillna('Other',inplace=True)"
   ]
  },
  {
   "cell_type": "code",
   "execution_count": 27,
   "metadata": {},
   "outputs": [
    {
     "data": {
      "text/html": [
       "<div>\n",
       "<style scoped>\n",
       "    .dataframe tbody tr th:only-of-type {\n",
       "        vertical-align: middle;\n",
       "    }\n",
       "\n",
       "    .dataframe tbody tr th {\n",
       "        vertical-align: top;\n",
       "    }\n",
       "\n",
       "    .dataframe thead th {\n",
       "        text-align: right;\n",
       "    }\n",
       "</style>\n",
       "<table border=\"1\" class=\"dataframe\">\n",
       "  <thead>\n",
       "    <tr style=\"text-align: right;\">\n",
       "      <th></th>\n",
       "      <th>ISBN</th>\n",
       "      <th>bookTitle</th>\n",
       "      <th>bookAuthor</th>\n",
       "      <th>yearOfPublication</th>\n",
       "      <th>publisher</th>\n",
       "    </tr>\n",
       "  </thead>\n",
       "  <tbody>\n",
       "    <tr>\n",
       "      <th>187689</th>\n",
       "      <td>9627982032</td>\n",
       "      <td>The Credit Suisse Guide to Managing Your Perso...</td>\n",
       "      <td>Other</td>\n",
       "      <td>1995</td>\n",
       "      <td>Edinburgh Financial Publishing</td>\n",
       "    </tr>\n",
       "    <tr>\n",
       "      <th>128890</th>\n",
       "      <td>193169656X</td>\n",
       "      <td>Tyrant Moon</td>\n",
       "      <td>Elaine Corvidae</td>\n",
       "      <td>2002</td>\n",
       "      <td>Other</td>\n",
       "    </tr>\n",
       "    <tr>\n",
       "      <th>129037</th>\n",
       "      <td>1931696993</td>\n",
       "      <td>Finders Keepers</td>\n",
       "      <td>Linnea Sinclair</td>\n",
       "      <td>2001</td>\n",
       "      <td>Other</td>\n",
       "    </tr>\n",
       "  </tbody>\n",
       "</table>\n",
       "</div>"
      ],
      "text/plain": [
       "              ISBN                                          bookTitle  \\\n",
       "187689  9627982032  The Credit Suisse Guide to Managing Your Perso...   \n",
       "128890  193169656X                                        Tyrant Moon   \n",
       "129037  1931696993                                    Finders Keepers   \n",
       "\n",
       "             bookAuthor yearOfPublication                       publisher  \n",
       "187689            Other              1995  Edinburgh Financial Publishing  \n",
       "128890  Elaine Corvidae              2002                           Other  \n",
       "129037  Linnea Sinclair              2001                           Other  "
      ]
     },
     "execution_count": 27,
     "metadata": {},
     "output_type": "execute_result"
    }
   ],
   "source": [
    "# Checking that missing value are replaced \n",
    "books.loc[[187689,128890, 129037],:]"
   ]
  },
  {
   "cell_type": "code",
   "execution_count": 28,
   "metadata": {},
   "outputs": [
    {
     "data": {
      "text/plain": [
       "array([2002, 2001, 1991, 1999, 2000, 1993, 1996, 1988, 2004, 1998, 1994,\n",
       "       2003, 1997, 1983, 1979, 1995, 1982, 1985, 1992, 1986, 1978, 1980,\n",
       "       1952, 1987, 1990, 1981, 1989, 1984, 0, 1968, 1961, 1958, 1974,\n",
       "       1976, 1971, 1977, 1975, 1965, 1941, 1970, 1962, 1973, 1972, 1960,\n",
       "       1966, 1920, 1956, 1959, 1953, 1951, 1942, 1963, 1964, 1969, 1954,\n",
       "       1950, 1967, 2005, 1957, 1940, 1937, 1955, 1946, 1936, 1930, 2011,\n",
       "       1925, 1948, 1943, 1947, 1945, 1923, 2020, 1939, 1926, 1938, 2030,\n",
       "       1911, 1904, 1949, 1932, 1928, 1929, 1927, 1931, 1914, 2050, 1934,\n",
       "       1910, 1933, 1902, 1924, 1921, 1900, 2038, 2026, 1944, 1917, 1901,\n",
       "       2010, 1908, 1906, 1935, 1806, 2021, '2000', '1995', '1999', '2004',\n",
       "       '2003', '1990', '1994', '1986', '1989', '2002', '1981', '1993',\n",
       "       '1983', '1982', '1976', '1991', '1977', '1998', '1992', '1996',\n",
       "       '0', '1997', '2001', '1974', '1968', '1987', '1984', '1988',\n",
       "       '1963', '1956', '1970', '1985', '1978', '1973', '1980', '1979',\n",
       "       '1975', '1969', '1961', '1965', '1939', '1958', '1950', '1953',\n",
       "       '1966', '1971', '1959', '1972', '1955', '1957', '1945', '1960',\n",
       "       '1967', '1932', '1924', '1964', '2012', '1911', '1927', '1948',\n",
       "       '1962', '2006', '1952', '1940', '1951', '1931', '1954', '2005',\n",
       "       '1930', '1941', '1944', 'DK Publishing Inc', '1943', '1938',\n",
       "       '1900', '1942', '1923', '1920', '1933', 'Gallimard', '1909',\n",
       "       '1946', '2008', '1378', '2030', '1936', '1947', '2011', '2020',\n",
       "       '1919', '1949', '1922', '1897', '2024', '1376', '1926', '2037'],\n",
       "      dtype=object)"
      ]
     },
     "execution_count": 28,
     "metadata": {},
     "output_type": "execute_result"
    }
   ],
   "source": [
    "books['yearOfPublication'].unique()"
   ]
  },
  {
   "cell_type": "code",
   "execution_count": 29,
   "metadata": {},
   "outputs": [
    {
     "data": {
      "text/plain": [
       "[209538, 221678]"
      ]
     },
     "execution_count": 29,
     "metadata": {},
     "output_type": "execute_result"
    }
   ],
   "source": [
    "# Find out index of data which are not date\n",
    "books[books['yearOfPublication']=='DK Publishing Inc'].index.tolist()"
   ]
  },
  {
   "cell_type": "code",
   "execution_count": 30,
   "metadata": {},
   "outputs": [
    {
     "data": {
      "text/plain": [
       "[220731]"
      ]
     },
     "execution_count": 30,
     "metadata": {},
     "output_type": "execute_result"
    }
   ],
   "source": [
    "books[books['yearOfPublication']=='Gallimard'].index.tolist()"
   ]
  },
  {
   "cell_type": "code",
   "execution_count": 31,
   "metadata": {},
   "outputs": [
    {
     "data": {
      "text/html": [
       "<div>\n",
       "<style scoped>\n",
       "    .dataframe tbody tr th:only-of-type {\n",
       "        vertical-align: middle;\n",
       "    }\n",
       "\n",
       "    .dataframe tbody tr th {\n",
       "        vertical-align: top;\n",
       "    }\n",
       "\n",
       "    .dataframe thead th {\n",
       "        text-align: right;\n",
       "    }\n",
       "</style>\n",
       "<table border=\"1\" class=\"dataframe\">\n",
       "  <thead>\n",
       "    <tr style=\"text-align: right;\">\n",
       "      <th></th>\n",
       "      <th>ISBN</th>\n",
       "      <th>bookTitle</th>\n",
       "      <th>bookAuthor</th>\n",
       "      <th>yearOfPublication</th>\n",
       "      <th>publisher</th>\n",
       "    </tr>\n",
       "  </thead>\n",
       "  <tbody>\n",
       "    <tr>\n",
       "      <th>209538</th>\n",
       "      <td>078946697X</td>\n",
       "      <td>DK Readers: Creating the X-Men, How It All Beg...</td>\n",
       "      <td>2000</td>\n",
       "      <td>DK Publishing Inc</td>\n",
       "      <td>http://images.amazon.com/images/P/078946697X.0...</td>\n",
       "    </tr>\n",
       "    <tr>\n",
       "      <th>221678</th>\n",
       "      <td>0789466953</td>\n",
       "      <td>DK Readers: Creating the X-Men, How Comic Book...</td>\n",
       "      <td>2000</td>\n",
       "      <td>DK Publishing Inc</td>\n",
       "      <td>http://images.amazon.com/images/P/0789466953.0...</td>\n",
       "    </tr>\n",
       "    <tr>\n",
       "      <th>220731</th>\n",
       "      <td>2070426769</td>\n",
       "      <td>Peuple du ciel, suivi de 'Les Bergers\\\";Jean-M...</td>\n",
       "      <td>2003</td>\n",
       "      <td>Gallimard</td>\n",
       "      <td>http://images.amazon.com/images/P/2070426769.0...</td>\n",
       "    </tr>\n",
       "  </tbody>\n",
       "</table>\n",
       "</div>"
      ],
      "text/plain": [
       "              ISBN                                          bookTitle  \\\n",
       "209538  078946697X  DK Readers: Creating the X-Men, How It All Beg...   \n",
       "221678  0789466953  DK Readers: Creating the X-Men, How Comic Book...   \n",
       "220731  2070426769  Peuple du ciel, suivi de 'Les Bergers\\\";Jean-M...   \n",
       "\n",
       "       bookAuthor  yearOfPublication  \\\n",
       "209538       2000  DK Publishing Inc   \n",
       "221678       2000  DK Publishing Inc   \n",
       "220731       2003          Gallimard   \n",
       "\n",
       "                                                publisher  \n",
       "209538  http://images.amazon.com/images/P/078946697X.0...  \n",
       "221678  http://images.amazon.com/images/P/0789466953.0...  \n",
       "220731  http://images.amazon.com/images/P/2070426769.0...  "
      ]
     },
     "execution_count": 31,
     "metadata": {},
     "output_type": "execute_result"
    }
   ],
   "source": [
    "books.loc[[209538, 221678,220731],:]"
   ]
  },
  {
   "cell_type": "code",
   "execution_count": 32,
   "metadata": {},
   "outputs": [],
   "source": [
    "# Data correction\n",
    "books.loc[209538,'bookTitle']='DK Readers: Creating the X-Men, How It All Began (Level 4: Proficient Readers)'\n",
    "books.loc[209538,'bookAuthor']='Michael Teitelbaum'\n",
    "books.loc[209538,'yearOfPublication']=2000\n",
    "books.loc[209538,'publisher']='DK Publishing Inc'\n",
    "\n",
    "books.loc[221678,'bookTitle']='DK Readers: Creating the X-Men, How Comic Books Come to Life (Level 4: Proficient Readers)'\n",
    "books.loc[221678,'bookAuthor']='James Buckley'\n",
    "books.loc[221678,'yearOfPublication']=2000\n",
    "books.loc[221678,'publisher']='DK Publishing Inc'\n",
    "\n",
    "books.loc[220731,'bookTitle']='Peuple du ciel, suivi de Les Bergers'\n",
    "books.loc[220731,'bookAuthor']='Jean-Marie Gustave Le ClÃ?Â©zio'\n",
    "books.loc[220731,'yearOfPublication']=2003\n",
    "books.loc[220731,'publisher']='Gallimard'"
   ]
  },
  {
   "cell_type": "code",
   "execution_count": 33,
   "metadata": {},
   "outputs": [
    {
     "data": {
      "text/html": [
       "<div>\n",
       "<style scoped>\n",
       "    .dataframe tbody tr th:only-of-type {\n",
       "        vertical-align: middle;\n",
       "    }\n",
       "\n",
       "    .dataframe tbody tr th {\n",
       "        vertical-align: top;\n",
       "    }\n",
       "\n",
       "    .dataframe thead th {\n",
       "        text-align: right;\n",
       "    }\n",
       "</style>\n",
       "<table border=\"1\" class=\"dataframe\">\n",
       "  <thead>\n",
       "    <tr style=\"text-align: right;\">\n",
       "      <th></th>\n",
       "      <th>ISBN</th>\n",
       "      <th>bookTitle</th>\n",
       "      <th>bookAuthor</th>\n",
       "      <th>yearOfPublication</th>\n",
       "      <th>publisher</th>\n",
       "    </tr>\n",
       "  </thead>\n",
       "  <tbody>\n",
       "    <tr>\n",
       "      <th>209538</th>\n",
       "      <td>078946697X</td>\n",
       "      <td>DK Readers: Creating the X-Men, How It All Beg...</td>\n",
       "      <td>Michael Teitelbaum</td>\n",
       "      <td>2000</td>\n",
       "      <td>DK Publishing Inc</td>\n",
       "    </tr>\n",
       "    <tr>\n",
       "      <th>221678</th>\n",
       "      <td>0789466953</td>\n",
       "      <td>DK Readers: Creating the X-Men, How Comic Book...</td>\n",
       "      <td>James Buckley</td>\n",
       "      <td>2000</td>\n",
       "      <td>DK Publishing Inc</td>\n",
       "    </tr>\n",
       "    <tr>\n",
       "      <th>220731</th>\n",
       "      <td>2070426769</td>\n",
       "      <td>Peuple du ciel, suivi de Les Bergers</td>\n",
       "      <td>Jean-Marie Gustave Le ClÃ?Â©zio</td>\n",
       "      <td>2003</td>\n",
       "      <td>Gallimard</td>\n",
       "    </tr>\n",
       "  </tbody>\n",
       "</table>\n",
       "</div>"
      ],
      "text/plain": [
       "              ISBN                                          bookTitle  \\\n",
       "209538  078946697X  DK Readers: Creating the X-Men, How It All Beg...   \n",
       "221678  0789466953  DK Readers: Creating the X-Men, How Comic Book...   \n",
       "220731  2070426769               Peuple du ciel, suivi de Les Bergers   \n",
       "\n",
       "                             bookAuthor yearOfPublication          publisher  \n",
       "209538               Michael Teitelbaum              2000  DK Publishing Inc  \n",
       "221678                    James Buckley              2000  DK Publishing Inc  \n",
       "220731  Jean-Marie Gustave Le ClÃ?Â©zio              2003          Gallimard  "
      ]
     },
     "execution_count": 33,
     "metadata": {},
     "output_type": "execute_result"
    }
   ],
   "source": [
    "# Checking corrected data  \n",
    "books.loc[[209538, 221678,220731],:]"
   ]
  },
  {
   "cell_type": "code",
   "execution_count": 34,
   "metadata": {},
   "outputs": [],
   "source": [
    "# Transforming data from object to numeric\n",
    "books.yearOfPublication=pd.to_numeric(books.yearOfPublication, errors='coerce')"
   ]
  },
  {
   "cell_type": "code",
   "execution_count": 35,
   "metadata": {},
   "outputs": [],
   "source": [
    "# Extracting data that have yearOfPublication > 2004 and = 0\n",
    "a=books[books['yearOfPublication']>2004]\n",
    "b=books[books['yearOfPublication']==0]\n"
   ]
  },
  {
   "cell_type": "code",
   "execution_count": 36,
   "metadata": {},
   "outputs": [
    {
     "data": {
      "text/plain": [
       "[253750]"
      ]
     },
     "execution_count": 36,
     "metadata": {},
     "output_type": "execute_result"
    }
   ],
   "source": [
    "# index of yearOfPublication = 1376\n",
    "books[books['yearOfPublication']==1376].index.tolist()"
   ]
  },
  {
   "cell_type": "code",
   "execution_count": 37,
   "metadata": {},
   "outputs": [
    {
     "data": {
      "text/plain": [
       "[227531]"
      ]
     },
     "execution_count": 37,
     "metadata": {},
     "output_type": "execute_result"
    }
   ],
   "source": [
    "# index of yearOfPublication = 1378\n",
    "books[books['yearOfPublication']==1378].index.tolist()"
   ]
  },
  {
   "cell_type": "code",
   "execution_count": 38,
   "metadata": {},
   "outputs": [
    {
     "data": {
      "text/plain": [
       "1960"
      ]
     },
     "execution_count": 38,
     "metadata": {},
     "output_type": "execute_result"
    }
   ],
   "source": [
    "# Calculating yearOfPublication's mean\n",
    "m=round(books['yearOfPublication'].mean())\n",
    "m"
   ]
  },
  {
   "cell_type": "code",
   "execution_count": 39,
   "metadata": {},
   "outputs": [
    {
     "name": "stdout",
     "output_type": "stream",
     "text": [
      "72\n",
      "4618\n"
     ]
    }
   ],
   "source": [
    "print(a.shape[0])\n",
    "print(b.shape[0])"
   ]
  },
  {
   "cell_type": "code",
   "execution_count": 40,
   "metadata": {},
   "outputs": [
    {
     "data": {
      "text/plain": [
       "1.7283313679245282"
      ]
     },
     "execution_count": 40,
     "metadata": {},
     "output_type": "execute_result"
    }
   ],
   "source": [
    "# Proportion of data having yearOfPublication > 2004 and =0\n",
    "\n",
    "((a.shape[0]+b.shape[0])/books.shape[0])*100\n"
   ]
  },
  {
   "cell_type": "code",
   "execution_count": 41,
   "metadata": {},
   "outputs": [],
   "source": [
    "# Find out index of data having yearOfPublication > 2004\n",
    "l=books[books['yearOfPublication']>2004].index.tolist()"
   ]
  },
  {
   "cell_type": "code",
   "execution_count": 42,
   "metadata": {},
   "outputs": [],
   "source": [
    "# Find out index of data having yearOfPublication=0\n",
    "k=books[books['yearOfPublication']==0].index.tolist()"
   ]
  },
  {
   "cell_type": "code",
   "execution_count": 43,
   "metadata": {},
   "outputs": [
    {
     "data": {
      "text/plain": [
       "4692"
      ]
     },
     "execution_count": 43,
     "metadata": {},
     "output_type": "execute_result"
    }
   ],
   "source": [
    "# Creating list of index of data having yearOfPublication >2004 and =0\n",
    "z=l+k\n",
    "z.append(253750)\n",
    "z.append(227531)\n",
    "len(z)"
   ]
  },
  {
   "cell_type": "code",
   "execution_count": 44,
   "metadata": {},
   "outputs": [
    {
     "data": {
      "text/plain": [
       "ISBN                                      3150000335\n",
       "bookTitle                           Kabale Und Liebe\n",
       "bookAuthor                                  Schiller\n",
       "yearOfPublication                                  0\n",
       "publisher            Philipp Reclam, Jun Verlag GmbH\n",
       "Name: 176, dtype: object"
      ]
     },
     "execution_count": 44,
     "metadata": {},
     "output_type": "execute_result"
    }
   ],
   "source": [
    "books.loc[176]"
   ]
  },
  {
   "cell_type": "code",
   "execution_count": 45,
   "metadata": {},
   "outputs": [],
   "source": [
    "# Setting incorrected yearOfPublication to yearOfPublication's mean because books dataset was published in 2004 \n",
    "for i in z:\n",
    "    books.loc[i,'yearOfPublication']=m    "
   ]
  },
  {
   "cell_type": "code",
   "execution_count": 46,
   "metadata": {},
   "outputs": [
    {
     "data": {
      "text/html": [
       "<div>\n",
       "<style scoped>\n",
       "    .dataframe tbody tr th:only-of-type {\n",
       "        vertical-align: middle;\n",
       "    }\n",
       "\n",
       "    .dataframe tbody tr th {\n",
       "        vertical-align: top;\n",
       "    }\n",
       "\n",
       "    .dataframe thead th {\n",
       "        text-align: right;\n",
       "    }\n",
       "</style>\n",
       "<table border=\"1\" class=\"dataframe\">\n",
       "  <thead>\n",
       "    <tr style=\"text-align: right;\">\n",
       "      <th></th>\n",
       "      <th>ISBN</th>\n",
       "      <th>bookTitle</th>\n",
       "      <th>bookAuthor</th>\n",
       "      <th>yearOfPublication</th>\n",
       "      <th>publisher</th>\n",
       "    </tr>\n",
       "  </thead>\n",
       "  <tbody>\n",
       "  </tbody>\n",
       "</table>\n",
       "</div>"
      ],
      "text/plain": [
       "Empty DataFrame\n",
       "Columns: [ISBN, bookTitle, bookAuthor, yearOfPublication, publisher]\n",
       "Index: []"
      ]
     },
     "execution_count": 46,
     "metadata": {},
     "output_type": "execute_result"
    }
   ],
   "source": [
    "# Checking replaced data \n",
    "books[books['yearOfPublication']>2004]"
   ]
  },
  {
   "cell_type": "code",
   "execution_count": 47,
   "metadata": {},
   "outputs": [
    {
     "data": {
      "text/html": [
       "<div>\n",
       "<style scoped>\n",
       "    .dataframe tbody tr th:only-of-type {\n",
       "        vertical-align: middle;\n",
       "    }\n",
       "\n",
       "    .dataframe tbody tr th {\n",
       "        vertical-align: top;\n",
       "    }\n",
       "\n",
       "    .dataframe thead th {\n",
       "        text-align: right;\n",
       "    }\n",
       "</style>\n",
       "<table border=\"1\" class=\"dataframe\">\n",
       "  <thead>\n",
       "    <tr style=\"text-align: right;\">\n",
       "      <th></th>\n",
       "      <th>ISBN</th>\n",
       "      <th>bookTitle</th>\n",
       "      <th>bookAuthor</th>\n",
       "      <th>yearOfPublication</th>\n",
       "      <th>publisher</th>\n",
       "    </tr>\n",
       "  </thead>\n",
       "  <tbody>\n",
       "  </tbody>\n",
       "</table>\n",
       "</div>"
      ],
      "text/plain": [
       "Empty DataFrame\n",
       "Columns: [ISBN, bookTitle, bookAuthor, yearOfPublication, publisher]\n",
       "Index: []"
      ]
     },
     "execution_count": 47,
     "metadata": {},
     "output_type": "execute_result"
    }
   ],
   "source": [
    "books[books['yearOfPublication']==0]"
   ]
  },
  {
   "cell_type": "code",
   "execution_count": 48,
   "metadata": {},
   "outputs": [
    {
     "name": "stdout",
     "output_type": "stream",
     "text": [
      "[1806, 1897, 1900, 1901, 1902, 1904, 1906, 1908, 1909, 1910, 1911, 1914, 1917, 1919, 1920, 1921, 1922, 1923, 1924, 1925, 1926, 1927, 1928, 1929, 1930, 1931, 1932, 1933, 1934, 1935, 1936, 1937, 1938, 1939, 1940, 1941, 1942, 1943, 1944, 1945, 1946, 1947, 1948, 1949, 1950, 1951, 1952, 1953, 1954, 1955, 1956, 1957, 1958, 1959, 1960, 1961, 1962, 1963, 1964, 1965, 1966, 1967, 1968, 1969, 1970, 1971, 1972, 1973, 1974, 1975, 1976, 1977, 1978, 1979, 1980, 1981, 1982, 1983, 1984, 1985, 1986, 1987, 1988, 1989, 1990, 1991, 1992, 1993, 1994, 1995, 1996, 1997, 1998, 1999, 2000, 2001, 2002, 2003, 2004]\n"
     ]
    }
   ],
   "source": [
    "# Sorted yearOfPublication after cleaning\n",
    "print(sorted(books['yearOfPublication'].unique()))"
   ]
  },
  {
   "cell_type": "code",
   "execution_count": 49,
   "metadata": {},
   "outputs": [
    {
     "data": {
      "text/plain": [
       "ISBN                 0\n",
       "bookTitle            0\n",
       "bookAuthor           0\n",
       "yearOfPublication    0\n",
       "publisher            0\n",
       "dtype: int64"
      ]
     },
     "execution_count": 49,
     "metadata": {},
     "output_type": "execute_result"
    }
   ],
   "source": [
    "# Rechecking null data \n",
    "books.isna().sum()"
   ]
  },
  {
   "cell_type": "markdown",
   "metadata": {},
   "source": [
    "## DATA VISUALIZATION ( BOOKS )"
   ]
  },
  {
   "cell_type": "code",
   "execution_count": 50,
   "metadata": {},
   "outputs": [
    {
     "data": {
      "text/html": [
       "<div>\n",
       "<style scoped>\n",
       "    .dataframe tbody tr th:only-of-type {\n",
       "        vertical-align: middle;\n",
       "    }\n",
       "\n",
       "    .dataframe tbody tr th {\n",
       "        vertical-align: top;\n",
       "    }\n",
       "\n",
       "    .dataframe thead th {\n",
       "        text-align: right;\n",
       "    }\n",
       "</style>\n",
       "<table border=\"1\" class=\"dataframe\">\n",
       "  <thead>\n",
       "    <tr style=\"text-align: right;\">\n",
       "      <th></th>\n",
       "      <th>ISBN</th>\n",
       "      <th>bookTitle</th>\n",
       "      <th>bookAuthor</th>\n",
       "      <th>yearOfPublication</th>\n",
       "      <th>publisher</th>\n",
       "    </tr>\n",
       "  </thead>\n",
       "  <tbody>\n",
       "    <tr>\n",
       "      <th>0</th>\n",
       "      <td>0195153448</td>\n",
       "      <td>Classical Mythology</td>\n",
       "      <td>Mark P. O. Morford</td>\n",
       "      <td>2002</td>\n",
       "      <td>Oxford University Press</td>\n",
       "    </tr>\n",
       "    <tr>\n",
       "      <th>1</th>\n",
       "      <td>0002005018</td>\n",
       "      <td>Clara Callan</td>\n",
       "      <td>Richard Bruce Wright</td>\n",
       "      <td>2001</td>\n",
       "      <td>HarperFlamingo Canada</td>\n",
       "    </tr>\n",
       "    <tr>\n",
       "      <th>2</th>\n",
       "      <td>0060973129</td>\n",
       "      <td>Decision in Normandy</td>\n",
       "      <td>Carlo D'Este</td>\n",
       "      <td>1991</td>\n",
       "      <td>HarperPerennial</td>\n",
       "    </tr>\n",
       "    <tr>\n",
       "      <th>3</th>\n",
       "      <td>0374157065</td>\n",
       "      <td>Flu: The Story of the Great Influenza Pandemic...</td>\n",
       "      <td>Gina Bari Kolata</td>\n",
       "      <td>1999</td>\n",
       "      <td>Farrar Straus Giroux</td>\n",
       "    </tr>\n",
       "    <tr>\n",
       "      <th>4</th>\n",
       "      <td>0393045218</td>\n",
       "      <td>The Mummies of Urumchi</td>\n",
       "      <td>E. J. W. Barber</td>\n",
       "      <td>1999</td>\n",
       "      <td>W. W. Norton &amp;amp; Company</td>\n",
       "    </tr>\n",
       "  </tbody>\n",
       "</table>\n",
       "</div>"
      ],
      "text/plain": [
       "         ISBN                                          bookTitle  \\\n",
       "0  0195153448                                Classical Mythology   \n",
       "1  0002005018                                       Clara Callan   \n",
       "2  0060973129                               Decision in Normandy   \n",
       "3  0374157065  Flu: The Story of the Great Influenza Pandemic...   \n",
       "4  0393045218                             The Mummies of Urumchi   \n",
       "\n",
       "             bookAuthor  yearOfPublication                   publisher  \n",
       "0    Mark P. O. Morford               2002     Oxford University Press  \n",
       "1  Richard Bruce Wright               2001       HarperFlamingo Canada  \n",
       "2          Carlo D'Este               1991             HarperPerennial  \n",
       "3      Gina Bari Kolata               1999        Farrar Straus Giroux  \n",
       "4       E. J. W. Barber               1999  W. W. Norton &amp; Company  "
      ]
     },
     "execution_count": 50,
     "metadata": {},
     "output_type": "execute_result"
    }
   ],
   "source": [
    "books.head()"
   ]
  },
  {
   "cell_type": "code",
   "execution_count": 51,
   "metadata": {},
   "outputs": [
    {
     "data": {
      "text/plain": [
       "Text(0.5, 0, 'year of publication')"
      ]
     },
     "execution_count": 51,
     "metadata": {},
     "output_type": "execute_result"
    },
    {
     "data": {
      "image/png": "[encoded data removed]",
      "text/plain": [
       "<Figure size 1080x360 with 1 Axes>"
      ]
     },
     "metadata": {
      "needs_background": "light"
     },
     "output_type": "display_data"
    }
   ],
   "source": [
    "# Histogram of yearOfPublication\n",
    "books['yearOfPublication'].hist(figsize=(15,5))\n",
    "plt.xticks(range(1800,2010,10 ))\n",
    "plt.yticks(range(0,250000,20000))\n",
    "plt.ylabel('count')\n",
    "plt.xlabel('year of publication')"
   ]
  },
  {
   "cell_type": "code",
   "execution_count": 52,
   "metadata": {},
   "outputs": [
    {
     "data": {
      "text/plain": [
       "<matplotlib.axes._subplots.AxesSubplot at 0x249ee648a88>"
      ]
     },
     "execution_count": 52,
     "metadata": {},
     "output_type": "execute_result"
    },
    {
     "data": {
      "image/png": "[encoded data removed]",
      "text/plain": [
       "<Figure size 1440x360 with 1 Axes>"
      ]
     },
     "metadata": {
      "needs_background": "light"
     },
     "output_type": "display_data"
    }
   ],
   "source": [
    "books.boxplot(column='yearOfPublication',vert=False,figsize=(20,5))"
   ]
  },
  {
   "cell_type": "code",
   "execution_count": 53,
   "metadata": {},
   "outputs": [
    {
     "data": {
      "text/plain": [
       "242135"
      ]
     },
     "execution_count": 53,
     "metadata": {},
     "output_type": "execute_result"
    }
   ],
   "source": [
    "# total number of unique bookTitle\n",
    "len(books['bookTitle'].unique())"
   ]
  },
  {
   "cell_type": "code",
   "execution_count": 54,
   "metadata": {},
   "outputs": [
    {
     "data": {
      "text/plain": [
       "Selected Poems                                          27\n",
       "Little Women                                            24\n",
       "Wuthering Heights                                       21\n",
       "Dracula                                                 20\n",
       "The Secret Garden                                       20\n",
       "                                                        ..\n",
       "A Gambler's Magic (Heartspell)                           1\n",
       "JACK IN BOX                                              1\n",
       "MY DARLING MELISSA                                       1\n",
       "Copper Crown (Plume Contemporary Fiction)                1\n",
       "The Leap of the Deer: Memories of a Celtic Childhood     1\n",
       "Name: bookTitle, Length: 242135, dtype: int64"
      ]
     },
     "execution_count": 54,
     "metadata": {},
     "output_type": "execute_result"
    }
   ],
   "source": [
    "# Number of example for each bookTitle\n",
    "pub=books['bookTitle'].value_counts()\n",
    "pub"
   ]
  },
  {
   "cell_type": "code",
   "execution_count": 55,
   "metadata": {},
   "outputs": [],
   "source": [
    "# Top 10 bookTitle\n",
    "label=pub.index.tolist()[:10]"
   ]
  },
  {
   "cell_type": "code",
   "execution_count": 56,
   "metadata": {},
   "outputs": [
    {
     "data": {
      "text/plain": [
       "([<matplotlib.patches.Wedge at 0x249ee534348>,\n",
       "  <matplotlib.patches.Wedge at 0x249ee534e08>,\n",
       "  <matplotlib.patches.Wedge at 0x249ee53ea48>,\n",
       "  <matplotlib.patches.Wedge at 0x249ee547788>,\n",
       "  <matplotlib.patches.Wedge at 0x249ee54e708>,\n",
       "  <matplotlib.patches.Wedge at 0x249ee559408>,\n",
       "  <matplotlib.patches.Wedge at 0x249ee559e08>,\n",
       "  <matplotlib.patches.Wedge at 0x249ee5639c8>,\n",
       "  <matplotlib.patches.Wedge at 0x249ee54e448>,\n",
       "  <matplotlib.patches.Wedge at 0x249ee559148>],\n",
       " [Text(1.006273245548683, 0.4443131275271083, 'Selected Poems'),\n",
       "  Text(0.39736578620075114, 1.0257194703997088, 'Little Women'),\n",
       "  Text(-0.34957061467346645, 1.0429766945415486, 'Wuthering Heights'),\n",
       "  Text(-0.897816641803129, 0.6355511605695894, 'Dracula'),\n",
       "  Text(-1.0999999999999974, -7.724207464605884e-08, 'The Secret Garden'),\n",
       "  Text(-0.8978165525462292, -0.6355512866590738, 'Adventures of Huckleberry Finn'),\n",
       "  Text(-0.38152320181474636, -1.031717037989111, 'Jane Eyre'),\n",
       "  Text(0.23532650347492678, -1.0745331250186128, 'Pride and Prejudice'),\n",
       "  Text(0.7657474337057669, -0.7897030250499438, 'The Night Before Christmas'),\n",
       "  Text(1.0625184466801036, -0.2847008086825535, 'Great Expectations')],\n",
       " [Text(0.5488763157538269, 0.24235261501478628, '13.2%'),\n",
       "  Text(0.21674497429131878, 0.5594833474907501, '11.8%'),\n",
       "  Text(-0.19067488073098168, 0.5688963788408447, '10.3%'),\n",
       "  Text(-0.48971816825625214, 0.34666426940159417, '9.8%'),\n",
       "  Text(-0.5999999999999985, -4.213204071603209e-08, '9.8%'),\n",
       "  Text(-0.4897181195706704, -0.3466643381776766, '9.8%'),\n",
       "  Text(-0.20810356462622526, -0.5627547479940604, '9.3%'),\n",
       "  Text(0.12835991098632368, -0.5861089772828796, '8.8%'),\n",
       "  Text(0.4176804183849638, -0.4307471045726966, '8.8%'),\n",
       "  Text(0.5795555163709656, -0.1552913501904837, '8.3%')])"
      ]
     },
     "execution_count": 56,
     "metadata": {},
     "output_type": "execute_result"
    },
    {
     "data": {
      "image/png": "[encoded data removed]",
      "text/plain": [
       "<Figure size 432x288 with 1 Axes>"
      ]
     },
     "metadata": {},
     "output_type": "display_data"
    }
   ],
   "source": [
    "# Plot top 10 bookTitle\n",
    "plt.pie(pub.head(10), labels=label, autopct='%1.1f%%', shadow=True)"
   ]
  },
  {
   "cell_type": "markdown",
   "metadata": {},
   "source": [
    "# USERS DATASET "
   ]
  },
  {
   "cell_type": "markdown",
   "metadata": {},
   "source": [
    "## DATA CLEANING ( USERS )"
   ]
  },
  {
   "cell_type": "code",
   "execution_count": 57,
   "metadata": {},
   "outputs": [
    {
     "data": {
      "text/html": [
       "<div>\n",
       "<style scoped>\n",
       "    .dataframe tbody tr th:only-of-type {\n",
       "        vertical-align: middle;\n",
       "    }\n",
       "\n",
       "    .dataframe tbody tr th {\n",
       "        vertical-align: top;\n",
       "    }\n",
       "\n",
       "    .dataframe thead th {\n",
       "        text-align: right;\n",
       "    }\n",
       "</style>\n",
       "<table border=\"1\" class=\"dataframe\">\n",
       "  <thead>\n",
       "    <tr style=\"text-align: right;\">\n",
       "      <th></th>\n",
       "      <th>User-ID</th>\n",
       "      <th>Location</th>\n",
       "      <th>Age</th>\n",
       "    </tr>\n",
       "  </thead>\n",
       "  <tbody>\n",
       "    <tr>\n",
       "      <th>0</th>\n",
       "      <td>1</td>\n",
       "      <td>nyc, new york, usa</td>\n",
       "      <td>NaN</td>\n",
       "    </tr>\n",
       "    <tr>\n",
       "      <th>1</th>\n",
       "      <td>2</td>\n",
       "      <td>stockton, california, usa</td>\n",
       "      <td>18.0</td>\n",
       "    </tr>\n",
       "    <tr>\n",
       "      <th>2</th>\n",
       "      <td>3</td>\n",
       "      <td>moscow, yukon territory, russia</td>\n",
       "      <td>NaN</td>\n",
       "    </tr>\n",
       "    <tr>\n",
       "      <th>3</th>\n",
       "      <td>4</td>\n",
       "      <td>porto, v.n.gaia, portugal</td>\n",
       "      <td>17.0</td>\n",
       "    </tr>\n",
       "    <tr>\n",
       "      <th>4</th>\n",
       "      <td>5</td>\n",
       "      <td>farnborough, hants, united kingdom</td>\n",
       "      <td>NaN</td>\n",
       "    </tr>\n",
       "  </tbody>\n",
       "</table>\n",
       "</div>"
      ],
      "text/plain": [
       "   User-ID                            Location   Age\n",
       "0        1                  nyc, new york, usa   NaN\n",
       "1        2           stockton, california, usa  18.0\n",
       "2        3     moscow, yukon territory, russia   NaN\n",
       "3        4           porto, v.n.gaia, portugal  17.0\n",
       "4        5  farnborough, hants, united kingdom   NaN"
      ]
     },
     "execution_count": 57,
     "metadata": {},
     "output_type": "execute_result"
    }
   ],
   "source": [
    "# Viewing data\n",
    "users.head()"
   ]
  },
  {
   "cell_type": "code",
   "execution_count": 58,
   "metadata": {},
   "outputs": [
    {
     "data": {
      "text/plain": [
       "(278858, 3)"
      ]
     },
     "execution_count": 58,
     "metadata": {},
     "output_type": "execute_result"
    }
   ],
   "source": [
    "# Users's dimension\n",
    "users.shape"
   ]
  },
  {
   "cell_type": "code",
   "execution_count": 59,
   "metadata": {},
   "outputs": [],
   "source": [
    "# Renaming user's column\n",
    "users.columns=['User_id','Location','Age']"
   ]
  },
  {
   "cell_type": "code",
   "execution_count": 60,
   "metadata": {},
   "outputs": [
    {
     "data": {
      "text/html": [
       "<div>\n",
       "<style scoped>\n",
       "    .dataframe tbody tr th:only-of-type {\n",
       "        vertical-align: middle;\n",
       "    }\n",
       "\n",
       "    .dataframe tbody tr th {\n",
       "        vertical-align: top;\n",
       "    }\n",
       "\n",
       "    .dataframe thead th {\n",
       "        text-align: right;\n",
       "    }\n",
       "</style>\n",
       "<table border=\"1\" class=\"dataframe\">\n",
       "  <thead>\n",
       "    <tr style=\"text-align: right;\">\n",
       "      <th></th>\n",
       "      <th>User_id</th>\n",
       "      <th>Age</th>\n",
       "    </tr>\n",
       "  </thead>\n",
       "  <tbody>\n",
       "    <tr>\n",
       "      <th>count</th>\n",
       "      <td>278858.00000</td>\n",
       "      <td>168096.000000</td>\n",
       "    </tr>\n",
       "    <tr>\n",
       "      <th>mean</th>\n",
       "      <td>139429.50000</td>\n",
       "      <td>34.751434</td>\n",
       "    </tr>\n",
       "    <tr>\n",
       "      <th>std</th>\n",
       "      <td>80499.51502</td>\n",
       "      <td>14.428097</td>\n",
       "    </tr>\n",
       "    <tr>\n",
       "      <th>min</th>\n",
       "      <td>1.00000</td>\n",
       "      <td>0.000000</td>\n",
       "    </tr>\n",
       "    <tr>\n",
       "      <th>25%</th>\n",
       "      <td>69715.25000</td>\n",
       "      <td>24.000000</td>\n",
       "    </tr>\n",
       "    <tr>\n",
       "      <th>50%</th>\n",
       "      <td>139429.50000</td>\n",
       "      <td>32.000000</td>\n",
       "    </tr>\n",
       "    <tr>\n",
       "      <th>75%</th>\n",
       "      <td>209143.75000</td>\n",
       "      <td>44.000000</td>\n",
       "    </tr>\n",
       "    <tr>\n",
       "      <th>max</th>\n",
       "      <td>278858.00000</td>\n",
       "      <td>244.000000</td>\n",
       "    </tr>\n",
       "  </tbody>\n",
       "</table>\n",
       "</div>"
      ],
      "text/plain": [
       "            User_id            Age\n",
       "count  278858.00000  168096.000000\n",
       "mean   139429.50000      34.751434\n",
       "std     80499.51502      14.428097\n",
       "min         1.00000       0.000000\n",
       "25%     69715.25000      24.000000\n",
       "50%    139429.50000      32.000000\n",
       "75%    209143.75000      44.000000\n",
       "max    278858.00000     244.000000"
      ]
     },
     "execution_count": 60,
     "metadata": {},
     "output_type": "execute_result"
    }
   ],
   "source": [
    "# Users's descrition\n",
    "users.describe()"
   ]
  },
  {
   "cell_type": "code",
   "execution_count": 61,
   "metadata": {},
   "outputs": [
    {
     "data": {
      "text/plain": [
       "True"
      ]
     },
     "execution_count": 61,
     "metadata": {},
     "output_type": "execute_result"
    }
   ],
   "source": [
    "# User_id uniqueness\n",
    "users['User_id'].is_unique"
   ]
  },
  {
   "cell_type": "code",
   "execution_count": 62,
   "metadata": {},
   "outputs": [
    {
     "data": {
      "text/plain": [
       "User_id       int64\n",
       "Location     object\n",
       "Age         float64\n",
       "dtype: object"
      ]
     },
     "execution_count": 62,
     "metadata": {},
     "output_type": "execute_result"
    }
   ],
   "source": [
    "# Types of users's column\n",
    "users.dtypes"
   ]
  },
  {
   "cell_type": "code",
   "execution_count": 63,
   "metadata": {},
   "outputs": [
    {
     "data": {
      "text/plain": [
       "User_id          0\n",
       "Location         0\n",
       "Age         110762\n",
       "dtype: int64"
      ]
     },
     "execution_count": 63,
     "metadata": {},
     "output_type": "execute_result"
    }
   ],
   "source": [
    "# total null data \n",
    "users.isna().sum()"
   ]
  },
  {
   "cell_type": "code",
   "execution_count": 64,
   "metadata": {},
   "outputs": [
    {
     "data": {
      "text/plain": [
       "24.0     5687\n",
       "25.0     5618\n",
       "26.0     5547\n",
       "23.0     5456\n",
       "27.0     5383\n",
       "         ... \n",
       "175.0       1\n",
       "118.0       1\n",
       "156.0       1\n",
       "159.0       1\n",
       "138.0       1\n",
       "Name: Age, Length: 165, dtype: int64"
      ]
     },
     "execution_count": 64,
     "metadata": {},
     "output_type": "execute_result"
    }
   ],
   "source": [
    "# Occurence for each age \n",
    "users['Age'].value_counts()"
   ]
  },
  {
   "cell_type": "code",
   "execution_count": 65,
   "metadata": {},
   "outputs": [
    {
     "data": {
      "text/plain": [
       "<matplotlib.axes._subplots.AxesSubplot at 0x249ee599388>"
      ]
     },
     "execution_count": 65,
     "metadata": {},
     "output_type": "execute_result"
    },
    {
     "data": {
      "image/png": "[encoded data removed]",
      "text/plain": [
       "<Figure size 1080x360 with 1 Axes>"
      ]
     },
     "metadata": {
      "needs_background": "light"
     },
     "output_type": "display_data"
    }
   ],
   "source": [
    "# Age's histogramm\n",
    "users['Age'].hist(bins=40,figsize=(15,5))"
   ]
  },
  {
   "cell_type": "code",
   "execution_count": 66,
   "metadata": {},
   "outputs": [
    {
     "data": {
      "text/html": [
       "<div>\n",
       "<style scoped>\n",
       "    .dataframe tbody tr th:only-of-type {\n",
       "        vertical-align: middle;\n",
       "    }\n",
       "\n",
       "    .dataframe tbody tr th {\n",
       "        vertical-align: top;\n",
       "    }\n",
       "\n",
       "    .dataframe thead th {\n",
       "        text-align: right;\n",
       "    }\n",
       "</style>\n",
       "<table border=\"1\" class=\"dataframe\">\n",
       "  <thead>\n",
       "    <tr style=\"text-align: right;\">\n",
       "      <th></th>\n",
       "      <th>User_id</th>\n",
       "      <th>Location</th>\n",
       "      <th>Age</th>\n",
       "    </tr>\n",
       "  </thead>\n",
       "  <tbody>\n",
       "    <tr>\n",
       "      <th>0</th>\n",
       "      <td>1</td>\n",
       "      <td>nyc, new york, usa</td>\n",
       "      <td>NaN</td>\n",
       "    </tr>\n",
       "    <tr>\n",
       "      <th>2</th>\n",
       "      <td>3</td>\n",
       "      <td>moscow, yukon territory, russia</td>\n",
       "      <td>NaN</td>\n",
       "    </tr>\n",
       "    <tr>\n",
       "      <th>4</th>\n",
       "      <td>5</td>\n",
       "      <td>farnborough, hants, united kingdom</td>\n",
       "      <td>NaN</td>\n",
       "    </tr>\n",
       "    <tr>\n",
       "      <th>6</th>\n",
       "      <td>7</td>\n",
       "      <td>washington, dc, usa</td>\n",
       "      <td>NaN</td>\n",
       "    </tr>\n",
       "    <tr>\n",
       "      <th>7</th>\n",
       "      <td>8</td>\n",
       "      <td>timmins, ontario, canada</td>\n",
       "      <td>NaN</td>\n",
       "    </tr>\n",
       "    <tr>\n",
       "      <th>...</th>\n",
       "      <td>...</td>\n",
       "      <td>...</td>\n",
       "      <td>...</td>\n",
       "    </tr>\n",
       "    <tr>\n",
       "      <th>278849</th>\n",
       "      <td>278850</td>\n",
       "      <td>sergnano, lombardia, italy</td>\n",
       "      <td>NaN</td>\n",
       "    </tr>\n",
       "    <tr>\n",
       "      <th>278853</th>\n",
       "      <td>278854</td>\n",
       "      <td>portland, oregon, usa</td>\n",
       "      <td>NaN</td>\n",
       "    </tr>\n",
       "    <tr>\n",
       "      <th>278855</th>\n",
       "      <td>278856</td>\n",
       "      <td>brampton, ontario, canada</td>\n",
       "      <td>NaN</td>\n",
       "    </tr>\n",
       "    <tr>\n",
       "      <th>278856</th>\n",
       "      <td>278857</td>\n",
       "      <td>knoxville, tennessee, usa</td>\n",
       "      <td>NaN</td>\n",
       "    </tr>\n",
       "    <tr>\n",
       "      <th>278857</th>\n",
       "      <td>278858</td>\n",
       "      <td>dublin, n/a, ireland</td>\n",
       "      <td>NaN</td>\n",
       "    </tr>\n",
       "  </tbody>\n",
       "</table>\n",
       "<p>110762 rows × 3 columns</p>\n",
       "</div>"
      ],
      "text/plain": [
       "        User_id                            Location  Age\n",
       "0             1                  nyc, new york, usa  NaN\n",
       "2             3     moscow, yukon territory, russia  NaN\n",
       "4             5  farnborough, hants, united kingdom  NaN\n",
       "6             7                 washington, dc, usa  NaN\n",
       "7             8            timmins, ontario, canada  NaN\n",
       "...         ...                                 ...  ...\n",
       "278849   278850          sergnano, lombardia, italy  NaN\n",
       "278853   278854               portland, oregon, usa  NaN\n",
       "278855   278856           brampton, ontario, canada  NaN\n",
       "278856   278857           knoxville, tennessee, usa  NaN\n",
       "278857   278858                dublin, n/a, ireland  NaN\n",
       "\n",
       "[110762 rows x 3 columns]"
      ]
     },
     "execution_count": 66,
     "metadata": {},
     "output_type": "execute_result"
    }
   ],
   "source": [
    "# data which has nan age \n",
    "users[users['Age'].isna()]"
   ]
  },
  {
   "cell_type": "code",
   "execution_count": 67,
   "metadata": {},
   "outputs": [],
   "source": [
    "# Extracting index of data having age =nan , > 90 , < 5 which will not useful for madeling \n",
    "a=users[users['Age'].isna()].index.tolist()\n",
    "b=users[users['Age']<5].index.tolist()\n",
    "c=users[users['Age']>90].index.tolist()"
   ]
  },
  {
   "cell_type": "code",
   "execution_count": 68,
   "metadata": {},
   "outputs": [
    {
     "data": {
      "text/plain": [
       "112074"
      ]
     },
     "execution_count": 68,
     "metadata": {},
     "output_type": "execute_result"
    }
   ],
   "source": [
    "# list containing index of incorrected age \n",
    "l=a+b+c\n",
    "len(l)"
   ]
  },
  {
   "cell_type": "code",
   "execution_count": 69,
   "metadata": {},
   "outputs": [
    {
     "data": {
      "text/plain": [
       "35"
      ]
     },
     "execution_count": 69,
     "metadata": {},
     "output_type": "execute_result"
    }
   ],
   "source": [
    "# Mean of ages\n",
    "m=round(users['Age'].mean())\n",
    "m"
   ]
  },
  {
   "cell_type": "code",
   "execution_count": 70,
   "metadata": {},
   "outputs": [],
   "source": [
    "for i in l:\n",
    "    users.loc[i,'Age']=m"
   ]
  },
  {
   "cell_type": "code",
   "execution_count": 71,
   "metadata": {},
   "outputs": [
    {
     "data": {
      "text/plain": [
       "User_id     0\n",
       "Location    0\n",
       "Age         0\n",
       "dtype: int64"
      ]
     },
     "execution_count": 71,
     "metadata": {},
     "output_type": "execute_result"
    }
   ],
   "source": [
    "users.isna().sum()"
   ]
  },
  {
   "cell_type": "code",
   "execution_count": 72,
   "metadata": {},
   "outputs": [],
   "source": [
    "users['Age']=users['Age'].astype(int)"
   ]
  },
  {
   "cell_type": "code",
   "execution_count": 73,
   "metadata": {},
   "outputs": [
    {
     "data": {
      "text/plain": [
       "User_id      int64\n",
       "Location    object\n",
       "Age          int32\n",
       "dtype: object"
      ]
     },
     "execution_count": 73,
     "metadata": {},
     "output_type": "execute_result"
    }
   ],
   "source": [
    "users.dtypes"
   ]
  },
  {
   "cell_type": "code",
   "execution_count": 74,
   "metadata": {},
   "outputs": [
    {
     "data": {
      "text/html": [
       "<div>\n",
       "<style scoped>\n",
       "    .dataframe tbody tr th:only-of-type {\n",
       "        vertical-align: middle;\n",
       "    }\n",
       "\n",
       "    .dataframe tbody tr th {\n",
       "        vertical-align: top;\n",
       "    }\n",
       "\n",
       "    .dataframe thead th {\n",
       "        text-align: right;\n",
       "    }\n",
       "</style>\n",
       "<table border=\"1\" class=\"dataframe\">\n",
       "  <thead>\n",
       "    <tr style=\"text-align: right;\">\n",
       "      <th></th>\n",
       "      <th>User_id</th>\n",
       "      <th>Age</th>\n",
       "    </tr>\n",
       "  </thead>\n",
       "  <tbody>\n",
       "    <tr>\n",
       "      <th>count</th>\n",
       "      <td>278858.00000</td>\n",
       "      <td>278858.000000</td>\n",
       "    </tr>\n",
       "    <tr>\n",
       "      <th>mean</th>\n",
       "      <td>139429.50000</td>\n",
       "      <td>34.834830</td>\n",
       "    </tr>\n",
       "    <tr>\n",
       "      <th>std</th>\n",
       "      <td>80499.51502</td>\n",
       "      <td>10.507639</td>\n",
       "    </tr>\n",
       "    <tr>\n",
       "      <th>min</th>\n",
       "      <td>1.00000</td>\n",
       "      <td>5.000000</td>\n",
       "    </tr>\n",
       "    <tr>\n",
       "      <th>25%</th>\n",
       "      <td>69715.25000</td>\n",
       "      <td>29.000000</td>\n",
       "    </tr>\n",
       "    <tr>\n",
       "      <th>50%</th>\n",
       "      <td>139429.50000</td>\n",
       "      <td>35.000000</td>\n",
       "    </tr>\n",
       "    <tr>\n",
       "      <th>75%</th>\n",
       "      <td>209143.75000</td>\n",
       "      <td>35.000000</td>\n",
       "    </tr>\n",
       "    <tr>\n",
       "      <th>max</th>\n",
       "      <td>278858.00000</td>\n",
       "      <td>90.000000</td>\n",
       "    </tr>\n",
       "  </tbody>\n",
       "</table>\n",
       "</div>"
      ],
      "text/plain": [
       "            User_id            Age\n",
       "count  278858.00000  278858.000000\n",
       "mean   139429.50000      34.834830\n",
       "std     80499.51502      10.507639\n",
       "min         1.00000       5.000000\n",
       "25%     69715.25000      29.000000\n",
       "50%    139429.50000      35.000000\n",
       "75%    209143.75000      35.000000\n",
       "max    278858.00000      90.000000"
      ]
     },
     "execution_count": 74,
     "metadata": {},
     "output_type": "execute_result"
    }
   ],
   "source": [
    "users.describe()"
   ]
  },
  {
   "cell_type": "markdown",
   "metadata": {},
   "source": [
    "## DATA VISUALIZATION ( USERS )  "
   ]
  },
  {
   "cell_type": "code",
   "execution_count": 75,
   "metadata": {},
   "outputs": [
    {
     "data": {
      "text/plain": [
       "<matplotlib.axes._subplots.AxesSubplot at 0x249f7c51c88>"
      ]
     },
     "execution_count": 75,
     "metadata": {},
     "output_type": "execute_result"
    },
    {
     "data": {
      "image/png": "[encoded data removed]",
      "text/plain": [
       "<Figure size 1080x360 with 1 Axes>"
      ]
     },
     "metadata": {
      "needs_background": "light"
     },
     "output_type": "display_data"
    }
   ],
   "source": [
    "# Age's histogramm\n",
    "users['Age'].hist(bins=40,figsize=(15,5))"
   ]
  },
  {
   "cell_type": "code",
   "execution_count": 76,
   "metadata": {},
   "outputs": [
    {
     "data": {
      "text/plain": [
       "<matplotlib.axes._subplots.AxesSubplot at 0x249ee585848>"
      ]
     },
     "execution_count": 76,
     "metadata": {},
     "output_type": "execute_result"
    },
    {
     "data": {
      "image/png": "[encoded data removed]",
      "text/plain": [
       "<Figure size 1440x360 with 1 Axes>"
      ]
     },
     "metadata": {
      "needs_background": "light"
     },
     "output_type": "display_data"
    }
   ],
   "source": [
    "# Age's boxplot\n",
    "users.boxplot(column='Age',vert=False,figsize=(20,5))"
   ]
  },
  {
   "cell_type": "code",
   "execution_count": 77,
   "metadata": {},
   "outputs": [],
   "source": [
    "# Occurence for top 10 location\n",
    "loc=users['Location'].value_counts().head(10)"
   ]
  },
  {
   "cell_type": "code",
   "execution_count": 78,
   "metadata": {},
   "outputs": [],
   "source": [
    "# Top 10 location \n",
    "label=loc.index.tolist()[:10]"
   ]
  },
  {
   "cell_type": "code",
   "execution_count": 79,
   "metadata": {},
   "outputs": [
    {
     "data": {
      "text/plain": [
       "([<matplotlib.patches.Wedge at 0x249f7cfd908>,\n",
       "  <matplotlib.patches.Wedge at 0x249f7d06388>,\n",
       "  <matplotlib.patches.Wedge at 0x249f7d0e108>,\n",
       "  <matplotlib.patches.Wedge at 0x249f7d0ed88>,\n",
       "  <matplotlib.patches.Wedge at 0x249f7d1ac48>,\n",
       "  <matplotlib.patches.Wedge at 0x249f7d24908>,\n",
       "  <matplotlib.patches.Wedge at 0x249f7d2c348>,\n",
       "  <matplotlib.patches.Wedge at 0x249f7d2cf08>,\n",
       "  <matplotlib.patches.Wedge at 0x249f7d1a9c8>,\n",
       "  <matplotlib.patches.Wedge at 0x249f7d24648>],\n",
       " [Text(0.9843626058572372, 0.49094832741333333, 'london, england, united kingdom'),\n",
       "  Text(0.25090656622538693, 1.0710022852566587, 'toronto, ontario, canada'),\n",
       "  Text(-0.5343331914719642, 0.9615030111712523, 'sydney, new south wales, australia'),\n",
       "  Text(-1.0015630567335718, 0.4548312251665493, 'melbourne, victoria, australia'),\n",
       "  Text(-1.0802494845248003, -0.20751156879534152, 'portland, oregon, usa'),\n",
       "  Text(-0.7879811924344292, -0.7675191465817743, 'chicago, illinois, usa'),\n",
       "  Text(-0.26452875876883153, -1.0677193150749973, 'seattle, washington, usa'),\n",
       "  Text(0.3162327360670239, -1.053563883511372, 'new york, new york, usa'),\n",
       "  Text(0.7971343082707989, -0.7580085056103494, 'madrid, madrid, spain'),\n",
       "  Text(1.0655605267382424, -0.27309478914347596, 'vancouver, british columbia, canada')],\n",
       " [Text(0.5369250577403112, 0.26778999677090903, '14.7%'),\n",
       "  Text(0.1368581270320292, 0.5841830646854502, '13.2%'),\n",
       "  Text(-0.2914544680756168, 0.5244561879115921, '10.2%'),\n",
       "  Text(-0.5463071218546754, 0.24808975918175413, '10.0%'),\n",
       "  Text(-0.5892269915589818, -0.11318812843382263, '9.6%'),\n",
       "  Text(-0.42980792314605226, -0.41864680722642234, '9.0%'),\n",
       "  Text(-0.1442884138739081, -0.5823923536772712, '8.7%'),\n",
       "  Text(0.17249058330928577, -0.5746712091880211, '8.3%'),\n",
       "  Text(0.43480053178407213, -0.41345918487837235, '8.2%'),\n",
       "  Text(0.581214832766314, -0.1489607940782596, '8.0%')])"
      ]
     },
     "execution_count": 79,
     "metadata": {},
     "output_type": "execute_result"
    },
    {
     "data": {
      "image/png": "[encoded data removed]",
      "text/plain": [
       "<Figure size 432x288 with 1 Axes>"
      ]
     },
     "metadata": {},
     "output_type": "display_data"
    }
   ],
   "source": [
    "# Plot top 10 location\n",
    "plt.pie(loc, labels=label, autopct='%1.1f%%', shadow=True)"
   ]
  },
  {
   "cell_type": "markdown",
   "metadata": {},
   "source": [
    "# RATINGS DATASET "
   ]
  },
  {
   "cell_type": "markdown",
   "metadata": {},
   "source": [
    "## DATA CLEANING ( RATINGS )"
   ]
  },
  {
   "cell_type": "code",
   "execution_count": 80,
   "metadata": {},
   "outputs": [
    {
     "data": {
      "text/html": [
       "<div>\n",
       "<style scoped>\n",
       "    .dataframe tbody tr th:only-of-type {\n",
       "        vertical-align: middle;\n",
       "    }\n",
       "\n",
       "    .dataframe tbody tr th {\n",
       "        vertical-align: top;\n",
       "    }\n",
       "\n",
       "    .dataframe thead th {\n",
       "        text-align: right;\n",
       "    }\n",
       "</style>\n",
       "<table border=\"1\" class=\"dataframe\">\n",
       "  <thead>\n",
       "    <tr style=\"text-align: right;\">\n",
       "      <th></th>\n",
       "      <th>User-ID</th>\n",
       "      <th>ISBN</th>\n",
       "      <th>Book-Rating</th>\n",
       "    </tr>\n",
       "  </thead>\n",
       "  <tbody>\n",
       "    <tr>\n",
       "      <th>0</th>\n",
       "      <td>276725</td>\n",
       "      <td>034545104X</td>\n",
       "      <td>0</td>\n",
       "    </tr>\n",
       "    <tr>\n",
       "      <th>1</th>\n",
       "      <td>276726</td>\n",
       "      <td>0155061224</td>\n",
       "      <td>5</td>\n",
       "    </tr>\n",
       "    <tr>\n",
       "      <th>2</th>\n",
       "      <td>276727</td>\n",
       "      <td>0446520802</td>\n",
       "      <td>0</td>\n",
       "    </tr>\n",
       "    <tr>\n",
       "      <th>3</th>\n",
       "      <td>276729</td>\n",
       "      <td>052165615X</td>\n",
       "      <td>3</td>\n",
       "    </tr>\n",
       "    <tr>\n",
       "      <th>4</th>\n",
       "      <td>276729</td>\n",
       "      <td>0521795028</td>\n",
       "      <td>6</td>\n",
       "    </tr>\n",
       "  </tbody>\n",
       "</table>\n",
       "</div>"
      ],
      "text/plain": [
       "   User-ID        ISBN  Book-Rating\n",
       "0   276725  034545104X            0\n",
       "1   276726  0155061224            5\n",
       "2   276727  0446520802            0\n",
       "3   276729  052165615X            3\n",
       "4   276729  0521795028            6"
      ]
     },
     "execution_count": 80,
     "metadata": {},
     "output_type": "execute_result"
    }
   ],
   "source": [
    "# Viewing the first rows for ratings dataset\n",
    "ratings.head()"
   ]
  },
  {
   "cell_type": "code",
   "execution_count": 81,
   "metadata": {},
   "outputs": [
    {
     "data": {
      "text/plain": [
       "(1149780, 3)"
      ]
     },
     "execution_count": 81,
     "metadata": {},
     "output_type": "execute_result"
    }
   ],
   "source": [
    "# ratings's dimension\n",
    "ratings.shape"
   ]
  },
  {
   "cell_type": "code",
   "execution_count": 82,
   "metadata": {},
   "outputs": [
    {
     "data": {
      "text/plain": [
       "User-ID         int64\n",
       "ISBN           object\n",
       "Book-Rating     int64\n",
       "dtype: object"
      ]
     },
     "execution_count": 82,
     "metadata": {},
     "output_type": "execute_result"
    }
   ],
   "source": [
    "# Types of ratings's columns\n",
    "ratings.dtypes"
   ]
  },
  {
   "cell_type": "code",
   "execution_count": 83,
   "metadata": {},
   "outputs": [],
   "source": [
    "# Renaming ratings's column\n",
    "ratings.columns=['User_id','ISBN','bookRating']"
   ]
  },
  {
   "cell_type": "code",
   "execution_count": 84,
   "metadata": {},
   "outputs": [
    {
     "data": {
      "text/html": [
       "<div>\n",
       "<style scoped>\n",
       "    .dataframe tbody tr th:only-of-type {\n",
       "        vertical-align: middle;\n",
       "    }\n",
       "\n",
       "    .dataframe tbody tr th {\n",
       "        vertical-align: top;\n",
       "    }\n",
       "\n",
       "    .dataframe thead th {\n",
       "        text-align: right;\n",
       "    }\n",
       "</style>\n",
       "<table border=\"1\" class=\"dataframe\">\n",
       "  <thead>\n",
       "    <tr style=\"text-align: right;\">\n",
       "      <th></th>\n",
       "      <th>User_id</th>\n",
       "      <th>bookRating</th>\n",
       "    </tr>\n",
       "  </thead>\n",
       "  <tbody>\n",
       "    <tr>\n",
       "      <th>count</th>\n",
       "      <td>1.149780e+06</td>\n",
       "      <td>1.149780e+06</td>\n",
       "    </tr>\n",
       "    <tr>\n",
       "      <th>mean</th>\n",
       "      <td>1.403864e+05</td>\n",
       "      <td>2.866950e+00</td>\n",
       "    </tr>\n",
       "    <tr>\n",
       "      <th>std</th>\n",
       "      <td>8.056228e+04</td>\n",
       "      <td>3.854184e+00</td>\n",
       "    </tr>\n",
       "    <tr>\n",
       "      <th>min</th>\n",
       "      <td>2.000000e+00</td>\n",
       "      <td>0.000000e+00</td>\n",
       "    </tr>\n",
       "    <tr>\n",
       "      <th>25%</th>\n",
       "      <td>7.034500e+04</td>\n",
       "      <td>0.000000e+00</td>\n",
       "    </tr>\n",
       "    <tr>\n",
       "      <th>50%</th>\n",
       "      <td>1.410100e+05</td>\n",
       "      <td>0.000000e+00</td>\n",
       "    </tr>\n",
       "    <tr>\n",
       "      <th>75%</th>\n",
       "      <td>2.110280e+05</td>\n",
       "      <td>7.000000e+00</td>\n",
       "    </tr>\n",
       "    <tr>\n",
       "      <th>max</th>\n",
       "      <td>2.788540e+05</td>\n",
       "      <td>1.000000e+01</td>\n",
       "    </tr>\n",
       "  </tbody>\n",
       "</table>\n",
       "</div>"
      ],
      "text/plain": [
       "            User_id    bookRating\n",
       "count  1.149780e+06  1.149780e+06\n",
       "mean   1.403864e+05  2.866950e+00\n",
       "std    8.056228e+04  3.854184e+00\n",
       "min    2.000000e+00  0.000000e+00\n",
       "25%    7.034500e+04  0.000000e+00\n",
       "50%    1.410100e+05  0.000000e+00\n",
       "75%    2.110280e+05  7.000000e+00\n",
       "max    2.788540e+05  1.000000e+01"
      ]
     },
     "execution_count": 84,
     "metadata": {},
     "output_type": "execute_result"
    }
   ],
   "source": [
    "# ratings's description\n",
    "ratings.describe()"
   ]
  },
  {
   "cell_type": "code",
   "execution_count": 85,
   "metadata": {},
   "outputs": [
    {
     "data": {
      "text/plain": [
       "User_id       0\n",
       "ISBN          0\n",
       "bookRating    0\n",
       "dtype: int64"
      ]
     },
     "execution_count": 85,
     "metadata": {},
     "output_type": "execute_result"
    }
   ],
   "source": [
    "# total nmber of null data \n",
    "ratings.isna().sum()"
   ]
  },
  {
   "cell_type": "markdown",
   "metadata": {},
   "source": [
    "## DATA VISUALIZATION ( RATINGS )"
   ]
  },
  {
   "cell_type": "code",
   "execution_count": 86,
   "metadata": {},
   "outputs": [
    {
     "data": {
      "text/plain": [
       "[11676, 198711, 153662, 98391, 35859, 212898, 278418, 76352, 110973, 235105]"
      ]
     },
     "execution_count": 86,
     "metadata": {},
     "output_type": "execute_result"
    }
   ],
   "source": [
    "# top 10 users rate books (include not rated books)\n",
    "topuser=ratings['User_id'].value_counts().index.tolist()[:10]\n",
    "topuser"
   ]
  },
  {
   "cell_type": "code",
   "execution_count": 87,
   "metadata": {},
   "outputs": [
    {
     "data": {
      "text/plain": [
       "11676     13602\n",
       "198711     7550\n",
       "153662     6109\n",
       "98391      5891\n",
       "35859      5850\n",
       "212898     4785\n",
       "278418     4533\n",
       "76352      3367\n",
       "110973     3100\n",
       "235105     3067\n",
       "Name: User_id, dtype: int64"
      ]
     },
     "execution_count": 87,
     "metadata": {},
     "output_type": "execute_result"
    }
   ],
   "source": [
    "# how much every user rates a book (include not rated books)\n",
    "ratings['User_id'].value_counts().head(10)"
   ]
  },
  {
   "cell_type": "code",
   "execution_count": 88,
   "metadata": {},
   "outputs": [
    {
     "data": {
      "text/html": [
       "<div>\n",
       "<style scoped>\n",
       "    .dataframe tbody tr th:only-of-type {\n",
       "        vertical-align: middle;\n",
       "    }\n",
       "\n",
       "    .dataframe tbody tr th {\n",
       "        vertical-align: top;\n",
       "    }\n",
       "\n",
       "    .dataframe thead th {\n",
       "        text-align: right;\n",
       "    }\n",
       "</style>\n",
       "<table border=\"1\" class=\"dataframe\">\n",
       "  <thead>\n",
       "    <tr style=\"text-align: right;\">\n",
       "      <th></th>\n",
       "      <th>User_id</th>\n",
       "      <th>ISBN</th>\n",
       "      <th>bookRating</th>\n",
       "    </tr>\n",
       "  </thead>\n",
       "  <tbody>\n",
       "    <tr>\n",
       "      <th>4330</th>\n",
       "      <td>278418</td>\n",
       "      <td>0006128831</td>\n",
       "      <td>0</td>\n",
       "    </tr>\n",
       "    <tr>\n",
       "      <th>4331</th>\n",
       "      <td>278418</td>\n",
       "      <td>0006542808</td>\n",
       "      <td>5</td>\n",
       "    </tr>\n",
       "    <tr>\n",
       "      <th>4332</th>\n",
       "      <td>278418</td>\n",
       "      <td>0020209606</td>\n",
       "      <td>0</td>\n",
       "    </tr>\n",
       "    <tr>\n",
       "      <th>4333</th>\n",
       "      <td>278418</td>\n",
       "      <td>0020418809</td>\n",
       "      <td>0</td>\n",
       "    </tr>\n",
       "    <tr>\n",
       "      <th>4334</th>\n",
       "      <td>278418</td>\n",
       "      <td>0020420900</td>\n",
       "      <td>0</td>\n",
       "    </tr>\n",
       "    <tr>\n",
       "      <th>...</th>\n",
       "      <td>...</td>\n",
       "      <td>...</td>\n",
       "      <td>...</td>\n",
       "    </tr>\n",
       "    <tr>\n",
       "      <th>977640</th>\n",
       "      <td>235105</td>\n",
       "      <td>394700023</td>\n",
       "      <td>0</td>\n",
       "    </tr>\n",
       "    <tr>\n",
       "      <th>977641</th>\n",
       "      <td>235105</td>\n",
       "      <td>39483786X</td>\n",
       "      <td>0</td>\n",
       "    </tr>\n",
       "    <tr>\n",
       "      <th>977642</th>\n",
       "      <td>235105</td>\n",
       "      <td>394847741</td>\n",
       "      <td>0</td>\n",
       "    </tr>\n",
       "    <tr>\n",
       "      <th>977643</th>\n",
       "      <td>235105</td>\n",
       "      <td>8471690209</td>\n",
       "      <td>0</td>\n",
       "    </tr>\n",
       "    <tr>\n",
       "      <th>977644</th>\n",
       "      <td>235105</td>\n",
       "      <td>9901500222</td>\n",
       "      <td>0</td>\n",
       "    </tr>\n",
       "  </tbody>\n",
       "</table>\n",
       "<p>57854 rows × 3 columns</p>\n",
       "</div>"
      ],
      "text/plain": [
       "        User_id        ISBN  bookRating\n",
       "4330     278418  0006128831           0\n",
       "4331     278418  0006542808           5\n",
       "4332     278418  0020209606           0\n",
       "4333     278418  0020418809           0\n",
       "4334     278418  0020420900           0\n",
       "...         ...         ...         ...\n",
       "977640   235105   394700023           0\n",
       "977641   235105   39483786X           0\n",
       "977642   235105   394847741           0\n",
       "977643   235105  8471690209           0\n",
       "977644   235105  9901500222           0\n",
       "\n",
       "[57854 rows x 3 columns]"
      ]
     },
     "execution_count": 88,
     "metadata": {},
     "output_type": "execute_result"
    }
   ],
   "source": [
    "# All data for top 10 users (include not rated books)\n",
    "topu=ratings.loc[ratings['User_id'].isin(topuser)]\n",
    "topu"
   ]
  },
  {
   "cell_type": "code",
   "execution_count": 89,
   "metadata": {},
   "outputs": [
    {
     "data": {
      "text/plain": [
       "<matplotlib.axes._subplots.AxesSubplot at 0x249f7c4ee48>"
      ]
     },
     "execution_count": 89,
     "metadata": {},
     "output_type": "execute_result"
    },
    {
     "data": {
      "image/png": "[encoded data removed]",
      "text/plain": [
       "<Figure size 1440x576 with 1 Axes>"
      ]
     },
     "metadata": {
      "needs_background": "light"
     },
     "output_type": "display_data"
    }
   ],
   "source": [
    "# Plot top 10 users (include not rated books)\n",
    "plt.figure(figsize=(20,8))\n",
    "sns.countplot(data=topu , x='User_id', palette='rocket_r')"
   ]
  },
  {
   "cell_type": "code",
   "execution_count": 90,
   "metadata": {},
   "outputs": [
    {
     "data": {
      "text/plain": [
       "['0971880107',\n",
       " '0316666343',\n",
       " '0385504209',\n",
       " '0060928336',\n",
       " '0312195516',\n",
       " '044023722X',\n",
       " '0679781587',\n",
       " '0142001740',\n",
       " '067976402X',\n",
       " '0671027360']"
      ]
     },
     "execution_count": 90,
     "metadata": {},
     "output_type": "execute_result"
    }
   ],
   "source": [
    "# Most 10 book rated (include not rated books)\n",
    "topbook=ratings['ISBN'].value_counts().index.tolist()[:10]\n",
    "topbook"
   ]
  },
  {
   "cell_type": "code",
   "execution_count": 91,
   "metadata": {},
   "outputs": [
    {
     "data": {
      "text/plain": [
       "0971880107    2502\n",
       "0316666343    1295\n",
       "0385504209     883\n",
       "0060928336     732\n",
       "0312195516     723\n",
       "044023722X     647\n",
       "0679781587     639\n",
       "0142001740     615\n",
       "067976402X     614\n",
       "0671027360     586\n",
       "Name: ISBN, dtype: int64"
      ]
     },
     "execution_count": 91,
     "metadata": {},
     "output_type": "execute_result"
    }
   ],
   "source": [
    "# How much time every book was rated (include not rated books)\n",
    "ratings['ISBN'].value_counts().head(10)"
   ]
  },
  {
   "cell_type": "code",
   "execution_count": 92,
   "metadata": {},
   "outputs": [
    {
     "data": {
      "text/html": [
       "<div>\n",
       "<style scoped>\n",
       "    .dataframe tbody tr th:only-of-type {\n",
       "        vertical-align: middle;\n",
       "    }\n",
       "\n",
       "    .dataframe tbody tr th {\n",
       "        vertical-align: top;\n",
       "    }\n",
       "\n",
       "    .dataframe thead th {\n",
       "        text-align: right;\n",
       "    }\n",
       "</style>\n",
       "<table border=\"1\" class=\"dataframe\">\n",
       "  <thead>\n",
       "    <tr style=\"text-align: right;\">\n",
       "      <th></th>\n",
       "      <th>User_id</th>\n",
       "      <th>ISBN</th>\n",
       "      <th>bookRating</th>\n",
       "      <th>bookTitle</th>\n",
       "      <th>bookAuthor</th>\n",
       "      <th>yearOfPublication</th>\n",
       "      <th>publisher</th>\n",
       "    </tr>\n",
       "  </thead>\n",
       "  <tbody>\n",
       "    <tr>\n",
       "      <th>0</th>\n",
       "      <td>276925</td>\n",
       "      <td>0316666343</td>\n",
       "      <td>0</td>\n",
       "      <td>The Lovely Bones: A Novel</td>\n",
       "      <td>Alice Sebold</td>\n",
       "      <td>2002</td>\n",
       "      <td>Little, Brown</td>\n",
       "    </tr>\n",
       "    <tr>\n",
       "      <th>1</th>\n",
       "      <td>277195</td>\n",
       "      <td>0316666343</td>\n",
       "      <td>0</td>\n",
       "      <td>The Lovely Bones: A Novel</td>\n",
       "      <td>Alice Sebold</td>\n",
       "      <td>2002</td>\n",
       "      <td>Little, Brown</td>\n",
       "    </tr>\n",
       "    <tr>\n",
       "      <th>2</th>\n",
       "      <td>277413</td>\n",
       "      <td>0316666343</td>\n",
       "      <td>0</td>\n",
       "      <td>The Lovely Bones: A Novel</td>\n",
       "      <td>Alice Sebold</td>\n",
       "      <td>2002</td>\n",
       "      <td>Little, Brown</td>\n",
       "    </tr>\n",
       "    <tr>\n",
       "      <th>3</th>\n",
       "      <td>277427</td>\n",
       "      <td>0316666343</td>\n",
       "      <td>0</td>\n",
       "      <td>The Lovely Bones: A Novel</td>\n",
       "      <td>Alice Sebold</td>\n",
       "      <td>2002</td>\n",
       "      <td>Little, Brown</td>\n",
       "    </tr>\n",
       "    <tr>\n",
       "      <th>4</th>\n",
       "      <td>277439</td>\n",
       "      <td>0316666343</td>\n",
       "      <td>7</td>\n",
       "      <td>The Lovely Bones: A Novel</td>\n",
       "      <td>Alice Sebold</td>\n",
       "      <td>2002</td>\n",
       "      <td>Little, Brown</td>\n",
       "    </tr>\n",
       "    <tr>\n",
       "      <th>...</th>\n",
       "      <td>...</td>\n",
       "      <td>...</td>\n",
       "      <td>...</td>\n",
       "      <td>...</td>\n",
       "      <td>...</td>\n",
       "      <td>...</td>\n",
       "      <td>...</td>\n",
       "    </tr>\n",
       "    <tr>\n",
       "      <th>8592</th>\n",
       "      <td>275357</td>\n",
       "      <td>0060928336</td>\n",
       "      <td>8</td>\n",
       "      <td>Divine Secrets of the Ya-Ya Sisterhood: A Novel</td>\n",
       "      <td>Rebecca Wells</td>\n",
       "      <td>1997</td>\n",
       "      <td>Perennial</td>\n",
       "    </tr>\n",
       "    <tr>\n",
       "      <th>8593</th>\n",
       "      <td>275638</td>\n",
       "      <td>0060928336</td>\n",
       "      <td>0</td>\n",
       "      <td>Divine Secrets of the Ya-Ya Sisterhood: A Novel</td>\n",
       "      <td>Rebecca Wells</td>\n",
       "      <td>1997</td>\n",
       "      <td>Perennial</td>\n",
       "    </tr>\n",
       "    <tr>\n",
       "      <th>8594</th>\n",
       "      <td>275922</td>\n",
       "      <td>0060928336</td>\n",
       "      <td>0</td>\n",
       "      <td>Divine Secrets of the Ya-Ya Sisterhood: A Novel</td>\n",
       "      <td>Rebecca Wells</td>\n",
       "      <td>1997</td>\n",
       "      <td>Perennial</td>\n",
       "    </tr>\n",
       "    <tr>\n",
       "      <th>8595</th>\n",
       "      <td>275970</td>\n",
       "      <td>0060928336</td>\n",
       "      <td>0</td>\n",
       "      <td>Divine Secrets of the Ya-Ya Sisterhood: A Novel</td>\n",
       "      <td>Rebecca Wells</td>\n",
       "      <td>1997</td>\n",
       "      <td>Perennial</td>\n",
       "    </tr>\n",
       "    <tr>\n",
       "      <th>8596</th>\n",
       "      <td>276231</td>\n",
       "      <td>0060928336</td>\n",
       "      <td>8</td>\n",
       "      <td>Divine Secrets of the Ya-Ya Sisterhood: A Novel</td>\n",
       "      <td>Rebecca Wells</td>\n",
       "      <td>1997</td>\n",
       "      <td>Perennial</td>\n",
       "    </tr>\n",
       "  </tbody>\n",
       "</table>\n",
       "<p>8597 rows × 7 columns</p>\n",
       "</div>"
      ],
      "text/plain": [
       "      User_id        ISBN  bookRating  \\\n",
       "0      276925  0316666343           0   \n",
       "1      277195  0316666343           0   \n",
       "2      277413  0316666343           0   \n",
       "3      277427  0316666343           0   \n",
       "4      277439  0316666343           7   \n",
       "...       ...         ...         ...   \n",
       "8592   275357  0060928336           8   \n",
       "8593   275638  0060928336           0   \n",
       "8594   275922  0060928336           0   \n",
       "8595   275970  0060928336           0   \n",
       "8596   276231  0060928336           8   \n",
       "\n",
       "                                            bookTitle     bookAuthor  \\\n",
       "0                           The Lovely Bones: A Novel   Alice Sebold   \n",
       "1                           The Lovely Bones: A Novel   Alice Sebold   \n",
       "2                           The Lovely Bones: A Novel   Alice Sebold   \n",
       "3                           The Lovely Bones: A Novel   Alice Sebold   \n",
       "4                           The Lovely Bones: A Novel   Alice Sebold   \n",
       "...                                               ...            ...   \n",
       "8592  Divine Secrets of the Ya-Ya Sisterhood: A Novel  Rebecca Wells   \n",
       "8593  Divine Secrets of the Ya-Ya Sisterhood: A Novel  Rebecca Wells   \n",
       "8594  Divine Secrets of the Ya-Ya Sisterhood: A Novel  Rebecca Wells   \n",
       "8595  Divine Secrets of the Ya-Ya Sisterhood: A Novel  Rebecca Wells   \n",
       "8596  Divine Secrets of the Ya-Ya Sisterhood: A Novel  Rebecca Wells   \n",
       "\n",
       "      yearOfPublication      publisher  \n",
       "0                  2002  Little, Brown  \n",
       "1                  2002  Little, Brown  \n",
       "2                  2002  Little, Brown  \n",
       "3                  2002  Little, Brown  \n",
       "4                  2002  Little, Brown  \n",
       "...                 ...            ...  \n",
       "8592               1997      Perennial  \n",
       "8593               1997      Perennial  \n",
       "8594               1997      Perennial  \n",
       "8595               1997      Perennial  \n",
       "8596               1997      Perennial  \n",
       "\n",
       "[8597 rows x 7 columns]"
      ]
     },
     "execution_count": 92,
     "metadata": {},
     "output_type": "execute_result"
    }
   ],
   "source": [
    "# All data for top 10 book most rated (include not rated books)\n",
    "topb=ratings[ratings['ISBN'].isin(topbook)]\n",
    "topb=topb.merge(books,on='ISBN')\n",
    "topb"
   ]
  },
  {
   "cell_type": "code",
   "execution_count": 93,
   "metadata": {},
   "outputs": [
    {
     "data": {
      "text/plain": [
       "<matplotlib.axes._subplots.AxesSubplot at 0x24981ce4808>"
      ]
     },
     "execution_count": 93,
     "metadata": {},
     "output_type": "execute_result"
    },
    {
     "data": {
      "image/png": "[encoded data removed]",
      "text/plain": [
       "<Figure size 1440x720 with 1 Axes>"
      ]
     },
     "metadata": {
      "needs_background": "light"
     },
     "output_type": "display_data"
    }
   ],
   "source": [
    "# Plot top 10 books (include not rated books)\n",
    "plt.figure(figsize=(20,10))\n",
    "sns.countplot(data=topb , y='bookTitle', palette='rocket_r')"
   ]
  },
  {
   "cell_type": "code",
   "execution_count": 94,
   "metadata": {},
   "outputs": [
    {
     "data": {
      "text/plain": [
       "<matplotlib.axes._subplots.AxesSubplot at 0x24981d70888>"
      ]
     },
     "execution_count": 94,
     "metadata": {},
     "output_type": "execute_result"
    },
    {
     "data": {
      "image/png": "[encoded data removed]",
      "text/plain": [
       "<Figure size 1440x576 with 1 Axes>"
      ]
     },
     "metadata": {
      "needs_background": "light"
     },
     "output_type": "display_data"
    }
   ],
   "source": [
    "# Plot book's rating (include not rated books)\n",
    "plt.figure(figsize=(20,8))\n",
    "sns.countplot(data=ratings , x='bookRating', palette='rocket_r')"
   ]
  },
  {
   "cell_type": "code",
   "execution_count": 95,
   "metadata": {},
   "outputs": [],
   "source": [
    "# Select data from ratings which exist in books \n",
    "ratebook=ratings[ratings['ISBN'].isin(books['ISBN'])]"
   ]
  },
  {
   "cell_type": "code",
   "execution_count": 96,
   "metadata": {},
   "outputs": [],
   "source": [
    "# Select data from ratings which exist in users\n",
    "rateuser=ratings[ratings['User_id'].isin(users['User_id'])]"
   ]
  },
  {
   "cell_type": "code",
   "execution_count": 97,
   "metadata": {},
   "outputs": [
    {
     "name": "stdout",
     "output_type": "stream",
     "text": [
      "books s dimension : (271360, 5)\n",
      "users s dimension : (278858, 3)\n",
      "ratings s dimension : (1149780, 3)\n",
      "ratebook s dimension : (1031136, 3)\n",
      "rateuser s dimension : (1149780, 3)\n"
     ]
    }
   ],
   "source": [
    "# datasets's dimensions\n",
    "print('books s dimension : '+ str(books.shape))\n",
    "print('users s dimension : '+ str(users.shape))\n",
    "print('ratings s dimension : '+ str(ratings.shape))\n",
    "print('ratebook s dimension : '+ str(ratebook.shape))\n",
    "print('rateuser s dimension : '+ str(rateuser.shape))"
   ]
  },
  {
   "cell_type": "code",
   "execution_count": 98,
   "metadata": {},
   "outputs": [
    {
     "data": {
      "text/html": [
       "<div>\n",
       "<style scoped>\n",
       "    .dataframe tbody tr th:only-of-type {\n",
       "        vertical-align: middle;\n",
       "    }\n",
       "\n",
       "    .dataframe tbody tr th {\n",
       "        vertical-align: top;\n",
       "    }\n",
       "\n",
       "    .dataframe thead th {\n",
       "        text-align: right;\n",
       "    }\n",
       "</style>\n",
       "<table border=\"1\" class=\"dataframe\">\n",
       "  <thead>\n",
       "    <tr style=\"text-align: right;\">\n",
       "      <th></th>\n",
       "      <th>User_id</th>\n",
       "      <th>ISBN</th>\n",
       "      <th>bookRating</th>\n",
       "    </tr>\n",
       "  </thead>\n",
       "  <tbody>\n",
       "    <tr>\n",
       "      <th>0</th>\n",
       "      <td>True</td>\n",
       "      <td>True</td>\n",
       "      <td>True</td>\n",
       "    </tr>\n",
       "    <tr>\n",
       "      <th>1</th>\n",
       "      <td>True</td>\n",
       "      <td>True</td>\n",
       "      <td>True</td>\n",
       "    </tr>\n",
       "    <tr>\n",
       "      <th>2</th>\n",
       "      <td>True</td>\n",
       "      <td>True</td>\n",
       "      <td>True</td>\n",
       "    </tr>\n",
       "    <tr>\n",
       "      <th>3</th>\n",
       "      <td>True</td>\n",
       "      <td>True</td>\n",
       "      <td>True</td>\n",
       "    </tr>\n",
       "    <tr>\n",
       "      <th>4</th>\n",
       "      <td>True</td>\n",
       "      <td>True</td>\n",
       "      <td>True</td>\n",
       "    </tr>\n",
       "    <tr>\n",
       "      <th>...</th>\n",
       "      <td>...</td>\n",
       "      <td>...</td>\n",
       "      <td>...</td>\n",
       "    </tr>\n",
       "    <tr>\n",
       "      <th>1149775</th>\n",
       "      <td>True</td>\n",
       "      <td>True</td>\n",
       "      <td>True</td>\n",
       "    </tr>\n",
       "    <tr>\n",
       "      <th>1149776</th>\n",
       "      <td>True</td>\n",
       "      <td>True</td>\n",
       "      <td>True</td>\n",
       "    </tr>\n",
       "    <tr>\n",
       "      <th>1149777</th>\n",
       "      <td>True</td>\n",
       "      <td>True</td>\n",
       "      <td>True</td>\n",
       "    </tr>\n",
       "    <tr>\n",
       "      <th>1149778</th>\n",
       "      <td>True</td>\n",
       "      <td>True</td>\n",
       "      <td>True</td>\n",
       "    </tr>\n",
       "    <tr>\n",
       "      <th>1149779</th>\n",
       "      <td>True</td>\n",
       "      <td>True</td>\n",
       "      <td>True</td>\n",
       "    </tr>\n",
       "  </tbody>\n",
       "</table>\n",
       "<p>1149780 rows × 3 columns</p>\n",
       "</div>"
      ],
      "text/plain": [
       "         User_id  ISBN  bookRating\n",
       "0           True  True        True\n",
       "1           True  True        True\n",
       "2           True  True        True\n",
       "3           True  True        True\n",
       "4           True  True        True\n",
       "...          ...   ...         ...\n",
       "1149775     True  True        True\n",
       "1149776     True  True        True\n",
       "1149777     True  True        True\n",
       "1149778     True  True        True\n",
       "1149779     True  True        True\n",
       "\n",
       "[1149780 rows x 3 columns]"
      ]
     },
     "execution_count": 98,
     "metadata": {},
     "output_type": "execute_result"
    }
   ],
   "source": [
    "# verufying that datasets ratings and rateuser are the same\n",
    "ratings==rateuser"
   ]
  },
  {
   "cell_type": "code",
   "execution_count": 99,
   "metadata": {},
   "outputs": [],
   "source": [
    "# It's seen that many book's ISBN didn't exist in books dataset however all users in ratings dataset are in users dataset\n",
    "# Consequently we will go with ratebook dataset to build books recommended system"
   ]
  },
  {
   "cell_type": "code",
   "execution_count": 100,
   "metadata": {},
   "outputs": [
    {
     "data": {
      "text/html": [
       "<div>\n",
       "<style scoped>\n",
       "    .dataframe tbody tr th:only-of-type {\n",
       "        vertical-align: middle;\n",
       "    }\n",
       "\n",
       "    .dataframe tbody tr th {\n",
       "        vertical-align: top;\n",
       "    }\n",
       "\n",
       "    .dataframe thead th {\n",
       "        text-align: right;\n",
       "    }\n",
       "</style>\n",
       "<table border=\"1\" class=\"dataframe\">\n",
       "  <thead>\n",
       "    <tr style=\"text-align: right;\">\n",
       "      <th></th>\n",
       "      <th>User_id</th>\n",
       "      <th>ISBN</th>\n",
       "      <th>bookRating</th>\n",
       "    </tr>\n",
       "  </thead>\n",
       "  <tbody>\n",
       "    <tr>\n",
       "      <th>1</th>\n",
       "      <td>276726</td>\n",
       "      <td>0155061224</td>\n",
       "      <td>5</td>\n",
       "    </tr>\n",
       "    <tr>\n",
       "      <th>3</th>\n",
       "      <td>276729</td>\n",
       "      <td>052165615X</td>\n",
       "      <td>3</td>\n",
       "    </tr>\n",
       "    <tr>\n",
       "      <th>4</th>\n",
       "      <td>276729</td>\n",
       "      <td>0521795028</td>\n",
       "      <td>6</td>\n",
       "    </tr>\n",
       "    <tr>\n",
       "      <th>8</th>\n",
       "      <td>276744</td>\n",
       "      <td>038550120X</td>\n",
       "      <td>7</td>\n",
       "    </tr>\n",
       "    <tr>\n",
       "      <th>16</th>\n",
       "      <td>276747</td>\n",
       "      <td>0060517794</td>\n",
       "      <td>9</td>\n",
       "    </tr>\n",
       "    <tr>\n",
       "      <th>...</th>\n",
       "      <td>...</td>\n",
       "      <td>...</td>\n",
       "      <td>...</td>\n",
       "    </tr>\n",
       "    <tr>\n",
       "      <th>1149771</th>\n",
       "      <td>276704</td>\n",
       "      <td>0743211383</td>\n",
       "      <td>7</td>\n",
       "    </tr>\n",
       "    <tr>\n",
       "      <th>1149773</th>\n",
       "      <td>276704</td>\n",
       "      <td>0806917695</td>\n",
       "      <td>5</td>\n",
       "    </tr>\n",
       "    <tr>\n",
       "      <th>1149775</th>\n",
       "      <td>276704</td>\n",
       "      <td>1563526298</td>\n",
       "      <td>9</td>\n",
       "    </tr>\n",
       "    <tr>\n",
       "      <th>1149777</th>\n",
       "      <td>276709</td>\n",
       "      <td>0515107662</td>\n",
       "      <td>10</td>\n",
       "    </tr>\n",
       "    <tr>\n",
       "      <th>1149778</th>\n",
       "      <td>276721</td>\n",
       "      <td>0590442449</td>\n",
       "      <td>10</td>\n",
       "    </tr>\n",
       "  </tbody>\n",
       "</table>\n",
       "<p>383842 rows × 3 columns</p>\n",
       "</div>"
      ],
      "text/plain": [
       "         User_id        ISBN  bookRating\n",
       "1         276726  0155061224           5\n",
       "3         276729  052165615X           3\n",
       "4         276729  0521795028           6\n",
       "8         276744  038550120X           7\n",
       "16        276747  0060517794           9\n",
       "...          ...         ...         ...\n",
       "1149771   276704  0743211383           7\n",
       "1149773   276704  0806917695           5\n",
       "1149775   276704  1563526298           9\n",
       "1149777   276709  0515107662          10\n",
       "1149778   276721  0590442449          10\n",
       "\n",
       "[383842 rows x 3 columns]"
      ]
     },
     "execution_count": 100,
     "metadata": {},
     "output_type": "execute_result"
    }
   ],
   "source": [
    "# Books not rated are got rate = 0 and others are rated from 1 to 10 so we will work with rated books:\n",
    "bookrated=ratebook[ratebook['bookRating']!=0]\n",
    "bookrated"
   ]
  },
  {
   "cell_type": "code",
   "execution_count": 101,
   "metadata": {},
   "outputs": [
    {
     "data": {
      "text/html": [
       "<div>\n",
       "<style scoped>\n",
       "    .dataframe tbody tr th:only-of-type {\n",
       "        vertical-align: middle;\n",
       "    }\n",
       "\n",
       "    .dataframe tbody tr th {\n",
       "        vertical-align: top;\n",
       "    }\n",
       "\n",
       "    .dataframe thead th {\n",
       "        text-align: right;\n",
       "    }\n",
       "</style>\n",
       "<table border=\"1\" class=\"dataframe\">\n",
       "  <thead>\n",
       "    <tr style=\"text-align: right;\">\n",
       "      <th></th>\n",
       "      <th>User_id</th>\n",
       "      <th>ISBN</th>\n",
       "      <th>bookRating</th>\n",
       "    </tr>\n",
       "  </thead>\n",
       "  <tbody>\n",
       "  </tbody>\n",
       "</table>\n",
       "</div>"
      ],
      "text/plain": [
       "Empty DataFrame\n",
       "Columns: [User_id, ISBN, bookRating]\n",
       "Index: []"
      ]
     },
     "execution_count": 101,
     "metadata": {},
     "output_type": "execute_result"
    }
   ],
   "source": [
    "# Verifying that all book are rated \n",
    "bookrated[bookrated['bookRating']==0]"
   ]
  },
  {
   "cell_type": "code",
   "execution_count": 102,
   "metadata": {},
   "outputs": [
    {
     "data": {
      "text/plain": [
       "<matplotlib.axes._subplots.AxesSubplot at 0x249822d6948>"
      ]
     },
     "execution_count": 102,
     "metadata": {},
     "output_type": "execute_result"
    },
    {
     "data": {
      "image/png": "[encoded data removed]",
      "text/plain": [
       "<Figure size 1440x576 with 1 Axes>"
      ]
     },
     "metadata": {
      "needs_background": "light"
     },
     "output_type": "display_data"
    }
   ],
   "source": [
    "# Plot books's rates\n",
    "plt.figure(figsize=(20,8))\n",
    "sns.countplot(data=bookrated , x='bookRating', palette='rocket_r')"
   ]
  },
  {
   "cell_type": "code",
   "execution_count": 103,
   "metadata": {},
   "outputs": [
    {
     "data": {
      "text/plain": [
       "[11676, 98391, 189835, 153662, 23902, 235105, 76499, 171118, 16795, 248718]"
      ]
     },
     "execution_count": 103,
     "metadata": {},
     "output_type": "execute_result"
    }
   ],
   "source": [
    "# top 10 users rate books \n",
    "topuser=bookrated['User_id'].value_counts().index.tolist()[:10]\n",
    "topuser"
   ]
  },
  {
   "cell_type": "code",
   "execution_count": 104,
   "metadata": {},
   "outputs": [
    {
     "data": {
      "text/plain": [
       "11676     6943\n",
       "98391     5691\n",
       "189835    1899\n",
       "153662    1845\n",
       "23902     1180\n",
       "235105    1020\n",
       "76499     1012\n",
       "171118     962\n",
       "16795      959\n",
       "248718     941\n",
       "Name: User_id, dtype: int64"
      ]
     },
     "execution_count": 104,
     "metadata": {},
     "output_type": "execute_result"
    }
   ],
   "source": [
    "# how much every user rates a book\n",
    "bookrated['User_id'].value_counts().head(10)"
   ]
  },
  {
   "cell_type": "code",
   "execution_count": 105,
   "metadata": {},
   "outputs": [
    {
     "data": {
      "text/html": [
       "<div>\n",
       "<style scoped>\n",
       "    .dataframe tbody tr th:only-of-type {\n",
       "        vertical-align: middle;\n",
       "    }\n",
       "\n",
       "    .dataframe tbody tr th {\n",
       "        vertical-align: top;\n",
       "    }\n",
       "\n",
       "    .dataframe thead th {\n",
       "        text-align: right;\n",
       "    }\n",
       "</style>\n",
       "<table border=\"1\" class=\"dataframe\">\n",
       "  <thead>\n",
       "    <tr style=\"text-align: right;\">\n",
       "      <th></th>\n",
       "      <th>User_id</th>\n",
       "      <th>ISBN</th>\n",
       "      <th>bookRating</th>\n",
       "    </tr>\n",
       "  </thead>\n",
       "  <tbody>\n",
       "    <tr>\n",
       "      <th>45339</th>\n",
       "      <td>11676</td>\n",
       "      <td>0001944711</td>\n",
       "      <td>6</td>\n",
       "    </tr>\n",
       "    <tr>\n",
       "      <th>45340</th>\n",
       "      <td>11676</td>\n",
       "      <td>0002005018</td>\n",
       "      <td>8</td>\n",
       "    </tr>\n",
       "    <tr>\n",
       "      <th>45341</th>\n",
       "      <td>11676</td>\n",
       "      <td>0002118580</td>\n",
       "      <td>9</td>\n",
       "    </tr>\n",
       "    <tr>\n",
       "      <th>45342</th>\n",
       "      <td>11676</td>\n",
       "      <td>0002176432</td>\n",
       "      <td>5</td>\n",
       "    </tr>\n",
       "    <tr>\n",
       "      <th>45343</th>\n",
       "      <td>11676</td>\n",
       "      <td>0002184974</td>\n",
       "      <td>7</td>\n",
       "    </tr>\n",
       "    <tr>\n",
       "      <th>...</th>\n",
       "      <td>...</td>\n",
       "      <td>...</td>\n",
       "      <td>...</td>\n",
       "    </tr>\n",
       "    <tr>\n",
       "      <th>1040385</th>\n",
       "      <td>248718</td>\n",
       "      <td>1891400274</td>\n",
       "      <td>8</td>\n",
       "    </tr>\n",
       "    <tr>\n",
       "      <th>1040386</th>\n",
       "      <td>248718</td>\n",
       "      <td>1892123029</td>\n",
       "      <td>10</td>\n",
       "    </tr>\n",
       "    <tr>\n",
       "      <th>1040387</th>\n",
       "      <td>248718</td>\n",
       "      <td>1892881268</td>\n",
       "      <td>10</td>\n",
       "    </tr>\n",
       "    <tr>\n",
       "      <th>1040388</th>\n",
       "      <td>248718</td>\n",
       "      <td>2843231523</td>\n",
       "      <td>9</td>\n",
       "    </tr>\n",
       "    <tr>\n",
       "      <th>1040389</th>\n",
       "      <td>248718</td>\n",
       "      <td>9728128045</td>\n",
       "      <td>10</td>\n",
       "    </tr>\n",
       "  </tbody>\n",
       "</table>\n",
       "<p>22452 rows × 3 columns</p>\n",
       "</div>"
      ],
      "text/plain": [
       "         User_id        ISBN  bookRating\n",
       "45339      11676  0001944711           6\n",
       "45340      11676  0002005018           8\n",
       "45341      11676  0002118580           9\n",
       "45342      11676  0002176432           5\n",
       "45343      11676  0002184974           7\n",
       "...          ...         ...         ...\n",
       "1040385   248718  1891400274           8\n",
       "1040386   248718  1892123029          10\n",
       "1040387   248718  1892881268          10\n",
       "1040388   248718  2843231523           9\n",
       "1040389   248718  9728128045          10\n",
       "\n",
       "[22452 rows x 3 columns]"
      ]
     },
     "execution_count": 105,
     "metadata": {},
     "output_type": "execute_result"
    }
   ],
   "source": [
    "# All data for top 10 users \n",
    "topu=bookrated.loc[bookrated['User_id'].isin(topuser)]\n",
    "topu"
   ]
  },
  {
   "cell_type": "code",
   "execution_count": 106,
   "metadata": {},
   "outputs": [
    {
     "data": {
      "text/plain": [
       "<matplotlib.axes._subplots.AxesSubplot at 0x249829d7688>"
      ]
     },
     "execution_count": 106,
     "metadata": {},
     "output_type": "execute_result"
    },
    {
     "data": {
      "image/png": "[encoded data removed]",
      "text/plain": [
       "<Figure size 1440x576 with 1 Axes>"
      ]
     },
     "metadata": {
      "needs_background": "light"
     },
     "output_type": "display_data"
    }
   ],
   "source": [
    "# Plot top 10 users\n",
    "plt.figure(figsize=(20,8))\n",
    "sns.countplot(data=topu , x='User_id', palette='rocket_r')"
   ]
  },
  {
   "cell_type": "code",
   "execution_count": 107,
   "metadata": {},
   "outputs": [
    {
     "data": {
      "text/plain": [
       "['0316666343',\n",
       " '0971880107',\n",
       " '0385504209',\n",
       " '0312195516',\n",
       " '0060928336',\n",
       " '059035342X',\n",
       " '0142001740',\n",
       " '0446672211',\n",
       " '044023722X',\n",
       " '0452282152']"
      ]
     },
     "execution_count": 107,
     "metadata": {},
     "output_type": "execute_result"
    }
   ],
   "source": [
    "# Most 10 rated book (number of time is rated)\n",
    "topbook=bookrated['ISBN'].value_counts().index.tolist()[:10]\n",
    "topbook"
   ]
  },
  {
   "cell_type": "code",
   "execution_count": 108,
   "metadata": {},
   "outputs": [
    {
     "data": {
      "text/plain": [
       "0316666343    707\n",
       "0971880107    581\n",
       "0385504209    487\n",
       "0312195516    383\n",
       "0060928336    320\n",
       "059035342X    313\n",
       "0142001740    307\n",
       "0446672211    295\n",
       "044023722X    281\n",
       "0452282152    278\n",
       "Name: ISBN, dtype: int64"
      ]
     },
     "execution_count": 108,
     "metadata": {},
     "output_type": "execute_result"
    }
   ],
   "source": [
    "# Number of time every book was rated \n",
    "bookrated['ISBN'].value_counts().head(10)"
   ]
  },
  {
   "cell_type": "code",
   "execution_count": 109,
   "metadata": {},
   "outputs": [
    {
     "data": {
      "text/html": [
       "<div>\n",
       "<style scoped>\n",
       "    .dataframe tbody tr th:only-of-type {\n",
       "        vertical-align: middle;\n",
       "    }\n",
       "\n",
       "    .dataframe tbody tr th {\n",
       "        vertical-align: top;\n",
       "    }\n",
       "\n",
       "    .dataframe thead th {\n",
       "        text-align: right;\n",
       "    }\n",
       "</style>\n",
       "<table border=\"1\" class=\"dataframe\">\n",
       "  <thead>\n",
       "    <tr style=\"text-align: right;\">\n",
       "      <th></th>\n",
       "      <th>User_id</th>\n",
       "      <th>ISBN</th>\n",
       "      <th>bookRating</th>\n",
       "      <th>bookTitle</th>\n",
       "      <th>bookAuthor</th>\n",
       "      <th>yearOfPublication</th>\n",
       "      <th>publisher</th>\n",
       "    </tr>\n",
       "  </thead>\n",
       "  <tbody>\n",
       "    <tr>\n",
       "      <th>0</th>\n",
       "      <td>276925</td>\n",
       "      <td>0385504209</td>\n",
       "      <td>8</td>\n",
       "      <td>The Da Vinci Code</td>\n",
       "      <td>Dan Brown</td>\n",
       "      <td>2003</td>\n",
       "      <td>Doubleday</td>\n",
       "    </tr>\n",
       "    <tr>\n",
       "      <th>1</th>\n",
       "      <td>277427</td>\n",
       "      <td>0385504209</td>\n",
       "      <td>8</td>\n",
       "      <td>The Da Vinci Code</td>\n",
       "      <td>Dan Brown</td>\n",
       "      <td>2003</td>\n",
       "      <td>Doubleday</td>\n",
       "    </tr>\n",
       "    <tr>\n",
       "      <th>2</th>\n",
       "      <td>638</td>\n",
       "      <td>0385504209</td>\n",
       "      <td>10</td>\n",
       "      <td>The Da Vinci Code</td>\n",
       "      <td>Dan Brown</td>\n",
       "      <td>2003</td>\n",
       "      <td>Doubleday</td>\n",
       "    </tr>\n",
       "    <tr>\n",
       "      <th>3</th>\n",
       "      <td>882</td>\n",
       "      <td>0385504209</td>\n",
       "      <td>10</td>\n",
       "      <td>The Da Vinci Code</td>\n",
       "      <td>Dan Brown</td>\n",
       "      <td>2003</td>\n",
       "      <td>Doubleday</td>\n",
       "    </tr>\n",
       "    <tr>\n",
       "      <th>4</th>\n",
       "      <td>1075</td>\n",
       "      <td>0385504209</td>\n",
       "      <td>7</td>\n",
       "      <td>The Da Vinci Code</td>\n",
       "      <td>Dan Brown</td>\n",
       "      <td>2003</td>\n",
       "      <td>Doubleday</td>\n",
       "    </tr>\n",
       "    <tr>\n",
       "      <th>...</th>\n",
       "      <td>...</td>\n",
       "      <td>...</td>\n",
       "      <td>...</td>\n",
       "      <td>...</td>\n",
       "      <td>...</td>\n",
       "      <td>...</td>\n",
       "      <td>...</td>\n",
       "    </tr>\n",
       "    <tr>\n",
       "      <th>3947</th>\n",
       "      <td>274017</td>\n",
       "      <td>0060928336</td>\n",
       "      <td>8</td>\n",
       "      <td>Divine Secrets of the Ya-Ya Sisterhood: A Novel</td>\n",
       "      <td>Rebecca Wells</td>\n",
       "      <td>1997</td>\n",
       "      <td>Perennial</td>\n",
       "    </tr>\n",
       "    <tr>\n",
       "      <th>3948</th>\n",
       "      <td>274380</td>\n",
       "      <td>0060928336</td>\n",
       "      <td>8</td>\n",
       "      <td>Divine Secrets of the Ya-Ya Sisterhood: A Novel</td>\n",
       "      <td>Rebecca Wells</td>\n",
       "      <td>1997</td>\n",
       "      <td>Perennial</td>\n",
       "    </tr>\n",
       "    <tr>\n",
       "      <th>3949</th>\n",
       "      <td>274466</td>\n",
       "      <td>0060928336</td>\n",
       "      <td>6</td>\n",
       "      <td>Divine Secrets of the Ya-Ya Sisterhood: A Novel</td>\n",
       "      <td>Rebecca Wells</td>\n",
       "      <td>1997</td>\n",
       "      <td>Perennial</td>\n",
       "    </tr>\n",
       "    <tr>\n",
       "      <th>3950</th>\n",
       "      <td>275357</td>\n",
       "      <td>0060928336</td>\n",
       "      <td>8</td>\n",
       "      <td>Divine Secrets of the Ya-Ya Sisterhood: A Novel</td>\n",
       "      <td>Rebecca Wells</td>\n",
       "      <td>1997</td>\n",
       "      <td>Perennial</td>\n",
       "    </tr>\n",
       "    <tr>\n",
       "      <th>3951</th>\n",
       "      <td>276231</td>\n",
       "      <td>0060928336</td>\n",
       "      <td>8</td>\n",
       "      <td>Divine Secrets of the Ya-Ya Sisterhood: A Novel</td>\n",
       "      <td>Rebecca Wells</td>\n",
       "      <td>1997</td>\n",
       "      <td>Perennial</td>\n",
       "    </tr>\n",
       "  </tbody>\n",
       "</table>\n",
       "<p>3952 rows × 7 columns</p>\n",
       "</div>"
      ],
      "text/plain": [
       "      User_id        ISBN  bookRating  \\\n",
       "0      276925  0385504209           8   \n",
       "1      277427  0385504209           8   \n",
       "2         638  0385504209          10   \n",
       "3         882  0385504209          10   \n",
       "4        1075  0385504209           7   \n",
       "...       ...         ...         ...   \n",
       "3947   274017  0060928336           8   \n",
       "3948   274380  0060928336           8   \n",
       "3949   274466  0060928336           6   \n",
       "3950   275357  0060928336           8   \n",
       "3951   276231  0060928336           8   \n",
       "\n",
       "                                            bookTitle     bookAuthor  \\\n",
       "0                                   The Da Vinci Code      Dan Brown   \n",
       "1                                   The Da Vinci Code      Dan Brown   \n",
       "2                                   The Da Vinci Code      Dan Brown   \n",
       "3                                   The Da Vinci Code      Dan Brown   \n",
       "4                                   The Da Vinci Code      Dan Brown   \n",
       "...                                               ...            ...   \n",
       "3947  Divine Secrets of the Ya-Ya Sisterhood: A Novel  Rebecca Wells   \n",
       "3948  Divine Secrets of the Ya-Ya Sisterhood: A Novel  Rebecca Wells   \n",
       "3949  Divine Secrets of the Ya-Ya Sisterhood: A Novel  Rebecca Wells   \n",
       "3950  Divine Secrets of the Ya-Ya Sisterhood: A Novel  Rebecca Wells   \n",
       "3951  Divine Secrets of the Ya-Ya Sisterhood: A Novel  Rebecca Wells   \n",
       "\n",
       "      yearOfPublication  publisher  \n",
       "0                  2003  Doubleday  \n",
       "1                  2003  Doubleday  \n",
       "2                  2003  Doubleday  \n",
       "3                  2003  Doubleday  \n",
       "4                  2003  Doubleday  \n",
       "...                 ...        ...  \n",
       "3947               1997  Perennial  \n",
       "3948               1997  Perennial  \n",
       "3949               1997  Perennial  \n",
       "3950               1997  Perennial  \n",
       "3951               1997  Perennial  \n",
       "\n",
       "[3952 rows x 7 columns]"
      ]
     },
     "execution_count": 109,
     "metadata": {},
     "output_type": "execute_result"
    }
   ],
   "source": [
    "# All data for most 10 rated book \n",
    "topb=bookrated[bookrated['ISBN'].isin(topbook)]\n",
    "topb=topb.merge(books,on='ISBN')\n",
    "topb"
   ]
  },
  {
   "cell_type": "code",
   "execution_count": 110,
   "metadata": {
    "scrolled": false
   },
   "outputs": [
    {
     "data": {
      "text/plain": [
       "<matplotlib.axes._subplots.AxesSubplot at 0x249823b7ac8>"
      ]
     },
     "execution_count": 110,
     "metadata": {},
     "output_type": "execute_result"
    },
    {
     "data": {
      "image/png": "[encoded data removed]",
      "text/plain": [
       "<Figure size 1440x720 with 1 Axes>"
      ]
     },
     "metadata": {
      "needs_background": "light"
     },
     "output_type": "display_data"
    }
   ],
   "source": [
    "# Plot most 10 rated books (number of time is rarted)\n",
    "plt.figure(figsize=(20,10))\n",
    "sns.countplot(data=topb , y='bookTitle', palette='rocket_r')"
   ]
  },
  {
   "cell_type": "markdown",
   "metadata": {},
   "source": [
    "# RECOMMENDATION SYSTEMS "
   ]
  },
  {
   "cell_type": "markdown",
   "metadata": {},
   "source": [
    "## Popularity-Based Recommendation System "
   ]
  },
  {
   "cell_type": "markdown",
   "metadata": {},
   "source": [
    "#### Popularity-Based Recommendation System : It is a type of recommendation system which works on the principle of popularity and or anything which is in trend. These systems check about the product or books which are in trend or are most popular among the users and directly recommend those.This recommendation model is recommended to the new website's visitors"
   ]
  },
  {
   "cell_type": "code",
   "execution_count": 111,
   "metadata": {},
   "outputs": [
    {
     "data": {
      "text/html": [
       "<div>\n",
       "<style scoped>\n",
       "    .dataframe tbody tr th:only-of-type {\n",
       "        vertical-align: middle;\n",
       "    }\n",
       "\n",
       "    .dataframe tbody tr th {\n",
       "        vertical-align: top;\n",
       "    }\n",
       "\n",
       "    .dataframe thead th {\n",
       "        text-align: right;\n",
       "    }\n",
       "</style>\n",
       "<table border=\"1\" class=\"dataframe\">\n",
       "  <thead>\n",
       "    <tr style=\"text-align: right;\">\n",
       "      <th></th>\n",
       "      <th>bookRating</th>\n",
       "      <th>ISBN</th>\n",
       "      <th>bookTitle</th>\n",
       "      <th>bookAuthor</th>\n",
       "      <th>yearOfPublication</th>\n",
       "      <th>publisher</th>\n",
       "    </tr>\n",
       "  </thead>\n",
       "  <tbody>\n",
       "    <tr>\n",
       "      <th>408</th>\n",
       "      <td>5787</td>\n",
       "      <td>0316666343</td>\n",
       "      <td>The Lovely Bones: A Novel</td>\n",
       "      <td>Alice Sebold</td>\n",
       "      <td>2002</td>\n",
       "      <td>Little, Brown</td>\n",
       "    </tr>\n",
       "    <tr>\n",
       "      <th>748</th>\n",
       "      <td>4108</td>\n",
       "      <td>0385504209</td>\n",
       "      <td>The Da Vinci Code</td>\n",
       "      <td>Dan Brown</td>\n",
       "      <td>2003</td>\n",
       "      <td>Doubleday</td>\n",
       "    </tr>\n",
       "    <tr>\n",
       "      <th>522</th>\n",
       "      <td>3134</td>\n",
       "      <td>0312195516</td>\n",
       "      <td>The Red Tent (Bestselling Backlist)</td>\n",
       "      <td>Anita Diamant</td>\n",
       "      <td>1998</td>\n",
       "      <td>Picador USA</td>\n",
       "    </tr>\n",
       "    <tr>\n",
       "      <th>2143</th>\n",
       "      <td>2798</td>\n",
       "      <td>059035342X</td>\n",
       "      <td>Harry Potter and the Sorcerer's Stone (Harry P...</td>\n",
       "      <td>J. K. Rowling</td>\n",
       "      <td>1999</td>\n",
       "      <td>Arthur A. Levine Books</td>\n",
       "    </tr>\n",
       "    <tr>\n",
       "      <th>356</th>\n",
       "      <td>2595</td>\n",
       "      <td>0142001740</td>\n",
       "      <td>The Secret Life of Bees</td>\n",
       "      <td>Sue Monk Kidd</td>\n",
       "      <td>2003</td>\n",
       "      <td>Penguin Books</td>\n",
       "    </tr>\n",
       "    <tr>\n",
       "      <th>26</th>\n",
       "      <td>2551</td>\n",
       "      <td>0971880107</td>\n",
       "      <td>Wild Animus</td>\n",
       "      <td>Rich Shapero</td>\n",
       "      <td>2004</td>\n",
       "      <td>Too Far</td>\n",
       "    </tr>\n",
       "    <tr>\n",
       "      <th>1105</th>\n",
       "      <td>2524</td>\n",
       "      <td>0060928336</td>\n",
       "      <td>Divine Secrets of the Ya-Ya Sisterhood: A Novel</td>\n",
       "      <td>Rebecca Wells</td>\n",
       "      <td>1997</td>\n",
       "      <td>Perennial</td>\n",
       "    </tr>\n",
       "    <tr>\n",
       "      <th>706</th>\n",
       "      <td>2402</td>\n",
       "      <td>0446672211</td>\n",
       "      <td>Where the Heart Is (Oprah's Book Club (Paperba...</td>\n",
       "      <td>Billie Letts</td>\n",
       "      <td>1998</td>\n",
       "      <td>Warner Books</td>\n",
       "    </tr>\n",
       "    <tr>\n",
       "      <th>231</th>\n",
       "      <td>2219</td>\n",
       "      <td>0452282152</td>\n",
       "      <td>Girl with a Pearl Earring</td>\n",
       "      <td>Tracy Chevalier</td>\n",
       "      <td>2001</td>\n",
       "      <td>Plume Books</td>\n",
       "    </tr>\n",
       "    <tr>\n",
       "      <th>118</th>\n",
       "      <td>2179</td>\n",
       "      <td>0671027360</td>\n",
       "      <td>Angels &amp;amp; Demons</td>\n",
       "      <td>Dan Brown</td>\n",
       "      <td>2001</td>\n",
       "      <td>Pocket Star</td>\n",
       "    </tr>\n",
       "  </tbody>\n",
       "</table>\n",
       "</div>"
      ],
      "text/plain": [
       "      bookRating        ISBN  \\\n",
       "408         5787  0316666343   \n",
       "748         4108  0385504209   \n",
       "522         3134  0312195516   \n",
       "2143        2798  059035342X   \n",
       "356         2595  0142001740   \n",
       "26          2551  0971880107   \n",
       "1105        2524  0060928336   \n",
       "706         2402  0446672211   \n",
       "231         2219  0452282152   \n",
       "118         2179  0671027360   \n",
       "\n",
       "                                              bookTitle       bookAuthor  \\\n",
       "408                           The Lovely Bones: A Novel     Alice Sebold   \n",
       "748                                   The Da Vinci Code        Dan Brown   \n",
       "522                 The Red Tent (Bestselling Backlist)    Anita Diamant   \n",
       "2143  Harry Potter and the Sorcerer's Stone (Harry P...    J. K. Rowling   \n",
       "356                             The Secret Life of Bees    Sue Monk Kidd   \n",
       "26                                          Wild Animus     Rich Shapero   \n",
       "1105    Divine Secrets of the Ya-Ya Sisterhood: A Novel    Rebecca Wells   \n",
       "706   Where the Heart Is (Oprah's Book Club (Paperba...     Billie Letts   \n",
       "231                           Girl with a Pearl Earring  Tracy Chevalier   \n",
       "118                                 Angels &amp; Demons        Dan Brown   \n",
       "\n",
       "      yearOfPublication               publisher  \n",
       "408                2002           Little, Brown  \n",
       "748                2003               Doubleday  \n",
       "522                1998             Picador USA  \n",
       "2143               1999  Arthur A. Levine Books  \n",
       "356                2003           Penguin Books  \n",
       "26                 2004                 Too Far  \n",
       "1105               1997               Perennial  \n",
       "706                1998            Warner Books  \n",
       "231                2001             Plume Books  \n",
       "118                2001             Pocket Star  "
      ]
     },
     "execution_count": 111,
     "metadata": {},
     "output_type": "execute_result"
    }
   ],
   "source": [
    "# Creating recommendation model based on sum of rates for each book \n",
    "sumratings = pd.DataFrame(bookrated.groupby(['ISBN'])['bookRating'].sum())\n",
    "top10 = sumratings.sort_values('bookRating', ascending = False).head(10)\n",
    "\n",
    "top10book=top10.merge(books, left_index = True, right_on = 'ISBN')\n",
    "top10book"
   ]
  },
  {
   "cell_type": "code",
   "execution_count": 112,
   "metadata": {},
   "outputs": [
    {
     "data": {
      "text/plain": [
       "<BarContainer object of 10 artists>"
      ]
     },
     "execution_count": 112,
     "metadata": {},
     "output_type": "execute_result"
    },
    {
     "data": {
      "image/png": "[encoded data removed]",
      "text/plain": [
       "<Figure size 1080x720 with 1 Axes>"
      ]
     },
     "metadata": {
      "needs_background": "light"
     },
     "output_type": "display_data"
    }
   ],
   "source": [
    "# plot top 10 rated book \n",
    "plt.figure(figsize=(15,10))\n",
    "plt.barh(top10book['bookTitle'],top10book['bookRating'],align='center')"
   ]
  },
  {
   "cell_type": "markdown",
   "metadata": {},
   "source": [
    "## Collaborative Filtering recommendation system"
   ]
  },
  {
   "cell_type": "markdown",
   "metadata": {},
   "source": [
    "#### Collaborative filtering is a method of making automatic predictions (filtering) about the interests of a user by collecting preferences or taste information from many users (collaborating). If there is user A who has read and liked x and y books, And user B has also liked this two books and now user A has read and liked z book which is not read by B so we have to recommend z book to user B"
   ]
  },
  {
   "cell_type": "code",
   "execution_count": 113,
   "metadata": {},
   "outputs": [
    {
     "name": "stdout",
     "output_type": "stream",
     "text": [
      "(102371, 3)\n"
     ]
    }
   ],
   "source": [
    "# We will extract the user ids who have given more than 100 ratings and when we will have user ids we will extract \n",
    "#the ratings of only this user id from the rating dataframe.\n",
    "x = bookrated['User_id'].value_counts() > 100\n",
    "y = x[x].index  \n",
    "rating = bookrated[bookrated['User_id'].isin(y)]\n",
    "print(rating.shape)"
   ]
  },
  {
   "cell_type": "code",
   "execution_count": 114,
   "metadata": {},
   "outputs": [
    {
     "data": {
      "text/html": [
       "<div>\n",
       "<style scoped>\n",
       "    .dataframe tbody tr th:only-of-type {\n",
       "        vertical-align: middle;\n",
       "    }\n",
       "\n",
       "    .dataframe tbody tr th {\n",
       "        vertical-align: top;\n",
       "    }\n",
       "\n",
       "    .dataframe thead th {\n",
       "        text-align: right;\n",
       "    }\n",
       "</style>\n",
       "<table border=\"1\" class=\"dataframe\">\n",
       "  <thead>\n",
       "    <tr style=\"text-align: right;\">\n",
       "      <th></th>\n",
       "      <th>User_id</th>\n",
       "      <th>ISBN</th>\n",
       "      <th>bookRating</th>\n",
       "      <th>bookTitle</th>\n",
       "      <th>bookAuthor</th>\n",
       "      <th>yearOfPublication</th>\n",
       "      <th>publisher</th>\n",
       "    </tr>\n",
       "  </thead>\n",
       "  <tbody>\n",
       "    <tr>\n",
       "      <th>0</th>\n",
       "      <td>277427</td>\n",
       "      <td>002542730X</td>\n",
       "      <td>10</td>\n",
       "      <td>Politically Correct Bedtime Stories: Modern Ta...</td>\n",
       "      <td>James Finn Garner</td>\n",
       "      <td>1994</td>\n",
       "      <td>John Wiley &amp;amp; Sons Inc</td>\n",
       "    </tr>\n",
       "    <tr>\n",
       "      <th>1</th>\n",
       "      <td>11676</td>\n",
       "      <td>002542730X</td>\n",
       "      <td>6</td>\n",
       "      <td>Politically Correct Bedtime Stories: Modern Ta...</td>\n",
       "      <td>James Finn Garner</td>\n",
       "      <td>1994</td>\n",
       "      <td>John Wiley &amp;amp; Sons Inc</td>\n",
       "    </tr>\n",
       "    <tr>\n",
       "      <th>2</th>\n",
       "      <td>12538</td>\n",
       "      <td>002542730X</td>\n",
       "      <td>10</td>\n",
       "      <td>Politically Correct Bedtime Stories: Modern Ta...</td>\n",
       "      <td>James Finn Garner</td>\n",
       "      <td>1994</td>\n",
       "      <td>John Wiley &amp;amp; Sons Inc</td>\n",
       "    </tr>\n",
       "    <tr>\n",
       "      <th>3</th>\n",
       "      <td>52584</td>\n",
       "      <td>002542730X</td>\n",
       "      <td>10</td>\n",
       "      <td>Politically Correct Bedtime Stories: Modern Ta...</td>\n",
       "      <td>James Finn Garner</td>\n",
       "      <td>1994</td>\n",
       "      <td>John Wiley &amp;amp; Sons Inc</td>\n",
       "    </tr>\n",
       "    <tr>\n",
       "      <th>4</th>\n",
       "      <td>110934</td>\n",
       "      <td>002542730X</td>\n",
       "      <td>6</td>\n",
       "      <td>Politically Correct Bedtime Stories: Modern Ta...</td>\n",
       "      <td>James Finn Garner</td>\n",
       "      <td>1994</td>\n",
       "      <td>John Wiley &amp;amp; Sons Inc</td>\n",
       "    </tr>\n",
       "  </tbody>\n",
       "</table>\n",
       "</div>"
      ],
      "text/plain": [
       "   User_id        ISBN  bookRating  \\\n",
       "0   277427  002542730X          10   \n",
       "1    11676  002542730X           6   \n",
       "2    12538  002542730X          10   \n",
       "3    52584  002542730X          10   \n",
       "4   110934  002542730X           6   \n",
       "\n",
       "                                           bookTitle         bookAuthor  \\\n",
       "0  Politically Correct Bedtime Stories: Modern Ta...  James Finn Garner   \n",
       "1  Politically Correct Bedtime Stories: Modern Ta...  James Finn Garner   \n",
       "2  Politically Correct Bedtime Stories: Modern Ta...  James Finn Garner   \n",
       "3  Politically Correct Bedtime Stories: Modern Ta...  James Finn Garner   \n",
       "4  Politically Correct Bedtime Stories: Modern Ta...  James Finn Garner   \n",
       "\n",
       "   yearOfPublication                  publisher  \n",
       "0               1994  John Wiley &amp; Sons Inc  \n",
       "1               1994  John Wiley &amp; Sons Inc  \n",
       "2               1994  John Wiley &amp; Sons Inc  \n",
       "3               1994  John Wiley &amp; Sons Inc  \n",
       "4               1994  John Wiley &amp; Sons Inc  "
      ]
     },
     "execution_count": 114,
     "metadata": {},
     "output_type": "execute_result"
    }
   ],
   "source": [
    "# Merging ratings with books on basis of ISBN so that we will get the rating of each user on each book id\n",
    "rating_with_books = rating.merge(books, on='ISBN')\n",
    "rating_with_books.head()"
   ]
  },
  {
   "cell_type": "code",
   "execution_count": 115,
   "metadata": {},
   "outputs": [
    {
     "data": {
      "text/html": [
       "<div>\n",
       "<style scoped>\n",
       "    .dataframe tbody tr th:only-of-type {\n",
       "        vertical-align: middle;\n",
       "    }\n",
       "\n",
       "    .dataframe tbody tr th {\n",
       "        vertical-align: top;\n",
       "    }\n",
       "\n",
       "    .dataframe thead th {\n",
       "        text-align: right;\n",
       "    }\n",
       "</style>\n",
       "<table border=\"1\" class=\"dataframe\">\n",
       "  <thead>\n",
       "    <tr style=\"text-align: right;\">\n",
       "      <th></th>\n",
       "      <th>bookTitle</th>\n",
       "      <th>number_of_ratings</th>\n",
       "    </tr>\n",
       "  </thead>\n",
       "  <tbody>\n",
       "    <tr>\n",
       "      <th>20267</th>\n",
       "      <td>Harry Potter and the Chamber of Secrets (Book 2)</td>\n",
       "      <td>71</td>\n",
       "    </tr>\n",
       "    <tr>\n",
       "      <th>49567</th>\n",
       "      <td>The Lovely Bones: A Novel</td>\n",
       "      <td>70</td>\n",
       "    </tr>\n",
       "    <tr>\n",
       "      <th>7486</th>\n",
       "      <td>Bridget Jones's Diary</td>\n",
       "      <td>64</td>\n",
       "    </tr>\n",
       "    <tr>\n",
       "      <th>20283</th>\n",
       "      <td>Harry Potter and the Prisoner of Azkaban (Book 3)</td>\n",
       "      <td>56</td>\n",
       "    </tr>\n",
       "    <tr>\n",
       "      <th>20273</th>\n",
       "      <td>Harry Potter and the Goblet of Fire (Book 4)</td>\n",
       "      <td>53</td>\n",
       "    </tr>\n",
       "    <tr>\n",
       "      <th>...</th>\n",
       "      <td>...</td>\n",
       "      <td>...</td>\n",
       "    </tr>\n",
       "    <tr>\n",
       "      <th>23235</th>\n",
       "      <td>Information Anxiety</td>\n",
       "      <td>1</td>\n",
       "    </tr>\n",
       "    <tr>\n",
       "      <th>23236</th>\n",
       "      <td>Information Architecture for the World Wide We...</td>\n",
       "      <td>1</td>\n",
       "    </tr>\n",
       "    <tr>\n",
       "      <th>23237</th>\n",
       "      <td>Informe Sobre La Tierra: Fundamentalmente in</td>\n",
       "      <td>1</td>\n",
       "    </tr>\n",
       "    <tr>\n",
       "      <th>23238</th>\n",
       "      <td>Informed Consent</td>\n",
       "      <td>1</td>\n",
       "    </tr>\n",
       "    <tr>\n",
       "      <th>61192</th>\n",
       "      <td>Ã?Â?ber das Fernsehen.</td>\n",
       "      <td>1</td>\n",
       "    </tr>\n",
       "  </tbody>\n",
       "</table>\n",
       "<p>61193 rows × 2 columns</p>\n",
       "</div>"
      ],
      "text/plain": [
       "                                               bookTitle  number_of_ratings\n",
       "20267   Harry Potter and the Chamber of Secrets (Book 2)                 71\n",
       "49567                          The Lovely Bones: A Novel                 70\n",
       "7486                               Bridget Jones's Diary                 64\n",
       "20283  Harry Potter and the Prisoner of Azkaban (Book 3)                 56\n",
       "20273       Harry Potter and the Goblet of Fire (Book 4)                 53\n",
       "...                                                  ...                ...\n",
       "23235                                Information Anxiety                  1\n",
       "23236  Information Architecture for the World Wide We...                  1\n",
       "23237       Informe Sobre La Tierra: Fundamentalmente in                  1\n",
       "23238                                   Informed Consent                  1\n",
       "61192                             Ã?Â?ber das Fernsehen.                  1\n",
       "\n",
       "[61193 rows x 2 columns]"
      ]
     },
     "execution_count": 115,
     "metadata": {},
     "output_type": "execute_result"
    }
   ],
   "source": [
    "# Number of ratings for every book\n",
    "number_rating = rating_with_books.groupby('bookTitle')['bookRating'].count().reset_index()\n",
    "number_rating.rename(columns= {'bookRating':'number_of_ratings'}, inplace=True)\n",
    "number_rating.sort_values('number_of_ratings', ascending = False)"
   ]
  },
  {
   "cell_type": "code",
   "execution_count": 116,
   "metadata": {},
   "outputs": [],
   "source": [
    "# We create a dataset with that user who has rated more than 100 books and books that received\n",
    "#more than 50 ratings\n",
    "final_rating = rating_with_books.merge(number_rating, on='bookTitle')\n",
    "final_rating.shape\n",
    "final_rating = final_rating[final_rating['number_of_ratings'] >= 20]\n",
    "final_rating.drop_duplicates(['User_id','bookTitle'], inplace=True)"
   ]
  },
  {
   "cell_type": "code",
   "execution_count": 117,
   "metadata": {},
   "outputs": [
    {
     "data": {
      "text/html": [
       "<div>\n",
       "<style scoped>\n",
       "    .dataframe tbody tr th:only-of-type {\n",
       "        vertical-align: middle;\n",
       "    }\n",
       "\n",
       "    .dataframe tbody tr th {\n",
       "        vertical-align: top;\n",
       "    }\n",
       "\n",
       "    .dataframe thead th {\n",
       "        text-align: right;\n",
       "    }\n",
       "</style>\n",
       "<table border=\"1\" class=\"dataframe\">\n",
       "  <thead>\n",
       "    <tr style=\"text-align: right;\">\n",
       "      <th></th>\n",
       "      <th>User_id</th>\n",
       "      <th>ISBN</th>\n",
       "      <th>bookRating</th>\n",
       "      <th>bookTitle</th>\n",
       "      <th>bookAuthor</th>\n",
       "      <th>yearOfPublication</th>\n",
       "      <th>publisher</th>\n",
       "      <th>number_of_ratings</th>\n",
       "    </tr>\n",
       "  </thead>\n",
       "  <tbody>\n",
       "    <tr>\n",
       "      <th>29</th>\n",
       "      <td>277427</td>\n",
       "      <td>0061009059</td>\n",
       "      <td>9</td>\n",
       "      <td>One for the Money (Stephanie Plum Novels (Pape...</td>\n",
       "      <td>Janet Evanovich</td>\n",
       "      <td>1995</td>\n",
       "      <td>HarperTorch</td>\n",
       "      <td>22</td>\n",
       "    </tr>\n",
       "    <tr>\n",
       "      <th>30</th>\n",
       "      <td>6251</td>\n",
       "      <td>0061009059</td>\n",
       "      <td>7</td>\n",
       "      <td>One for the Money (Stephanie Plum Novels (Pape...</td>\n",
       "      <td>Janet Evanovich</td>\n",
       "      <td>1995</td>\n",
       "      <td>HarperTorch</td>\n",
       "      <td>22</td>\n",
       "    </tr>\n",
       "    <tr>\n",
       "      <th>31</th>\n",
       "      <td>6543</td>\n",
       "      <td>0061009059</td>\n",
       "      <td>8</td>\n",
       "      <td>One for the Money (Stephanie Plum Novels (Pape...</td>\n",
       "      <td>Janet Evanovich</td>\n",
       "      <td>1995</td>\n",
       "      <td>HarperTorch</td>\n",
       "      <td>22</td>\n",
       "    </tr>\n",
       "    <tr>\n",
       "      <th>32</th>\n",
       "      <td>8067</td>\n",
       "      <td>0061009059</td>\n",
       "      <td>10</td>\n",
       "      <td>One for the Money (Stephanie Plum Novels (Pape...</td>\n",
       "      <td>Janet Evanovich</td>\n",
       "      <td>1995</td>\n",
       "      <td>HarperTorch</td>\n",
       "      <td>22</td>\n",
       "    </tr>\n",
       "    <tr>\n",
       "      <th>33</th>\n",
       "      <td>11676</td>\n",
       "      <td>0061009059</td>\n",
       "      <td>8</td>\n",
       "      <td>One for the Money (Stephanie Plum Novels (Pape...</td>\n",
       "      <td>Janet Evanovich</td>\n",
       "      <td>1995</td>\n",
       "      <td>HarperTorch</td>\n",
       "      <td>22</td>\n",
       "    </tr>\n",
       "    <tr>\n",
       "      <th>...</th>\n",
       "      <td>...</td>\n",
       "      <td>...</td>\n",
       "      <td>...</td>\n",
       "      <td>...</td>\n",
       "      <td>...</td>\n",
       "      <td>...</td>\n",
       "      <td>...</td>\n",
       "      <td>...</td>\n",
       "    </tr>\n",
       "    <tr>\n",
       "      <th>42713</th>\n",
       "      <td>274061</td>\n",
       "      <td>0451176464</td>\n",
       "      <td>10</td>\n",
       "      <td>Gerald's Game</td>\n",
       "      <td>Stephen King</td>\n",
       "      <td>2001</td>\n",
       "      <td>Signet Book</td>\n",
       "      <td>26</td>\n",
       "    </tr>\n",
       "    <tr>\n",
       "      <th>42714</th>\n",
       "      <td>102359</td>\n",
       "      <td>0670846503</td>\n",
       "      <td>10</td>\n",
       "      <td>Gerald's Game</td>\n",
       "      <td>Stephen King</td>\n",
       "      <td>1992</td>\n",
       "      <td>Penguin Putnam~childrens Hc</td>\n",
       "      <td>26</td>\n",
       "    </tr>\n",
       "    <tr>\n",
       "      <th>42715</th>\n",
       "      <td>140358</td>\n",
       "      <td>0670846503</td>\n",
       "      <td>5</td>\n",
       "      <td>Gerald's Game</td>\n",
       "      <td>Stephen King</td>\n",
       "      <td>1992</td>\n",
       "      <td>Penguin Putnam~childrens Hc</td>\n",
       "      <td>26</td>\n",
       "    </tr>\n",
       "    <tr>\n",
       "      <th>42716</th>\n",
       "      <td>236283</td>\n",
       "      <td>0670846503</td>\n",
       "      <td>10</td>\n",
       "      <td>Gerald's Game</td>\n",
       "      <td>Stephen King</td>\n",
       "      <td>1992</td>\n",
       "      <td>Penguin Putnam~childrens Hc</td>\n",
       "      <td>26</td>\n",
       "    </tr>\n",
       "    <tr>\n",
       "      <th>42718</th>\n",
       "      <td>241980</td>\n",
       "      <td>0453008003</td>\n",
       "      <td>10</td>\n",
       "      <td>Gerald's Game</td>\n",
       "      <td>Stephen King</td>\n",
       "      <td>1992</td>\n",
       "      <td>Highbridge Audio</td>\n",
       "      <td>26</td>\n",
       "    </tr>\n",
       "  </tbody>\n",
       "</table>\n",
       "<p>5079 rows × 8 columns</p>\n",
       "</div>"
      ],
      "text/plain": [
       "       User_id        ISBN  bookRating  \\\n",
       "29      277427  0061009059           9   \n",
       "30        6251  0061009059           7   \n",
       "31        6543  0061009059           8   \n",
       "32        8067  0061009059          10   \n",
       "33       11676  0061009059           8   \n",
       "...        ...         ...         ...   \n",
       "42713   274061  0451176464          10   \n",
       "42714   102359  0670846503          10   \n",
       "42715   140358  0670846503           5   \n",
       "42716   236283  0670846503          10   \n",
       "42718   241980  0453008003          10   \n",
       "\n",
       "                                               bookTitle       bookAuthor  \\\n",
       "29     One for the Money (Stephanie Plum Novels (Pape...  Janet Evanovich   \n",
       "30     One for the Money (Stephanie Plum Novels (Pape...  Janet Evanovich   \n",
       "31     One for the Money (Stephanie Plum Novels (Pape...  Janet Evanovich   \n",
       "32     One for the Money (Stephanie Plum Novels (Pape...  Janet Evanovich   \n",
       "33     One for the Money (Stephanie Plum Novels (Pape...  Janet Evanovich   \n",
       "...                                                  ...              ...   \n",
       "42713                                      Gerald's Game     Stephen King   \n",
       "42714                                      Gerald's Game     Stephen King   \n",
       "42715                                      Gerald's Game     Stephen King   \n",
       "42716                                      Gerald's Game     Stephen King   \n",
       "42718                                      Gerald's Game     Stephen King   \n",
       "\n",
       "       yearOfPublication                    publisher  number_of_ratings  \n",
       "29                  1995                  HarperTorch                 22  \n",
       "30                  1995                  HarperTorch                 22  \n",
       "31                  1995                  HarperTorch                 22  \n",
       "32                  1995                  HarperTorch                 22  \n",
       "33                  1995                  HarperTorch                 22  \n",
       "...                  ...                          ...                ...  \n",
       "42713               2001                  Signet Book                 26  \n",
       "42714               1992  Penguin Putnam~childrens Hc                 26  \n",
       "42715               1992  Penguin Putnam~childrens Hc                 26  \n",
       "42716               1992  Penguin Putnam~childrens Hc                 26  \n",
       "42718               1992             Highbridge Audio                 26  \n",
       "\n",
       "[5079 rows x 8 columns]"
      ]
     },
     "execution_count": 117,
     "metadata": {},
     "output_type": "execute_result"
    }
   ],
   "source": [
    "# Final dataset for the recommendation model\n",
    "final_rating"
   ]
  },
  {
   "cell_type": "code",
   "execution_count": 118,
   "metadata": {},
   "outputs": [
    {
     "data": {
      "text/html": [
       "<div>\n",
       "<style scoped>\n",
       "    .dataframe tbody tr th:only-of-type {\n",
       "        vertical-align: middle;\n",
       "    }\n",
       "\n",
       "    .dataframe tbody tr th {\n",
       "        vertical-align: top;\n",
       "    }\n",
       "\n",
       "    .dataframe thead th {\n",
       "        text-align: right;\n",
       "    }\n",
       "</style>\n",
       "<table border=\"1\" class=\"dataframe\">\n",
       "  <thead>\n",
       "    <tr style=\"text-align: right;\">\n",
       "      <th>User_id</th>\n",
       "      <th>2033</th>\n",
       "      <th>2110</th>\n",
       "      <th>2276</th>\n",
       "      <th>4017</th>\n",
       "      <th>4385</th>\n",
       "      <th>5582</th>\n",
       "      <th>6242</th>\n",
       "      <th>6251</th>\n",
       "      <th>6543</th>\n",
       "      <th>6575</th>\n",
       "      <th>...</th>\n",
       "      <th>268932</th>\n",
       "      <th>269566</th>\n",
       "      <th>270713</th>\n",
       "      <th>271448</th>\n",
       "      <th>271705</th>\n",
       "      <th>273113</th>\n",
       "      <th>274061</th>\n",
       "      <th>274301</th>\n",
       "      <th>275970</th>\n",
       "      <th>277427</th>\n",
       "    </tr>\n",
       "    <tr>\n",
       "      <th>bookTitle</th>\n",
       "      <th></th>\n",
       "      <th></th>\n",
       "      <th></th>\n",
       "      <th></th>\n",
       "      <th></th>\n",
       "      <th></th>\n",
       "      <th></th>\n",
       "      <th></th>\n",
       "      <th></th>\n",
       "      <th></th>\n",
       "      <th></th>\n",
       "      <th></th>\n",
       "      <th></th>\n",
       "      <th></th>\n",
       "      <th></th>\n",
       "      <th></th>\n",
       "      <th></th>\n",
       "      <th></th>\n",
       "      <th></th>\n",
       "      <th></th>\n",
       "      <th></th>\n",
       "    </tr>\n",
       "  </thead>\n",
       "  <tbody>\n",
       "    <tr>\n",
       "      <th>1st to Die: A Novel</th>\n",
       "      <td>0.0</td>\n",
       "      <td>0.0</td>\n",
       "      <td>0.0</td>\n",
       "      <td>0.0</td>\n",
       "      <td>0.0</td>\n",
       "      <td>0.0</td>\n",
       "      <td>0.0</td>\n",
       "      <td>0.0</td>\n",
       "      <td>9.0</td>\n",
       "      <td>0.0</td>\n",
       "      <td>...</td>\n",
       "      <td>0.0</td>\n",
       "      <td>0.0</td>\n",
       "      <td>0.0</td>\n",
       "      <td>0.0</td>\n",
       "      <td>0.0</td>\n",
       "      <td>0.0</td>\n",
       "      <td>0.0</td>\n",
       "      <td>0.0</td>\n",
       "      <td>0.0</td>\n",
       "      <td>0.0</td>\n",
       "    </tr>\n",
       "    <tr>\n",
       "      <th>2nd Chance</th>\n",
       "      <td>0.0</td>\n",
       "      <td>0.0</td>\n",
       "      <td>10.0</td>\n",
       "      <td>0.0</td>\n",
       "      <td>0.0</td>\n",
       "      <td>0.0</td>\n",
       "      <td>0.0</td>\n",
       "      <td>0.0</td>\n",
       "      <td>0.0</td>\n",
       "      <td>0.0</td>\n",
       "      <td>...</td>\n",
       "      <td>0.0</td>\n",
       "      <td>0.0</td>\n",
       "      <td>0.0</td>\n",
       "      <td>0.0</td>\n",
       "      <td>0.0</td>\n",
       "      <td>0.0</td>\n",
       "      <td>0.0</td>\n",
       "      <td>0.0</td>\n",
       "      <td>0.0</td>\n",
       "      <td>0.0</td>\n",
       "    </tr>\n",
       "    <tr>\n",
       "      <th>84 Charing Cross Road</th>\n",
       "      <td>0.0</td>\n",
       "      <td>0.0</td>\n",
       "      <td>0.0</td>\n",
       "      <td>0.0</td>\n",
       "      <td>0.0</td>\n",
       "      <td>0.0</td>\n",
       "      <td>0.0</td>\n",
       "      <td>0.0</td>\n",
       "      <td>0.0</td>\n",
       "      <td>0.0</td>\n",
       "      <td>...</td>\n",
       "      <td>0.0</td>\n",
       "      <td>0.0</td>\n",
       "      <td>0.0</td>\n",
       "      <td>0.0</td>\n",
       "      <td>0.0</td>\n",
       "      <td>0.0</td>\n",
       "      <td>0.0</td>\n",
       "      <td>0.0</td>\n",
       "      <td>10.0</td>\n",
       "      <td>0.0</td>\n",
       "    </tr>\n",
       "    <tr>\n",
       "      <th>A Bend in the Road</th>\n",
       "      <td>0.0</td>\n",
       "      <td>0.0</td>\n",
       "      <td>0.0</td>\n",
       "      <td>0.0</td>\n",
       "      <td>0.0</td>\n",
       "      <td>0.0</td>\n",
       "      <td>0.0</td>\n",
       "      <td>0.0</td>\n",
       "      <td>0.0</td>\n",
       "      <td>1.0</td>\n",
       "      <td>...</td>\n",
       "      <td>0.0</td>\n",
       "      <td>0.0</td>\n",
       "      <td>0.0</td>\n",
       "      <td>0.0</td>\n",
       "      <td>0.0</td>\n",
       "      <td>5.0</td>\n",
       "      <td>0.0</td>\n",
       "      <td>0.0</td>\n",
       "      <td>0.0</td>\n",
       "      <td>0.0</td>\n",
       "    </tr>\n",
       "    <tr>\n",
       "      <th>A Is for Alibi (Kinsey Millhone Mysteries (Paperback))</th>\n",
       "      <td>0.0</td>\n",
       "      <td>0.0</td>\n",
       "      <td>0.0</td>\n",
       "      <td>0.0</td>\n",
       "      <td>0.0</td>\n",
       "      <td>0.0</td>\n",
       "      <td>0.0</td>\n",
       "      <td>0.0</td>\n",
       "      <td>0.0</td>\n",
       "      <td>7.0</td>\n",
       "      <td>...</td>\n",
       "      <td>0.0</td>\n",
       "      <td>0.0</td>\n",
       "      <td>0.0</td>\n",
       "      <td>0.0</td>\n",
       "      <td>0.0</td>\n",
       "      <td>0.0</td>\n",
       "      <td>0.0</td>\n",
       "      <td>10.0</td>\n",
       "      <td>0.0</td>\n",
       "      <td>0.0</td>\n",
       "    </tr>\n",
       "    <tr>\n",
       "      <th>...</th>\n",
       "      <td>...</td>\n",
       "      <td>...</td>\n",
       "      <td>...</td>\n",
       "      <td>...</td>\n",
       "      <td>...</td>\n",
       "      <td>...</td>\n",
       "      <td>...</td>\n",
       "      <td>...</td>\n",
       "      <td>...</td>\n",
       "      <td>...</td>\n",
       "      <td>...</td>\n",
       "      <td>...</td>\n",
       "      <td>...</td>\n",
       "      <td>...</td>\n",
       "      <td>...</td>\n",
       "      <td>...</td>\n",
       "      <td>...</td>\n",
       "      <td>...</td>\n",
       "      <td>...</td>\n",
       "      <td>...</td>\n",
       "      <td>...</td>\n",
       "    </tr>\n",
       "    <tr>\n",
       "      <th>White Oleander : A Novel</th>\n",
       "      <td>0.0</td>\n",
       "      <td>0.0</td>\n",
       "      <td>0.0</td>\n",
       "      <td>0.0</td>\n",
       "      <td>0.0</td>\n",
       "      <td>0.0</td>\n",
       "      <td>0.0</td>\n",
       "      <td>8.0</td>\n",
       "      <td>0.0</td>\n",
       "      <td>0.0</td>\n",
       "      <td>...</td>\n",
       "      <td>0.0</td>\n",
       "      <td>0.0</td>\n",
       "      <td>0.0</td>\n",
       "      <td>9.0</td>\n",
       "      <td>0.0</td>\n",
       "      <td>0.0</td>\n",
       "      <td>0.0</td>\n",
       "      <td>0.0</td>\n",
       "      <td>0.0</td>\n",
       "      <td>0.0</td>\n",
       "    </tr>\n",
       "    <tr>\n",
       "      <th>White Oleander : A Novel (Oprah's Book Club)</th>\n",
       "      <td>0.0</td>\n",
       "      <td>0.0</td>\n",
       "      <td>0.0</td>\n",
       "      <td>0.0</td>\n",
       "      <td>0.0</td>\n",
       "      <td>0.0</td>\n",
       "      <td>0.0</td>\n",
       "      <td>0.0</td>\n",
       "      <td>0.0</td>\n",
       "      <td>0.0</td>\n",
       "      <td>...</td>\n",
       "      <td>0.0</td>\n",
       "      <td>0.0</td>\n",
       "      <td>0.0</td>\n",
       "      <td>0.0</td>\n",
       "      <td>0.0</td>\n",
       "      <td>0.0</td>\n",
       "      <td>0.0</td>\n",
       "      <td>0.0</td>\n",
       "      <td>0.0</td>\n",
       "      <td>0.0</td>\n",
       "    </tr>\n",
       "    <tr>\n",
       "      <th>Wicked: The Life and Times of the Wicked Witch of the West</th>\n",
       "      <td>0.0</td>\n",
       "      <td>0.0</td>\n",
       "      <td>0.0</td>\n",
       "      <td>0.0</td>\n",
       "      <td>0.0</td>\n",
       "      <td>0.0</td>\n",
       "      <td>7.0</td>\n",
       "      <td>0.0</td>\n",
       "      <td>10.0</td>\n",
       "      <td>9.0</td>\n",
       "      <td>...</td>\n",
       "      <td>0.0</td>\n",
       "      <td>0.0</td>\n",
       "      <td>0.0</td>\n",
       "      <td>9.0</td>\n",
       "      <td>0.0</td>\n",
       "      <td>0.0</td>\n",
       "      <td>0.0</td>\n",
       "      <td>0.0</td>\n",
       "      <td>0.0</td>\n",
       "      <td>0.0</td>\n",
       "    </tr>\n",
       "    <tr>\n",
       "      <th>Wild Animus</th>\n",
       "      <td>0.0</td>\n",
       "      <td>0.0</td>\n",
       "      <td>0.0</td>\n",
       "      <td>0.0</td>\n",
       "      <td>0.0</td>\n",
       "      <td>0.0</td>\n",
       "      <td>0.0</td>\n",
       "      <td>0.0</td>\n",
       "      <td>0.0</td>\n",
       "      <td>0.0</td>\n",
       "      <td>...</td>\n",
       "      <td>0.0</td>\n",
       "      <td>0.0</td>\n",
       "      <td>0.0</td>\n",
       "      <td>2.0</td>\n",
       "      <td>0.0</td>\n",
       "      <td>0.0</td>\n",
       "      <td>0.0</td>\n",
       "      <td>0.0</td>\n",
       "      <td>0.0</td>\n",
       "      <td>0.0</td>\n",
       "    </tr>\n",
       "    <tr>\n",
       "      <th>Wizard and Glass (The Dark Tower, Book 4)</th>\n",
       "      <td>0.0</td>\n",
       "      <td>0.0</td>\n",
       "      <td>0.0</td>\n",
       "      <td>0.0</td>\n",
       "      <td>0.0</td>\n",
       "      <td>0.0</td>\n",
       "      <td>0.0</td>\n",
       "      <td>0.0</td>\n",
       "      <td>0.0</td>\n",
       "      <td>0.0</td>\n",
       "      <td>...</td>\n",
       "      <td>0.0</td>\n",
       "      <td>0.0</td>\n",
       "      <td>0.0</td>\n",
       "      <td>0.0</td>\n",
       "      <td>0.0</td>\n",
       "      <td>0.0</td>\n",
       "      <td>0.0</td>\n",
       "      <td>0.0</td>\n",
       "      <td>0.0</td>\n",
       "      <td>0.0</td>\n",
       "    </tr>\n",
       "  </tbody>\n",
       "</table>\n",
       "<p>185 rows × 417 columns</p>\n",
       "</div>"
      ],
      "text/plain": [
       "User_id                                             2033    2110    2276    \\\n",
       "bookTitle                                                                    \n",
       "1st to Die: A Novel                                    0.0     0.0     0.0   \n",
       "2nd Chance                                             0.0     0.0    10.0   \n",
       "84 Charing Cross Road                                  0.0     0.0     0.0   \n",
       "A Bend in the Road                                     0.0     0.0     0.0   \n",
       "A Is for Alibi (Kinsey Millhone Mysteries (Pape...     0.0     0.0     0.0   \n",
       "...                                                    ...     ...     ...   \n",
       "White Oleander : A Novel                               0.0     0.0     0.0   \n",
       "White Oleander : A Novel (Oprah's Book Club)           0.0     0.0     0.0   \n",
       "Wicked: The Life and Times of the Wicked Witch ...     0.0     0.0     0.0   \n",
       "Wild Animus                                            0.0     0.0     0.0   \n",
       "Wizard and Glass (The Dark Tower, Book 4)              0.0     0.0     0.0   \n",
       "\n",
       "User_id                                             4017    4385    5582    \\\n",
       "bookTitle                                                                    \n",
       "1st to Die: A Novel                                    0.0     0.0     0.0   \n",
       "2nd Chance                                             0.0     0.0     0.0   \n",
       "84 Charing Cross Road                                  0.0     0.0     0.0   \n",
       "A Bend in the Road                                     0.0     0.0     0.0   \n",
       "A Is for Alibi (Kinsey Millhone Mysteries (Pape...     0.0     0.0     0.0   \n",
       "...                                                    ...     ...     ...   \n",
       "White Oleander : A Novel                               0.0     0.0     0.0   \n",
       "White Oleander : A Novel (Oprah's Book Club)           0.0     0.0     0.0   \n",
       "Wicked: The Life and Times of the Wicked Witch ...     0.0     0.0     0.0   \n",
       "Wild Animus                                            0.0     0.0     0.0   \n",
       "Wizard and Glass (The Dark Tower, Book 4)              0.0     0.0     0.0   \n",
       "\n",
       "User_id                                             6242    6251    6543    \\\n",
       "bookTitle                                                                    \n",
       "1st to Die: A Novel                                    0.0     0.0     9.0   \n",
       "2nd Chance                                             0.0     0.0     0.0   \n",
       "84 Charing Cross Road                                  0.0     0.0     0.0   \n",
       "A Bend in the Road                                     0.0     0.0     0.0   \n",
       "A Is for Alibi (Kinsey Millhone Mysteries (Pape...     0.0     0.0     0.0   \n",
       "...                                                    ...     ...     ...   \n",
       "White Oleander : A Novel                               0.0     8.0     0.0   \n",
       "White Oleander : A Novel (Oprah's Book Club)           0.0     0.0     0.0   \n",
       "Wicked: The Life and Times of the Wicked Witch ...     7.0     0.0    10.0   \n",
       "Wild Animus                                            0.0     0.0     0.0   \n",
       "Wizard and Glass (The Dark Tower, Book 4)              0.0     0.0     0.0   \n",
       "\n",
       "User_id                                             6575    ...  268932  \\\n",
       "bookTitle                                                   ...           \n",
       "1st to Die: A Novel                                    0.0  ...     0.0   \n",
       "2nd Chance                                             0.0  ...     0.0   \n",
       "84 Charing Cross Road                                  0.0  ...     0.0   \n",
       "A Bend in the Road                                     1.0  ...     0.0   \n",
       "A Is for Alibi (Kinsey Millhone Mysteries (Pape...     7.0  ...     0.0   \n",
       "...                                                    ...  ...     ...   \n",
       "White Oleander : A Novel                               0.0  ...     0.0   \n",
       "White Oleander : A Novel (Oprah's Book Club)           0.0  ...     0.0   \n",
       "Wicked: The Life and Times of the Wicked Witch ...     9.0  ...     0.0   \n",
       "Wild Animus                                            0.0  ...     0.0   \n",
       "Wizard and Glass (The Dark Tower, Book 4)              0.0  ...     0.0   \n",
       "\n",
       "User_id                                             269566  270713  271448  \\\n",
       "bookTitle                                                                    \n",
       "1st to Die: A Novel                                    0.0     0.0     0.0   \n",
       "2nd Chance                                             0.0     0.0     0.0   \n",
       "84 Charing Cross Road                                  0.0     0.0     0.0   \n",
       "A Bend in the Road                                     0.0     0.0     0.0   \n",
       "A Is for Alibi (Kinsey Millhone Mysteries (Pape...     0.0     0.0     0.0   \n",
       "...                                                    ...     ...     ...   \n",
       "White Oleander : A Novel                               0.0     0.0     9.0   \n",
       "White Oleander : A Novel (Oprah's Book Club)           0.0     0.0     0.0   \n",
       "Wicked: The Life and Times of the Wicked Witch ...     0.0     0.0     9.0   \n",
       "Wild Animus                                            0.0     0.0     2.0   \n",
       "Wizard and Glass (The Dark Tower, Book 4)              0.0     0.0     0.0   \n",
       "\n",
       "User_id                                             271705  273113  274061  \\\n",
       "bookTitle                                                                    \n",
       "1st to Die: A Novel                                    0.0     0.0     0.0   \n",
       "2nd Chance                                             0.0     0.0     0.0   \n",
       "84 Charing Cross Road                                  0.0     0.0     0.0   \n",
       "A Bend in the Road                                     0.0     5.0     0.0   \n",
       "A Is for Alibi (Kinsey Millhone Mysteries (Pape...     0.0     0.0     0.0   \n",
       "...                                                    ...     ...     ...   \n",
       "White Oleander : A Novel                               0.0     0.0     0.0   \n",
       "White Oleander : A Novel (Oprah's Book Club)           0.0     0.0     0.0   \n",
       "Wicked: The Life and Times of the Wicked Witch ...     0.0     0.0     0.0   \n",
       "Wild Animus                                            0.0     0.0     0.0   \n",
       "Wizard and Glass (The Dark Tower, Book 4)              0.0     0.0     0.0   \n",
       "\n",
       "User_id                                             274301  275970  277427  \n",
       "bookTitle                                                                   \n",
       "1st to Die: A Novel                                    0.0     0.0     0.0  \n",
       "2nd Chance                                             0.0     0.0     0.0  \n",
       "84 Charing Cross Road                                  0.0    10.0     0.0  \n",
       "A Bend in the Road                                     0.0     0.0     0.0  \n",
       "A Is for Alibi (Kinsey Millhone Mysteries (Pape...    10.0     0.0     0.0  \n",
       "...                                                    ...     ...     ...  \n",
       "White Oleander : A Novel                               0.0     0.0     0.0  \n",
       "White Oleander : A Novel (Oprah's Book Club)           0.0     0.0     0.0  \n",
       "Wicked: The Life and Times of the Wicked Witch ...     0.0     0.0     0.0  \n",
       "Wild Animus                                            0.0     0.0     0.0  \n",
       "Wizard and Glass (The Dark Tower, Book 4)              0.0     0.0     0.0  \n",
       "\n",
       "[185 rows x 417 columns]"
      ]
     },
     "execution_count": 118,
     "metadata": {},
     "output_type": "execute_result"
    }
   ],
   "source": [
    "# Creating pivot table where columns are users ids and indexs are books's title and values are ratings\n",
    "# and the user id who has not rated any book will have value as NAN so impute it with zero.\n",
    "book_pivot = final_rating.pivot_table(columns='User_id', index='bookTitle', values=\"bookRating\")\n",
    "book_pivot.fillna(0, inplace=True)\n",
    "book_pivot"
   ]
  },
  {
   "cell_type": "code",
   "execution_count": 119,
   "metadata": {},
   "outputs": [],
   "source": [
    "# Converting the pivot table to the sparse matrix to save a significant amount of\n",
    "# memory and speed up the processing of that data\n",
    "from scipy.sparse import csr_matrix\n",
    "book_sparse = csr_matrix(book_pivot)"
   ]
  },
  {
   "cell_type": "code",
   "execution_count": 120,
   "metadata": {},
   "outputs": [
    {
     "data": {
      "text/plain": [
       "NearestNeighbors(algorithm='brute', leaf_size=30, metric='minkowski',\n",
       "                 metric_params=None, n_jobs=None, n_neighbors=5, p=2,\n",
       "                 radius=1.0)"
      ]
     },
     "execution_count": 120,
     "metadata": {},
     "output_type": "execute_result"
    }
   ],
   "source": [
    "# Training the nearest neighbors algorithm : here we need to\n",
    "# specify an algorithm which is brute means find the distance of every point to every other point.\n",
    "from sklearn.neighbors import NearestNeighbors\n",
    "model = NearestNeighbors(algorithm='brute')\n",
    "model.fit(book_sparse)"
   ]
  },
  {
   "cell_type": "code",
   "execution_count": 121,
   "metadata": {},
   "outputs": [
    {
     "data": {
      "text/plain": [
       "'2nd Chance'"
      ]
     },
     "execution_count": 121,
     "metadata": {},
     "output_type": "execute_result"
    }
   ],
   "source": [
    "# let's pick out a book title to find its nearest neighbours\n",
    "book_pivot.index[1]"
   ]
  },
  {
   "cell_type": "code",
   "execution_count": 122,
   "metadata": {},
   "outputs": [],
   "source": [
    "# Creating function which return book's index\n",
    "def bookindex (book):\n",
    "    for i in range(book_pivot.shape[0]):\n",
    "        if book_pivot.index[i]==book:\n",
    "            ind=i\n",
    "    return (ind) "
   ]
  },
  {
   "cell_type": "code",
   "execution_count": 123,
   "metadata": {},
   "outputs": [
    {
     "data": {
      "text/plain": [
       "183"
      ]
     },
     "execution_count": 123,
     "metadata": {},
     "output_type": "execute_result"
    }
   ],
   "source": [
    "# book index\n",
    "x=bookindex('Wild Animus')\n",
    "x"
   ]
  },
  {
   "cell_type": "code",
   "execution_count": 124,
   "metadata": {},
   "outputs": [],
   "source": [
    "# Making predictions for suggested books\n",
    "distances, suggestions = model.kneighbors(book_pivot.iloc[x, :].values.reshape(1, -1))"
   ]
  },
  {
   "cell_type": "code",
   "execution_count": 125,
   "metadata": {},
   "outputs": [
    {
     "name": "stdout",
     "output_type": "stream",
     "text": [
      "Index(['Wild Animus', 'The Reader', 'Blue Diary', 'The Tao of Pooh',\n",
      "       'How to Be Good'],\n",
      "      dtype='object', name='bookTitle')\n"
     ]
    }
   ],
   "source": [
    "# Print recommended books\n",
    "booklist=[]\n",
    "for i in range(len(suggestions)):\n",
    "    print(book_pivot.index[suggestions[i]])\n",
    "    booklist.append(book_pivot.index[suggestions[i]])\n",
    "    "
   ]
  },
  {
   "cell_type": "code",
   "execution_count": 126,
   "metadata": {},
   "outputs": [
    {
     "data": {
      "text/plain": [
       "'How to Be Good'"
      ]
     },
     "execution_count": 126,
     "metadata": {},
     "output_type": "execute_result"
    }
   ],
   "source": [
    "# Extracting book from recommended books  \n",
    "booklist[0][4]"
   ]
  },
  {
   "cell_type": "code",
   "execution_count": 127,
   "metadata": {},
   "outputs": [
    {
     "data": {
      "text/plain": [
       "array([[ 0.        , 36.7151195 , 38.27531842, 38.28837944, 38.75564475]])"
      ]
     },
     "execution_count": 127,
     "metadata": {},
     "output_type": "execute_result"
    }
   ],
   "source": [
    "# Distances between books\n",
    "distances"
   ]
  },
  {
   "cell_type": "markdown",
   "metadata": {},
   "source": [
    "## Correlations-based recommendation system"
   ]
  },
  {
   "cell_type": "markdown",
   "metadata": {},
   "source": [
    "#### Pearson’s Correlation Coefficient is a very simple yet effective way to find how 1 variable linearly changes with respect to another. we can use this to our advantage and build a recommender system with this concept . We use Pearsons’R correlation coefficient to measure linear correlation between two variables, in our case, the ratings for two books.\n"
   ]
  },
  {
   "cell_type": "code",
   "execution_count": 128,
   "metadata": {},
   "outputs": [
    {
     "data": {
      "text/html": [
       "<div>\n",
       "<style scoped>\n",
       "    .dataframe tbody tr th:only-of-type {\n",
       "        vertical-align: middle;\n",
       "    }\n",
       "\n",
       "    .dataframe tbody tr th {\n",
       "        vertical-align: top;\n",
       "    }\n",
       "\n",
       "    .dataframe thead th {\n",
       "        text-align: right;\n",
       "    }\n",
       "</style>\n",
       "<table border=\"1\" class=\"dataframe\">\n",
       "  <thead>\n",
       "    <tr style=\"text-align: right;\">\n",
       "      <th></th>\n",
       "      <th>bookRating</th>\n",
       "      <th>ratingcount</th>\n",
       "    </tr>\n",
       "    <tr>\n",
       "      <th>ISBN</th>\n",
       "      <th></th>\n",
       "      <th></th>\n",
       "    </tr>\n",
       "  </thead>\n",
       "  <tbody>\n",
       "    <tr>\n",
       "      <th>0971880107</th>\n",
       "      <td>1.019584</td>\n",
       "      <td>2502</td>\n",
       "    </tr>\n",
       "    <tr>\n",
       "      <th>0316666343</th>\n",
       "      <td>4.468726</td>\n",
       "      <td>1295</td>\n",
       "    </tr>\n",
       "    <tr>\n",
       "      <th>0385504209</th>\n",
       "      <td>4.652322</td>\n",
       "      <td>883</td>\n",
       "    </tr>\n",
       "    <tr>\n",
       "      <th>0060928336</th>\n",
       "      <td>3.448087</td>\n",
       "      <td>732</td>\n",
       "    </tr>\n",
       "    <tr>\n",
       "      <th>0312195516</th>\n",
       "      <td>4.334716</td>\n",
       "      <td>723</td>\n",
       "    </tr>\n",
       "    <tr>\n",
       "      <th>044023722X</th>\n",
       "      <td>3.187017</td>\n",
       "      <td>647</td>\n",
       "    </tr>\n",
       "    <tr>\n",
       "      <th>0679781587</th>\n",
       "      <td>4.381847</td>\n",
       "      <td>639</td>\n",
       "    </tr>\n",
       "    <tr>\n",
       "      <th>0142001740</th>\n",
       "      <td>4.219512</td>\n",
       "      <td>615</td>\n",
       "    </tr>\n",
       "    <tr>\n",
       "      <th>067976402X</th>\n",
       "      <td>3.255700</td>\n",
       "      <td>614</td>\n",
       "    </tr>\n",
       "    <tr>\n",
       "      <th>0671027360</th>\n",
       "      <td>3.718430</td>\n",
       "      <td>586</td>\n",
       "    </tr>\n",
       "  </tbody>\n",
       "</table>\n",
       "</div>"
      ],
      "text/plain": [
       "            bookRating  ratingcount\n",
       "ISBN                               \n",
       "0971880107    1.019584         2502\n",
       "0316666343    4.468726         1295\n",
       "0385504209    4.652322          883\n",
       "0060928336    3.448087          732\n",
       "0312195516    4.334716          723\n",
       "044023722X    3.187017          647\n",
       "0679781587    4.381847          639\n",
       "0142001740    4.219512          615\n",
       "067976402X    3.255700          614\n",
       "0671027360    3.718430          586"
      ]
     },
     "execution_count": 128,
     "metadata": {},
     "output_type": "execute_result"
    }
   ],
   "source": [
    "# Creating dataset with average rating, and the number of ratings each book received.\n",
    "average_rating=pd.DataFrame(ratings.groupby('ISBN')['bookRating'].mean())\n",
    "average_rating['ratingcount']=ratings.groupby('ISBN')['bookRating'].count()\n",
    "average_rating.sort_values('ratingcount',ascending=False).head(10)"
   ]
  },
  {
   "cell_type": "code",
   "execution_count": 129,
   "metadata": {},
   "outputs": [
    {
     "data": {
      "text/html": [
       "<div>\n",
       "<style scoped>\n",
       "    .dataframe tbody tr th:only-of-type {\n",
       "        vertical-align: middle;\n",
       "    }\n",
       "\n",
       "    .dataframe tbody tr th {\n",
       "        vertical-align: top;\n",
       "    }\n",
       "\n",
       "    .dataframe thead th {\n",
       "        text-align: right;\n",
       "    }\n",
       "</style>\n",
       "<table border=\"1\" class=\"dataframe\">\n",
       "  <thead>\n",
       "    <tr style=\"text-align: right;\">\n",
       "      <th>ISBN</th>\n",
       "      <th>0001047973</th>\n",
       "      <th>0060094818</th>\n",
       "      <th>0060283122</th>\n",
       "      <th>0060392452</th>\n",
       "      <th>0060541830</th>\n",
       "      <th>0060809833</th>\n",
       "      <th>0060830956</th>\n",
       "      <th>0060915544</th>\n",
       "      <th>0060928336</th>\n",
       "      <th>0060929871</th>\n",
       "      <th>...</th>\n",
       "      <th>1852865024</th>\n",
       "      <th>1878448900</th>\n",
       "      <th>1896095011</th>\n",
       "      <th>3442451221</th>\n",
       "      <th>555053150X</th>\n",
       "      <th>8401491029</th>\n",
       "      <th>9506440298</th>\n",
       "      <th>B00001U0CP</th>\n",
       "      <th>B00006I4OX</th>\n",
       "      <th>B00009EF82</th>\n",
       "    </tr>\n",
       "    <tr>\n",
       "      <th>User_id</th>\n",
       "      <th></th>\n",
       "      <th></th>\n",
       "      <th></th>\n",
       "      <th></th>\n",
       "      <th></th>\n",
       "      <th></th>\n",
       "      <th></th>\n",
       "      <th></th>\n",
       "      <th></th>\n",
       "      <th></th>\n",
       "      <th></th>\n",
       "      <th></th>\n",
       "      <th></th>\n",
       "      <th></th>\n",
       "      <th></th>\n",
       "      <th></th>\n",
       "      <th></th>\n",
       "      <th></th>\n",
       "      <th></th>\n",
       "      <th></th>\n",
       "      <th></th>\n",
       "    </tr>\n",
       "  </thead>\n",
       "  <tbody>\n",
       "    <tr>\n",
       "      <th>2033</th>\n",
       "      <td>NaN</td>\n",
       "      <td>NaN</td>\n",
       "      <td>NaN</td>\n",
       "      <td>NaN</td>\n",
       "      <td>NaN</td>\n",
       "      <td>NaN</td>\n",
       "      <td>NaN</td>\n",
       "      <td>NaN</td>\n",
       "      <td>NaN</td>\n",
       "      <td>NaN</td>\n",
       "      <td>...</td>\n",
       "      <td>NaN</td>\n",
       "      <td>NaN</td>\n",
       "      <td>NaN</td>\n",
       "      <td>NaN</td>\n",
       "      <td>NaN</td>\n",
       "      <td>NaN</td>\n",
       "      <td>NaN</td>\n",
       "      <td>NaN</td>\n",
       "      <td>NaN</td>\n",
       "      <td>NaN</td>\n",
       "    </tr>\n",
       "    <tr>\n",
       "      <th>2110</th>\n",
       "      <td>NaN</td>\n",
       "      <td>NaN</td>\n",
       "      <td>NaN</td>\n",
       "      <td>NaN</td>\n",
       "      <td>NaN</td>\n",
       "      <td>NaN</td>\n",
       "      <td>NaN</td>\n",
       "      <td>NaN</td>\n",
       "      <td>NaN</td>\n",
       "      <td>NaN</td>\n",
       "      <td>...</td>\n",
       "      <td>NaN</td>\n",
       "      <td>NaN</td>\n",
       "      <td>NaN</td>\n",
       "      <td>NaN</td>\n",
       "      <td>NaN</td>\n",
       "      <td>NaN</td>\n",
       "      <td>NaN</td>\n",
       "      <td>NaN</td>\n",
       "      <td>NaN</td>\n",
       "      <td>NaN</td>\n",
       "    </tr>\n",
       "    <tr>\n",
       "      <th>2276</th>\n",
       "      <td>NaN</td>\n",
       "      <td>NaN</td>\n",
       "      <td>NaN</td>\n",
       "      <td>NaN</td>\n",
       "      <td>NaN</td>\n",
       "      <td>NaN</td>\n",
       "      <td>NaN</td>\n",
       "      <td>NaN</td>\n",
       "      <td>NaN</td>\n",
       "      <td>NaN</td>\n",
       "      <td>...</td>\n",
       "      <td>NaN</td>\n",
       "      <td>NaN</td>\n",
       "      <td>NaN</td>\n",
       "      <td>NaN</td>\n",
       "      <td>NaN</td>\n",
       "      <td>NaN</td>\n",
       "      <td>NaN</td>\n",
       "      <td>NaN</td>\n",
       "      <td>NaN</td>\n",
       "      <td>NaN</td>\n",
       "    </tr>\n",
       "    <tr>\n",
       "      <th>4017</th>\n",
       "      <td>NaN</td>\n",
       "      <td>NaN</td>\n",
       "      <td>NaN</td>\n",
       "      <td>NaN</td>\n",
       "      <td>NaN</td>\n",
       "      <td>NaN</td>\n",
       "      <td>NaN</td>\n",
       "      <td>8.0</td>\n",
       "      <td>NaN</td>\n",
       "      <td>9.0</td>\n",
       "      <td>...</td>\n",
       "      <td>NaN</td>\n",
       "      <td>NaN</td>\n",
       "      <td>NaN</td>\n",
       "      <td>NaN</td>\n",
       "      <td>NaN</td>\n",
       "      <td>NaN</td>\n",
       "      <td>NaN</td>\n",
       "      <td>NaN</td>\n",
       "      <td>NaN</td>\n",
       "      <td>NaN</td>\n",
       "    </tr>\n",
       "    <tr>\n",
       "      <th>4385</th>\n",
       "      <td>NaN</td>\n",
       "      <td>NaN</td>\n",
       "      <td>NaN</td>\n",
       "      <td>NaN</td>\n",
       "      <td>NaN</td>\n",
       "      <td>NaN</td>\n",
       "      <td>NaN</td>\n",
       "      <td>NaN</td>\n",
       "      <td>NaN</td>\n",
       "      <td>NaN</td>\n",
       "      <td>...</td>\n",
       "      <td>NaN</td>\n",
       "      <td>NaN</td>\n",
       "      <td>NaN</td>\n",
       "      <td>NaN</td>\n",
       "      <td>NaN</td>\n",
       "      <td>NaN</td>\n",
       "      <td>NaN</td>\n",
       "      <td>NaN</td>\n",
       "      <td>NaN</td>\n",
       "      <td>NaN</td>\n",
       "    </tr>\n",
       "  </tbody>\n",
       "</table>\n",
       "<p>5 rows × 514 columns</p>\n",
       "</div>"
      ],
      "text/plain": [
       "ISBN     0001047973  0060094818  0060283122  0060392452  0060541830  \\\n",
       "User_id                                                               \n",
       "2033            NaN         NaN         NaN         NaN         NaN   \n",
       "2110            NaN         NaN         NaN         NaN         NaN   \n",
       "2276            NaN         NaN         NaN         NaN         NaN   \n",
       "4017            NaN         NaN         NaN         NaN         NaN   \n",
       "4385            NaN         NaN         NaN         NaN         NaN   \n",
       "\n",
       "ISBN     0060809833  0060830956  0060915544  0060928336  0060929871  ...  \\\n",
       "User_id                                                              ...   \n",
       "2033            NaN         NaN         NaN         NaN         NaN  ...   \n",
       "2110            NaN         NaN         NaN         NaN         NaN  ...   \n",
       "2276            NaN         NaN         NaN         NaN         NaN  ...   \n",
       "4017            NaN         NaN         8.0         NaN         9.0  ...   \n",
       "4385            NaN         NaN         NaN         NaN         NaN  ...   \n",
       "\n",
       "ISBN     1852865024  1878448900  1896095011  3442451221  555053150X  \\\n",
       "User_id                                                               \n",
       "2033            NaN         NaN         NaN         NaN         NaN   \n",
       "2110            NaN         NaN         NaN         NaN         NaN   \n",
       "2276            NaN         NaN         NaN         NaN         NaN   \n",
       "4017            NaN         NaN         NaN         NaN         NaN   \n",
       "4385            NaN         NaN         NaN         NaN         NaN   \n",
       "\n",
       "ISBN     8401491029  9506440298  B00001U0CP  B00006I4OX  B00009EF82  \n",
       "User_id                                                              \n",
       "2033            NaN         NaN         NaN         NaN         NaN  \n",
       "2110            NaN         NaN         NaN         NaN         NaN  \n",
       "2276            NaN         NaN         NaN         NaN         NaN  \n",
       "4017            NaN         NaN         NaN         NaN         NaN  \n",
       "4385            NaN         NaN         NaN         NaN         NaN  \n",
       "\n",
       "[5 rows x 514 columns]"
      ]
     },
     "execution_count": 129,
     "metadata": {},
     "output_type": "execute_result"
    }
   ],
   "source": [
    "# Creating pivot table (matrix)\n",
    "ratings_pivot=final_rating.pivot(index='User_id',columns='ISBN',values='bookRating')\n",
    "ratings_pivot.head()"
   ]
  },
  {
   "cell_type": "code",
   "execution_count": 130,
   "metadata": {},
   "outputs": [
    {
     "name": "stderr",
     "output_type": "stream",
     "text": [
      "C:\\Users\\hamdi\\anaconda3\\lib\\site-packages\\numpy\\lib\\function_base.py:2551: RuntimeWarning: Degrees of freedom <= 0 for slice\n",
      "  c = cov(x, y, rowvar)\n",
      "C:\\Users\\hamdi\\anaconda3\\lib\\site-packages\\numpy\\lib\\function_base.py:2480: RuntimeWarning: divide by zero encountered in true_divide\n",
      "  c *= np.true_divide(1, fact)\n"
     ]
    },
    {
     "data": {
      "text/html": [
       "<div>\n",
       "<style scoped>\n",
       "    .dataframe tbody tr th:only-of-type {\n",
       "        vertical-align: middle;\n",
       "    }\n",
       "\n",
       "    .dataframe tbody tr th {\n",
       "        vertical-align: top;\n",
       "    }\n",
       "\n",
       "    .dataframe thead th {\n",
       "        text-align: right;\n",
       "    }\n",
       "</style>\n",
       "<table border=\"1\" class=\"dataframe\">\n",
       "  <thead>\n",
       "    <tr style=\"text-align: right;\">\n",
       "      <th></th>\n",
       "      <th>pearsonR</th>\n",
       "      <th>ratingcount</th>\n",
       "    </tr>\n",
       "    <tr>\n",
       "      <th>ISBN</th>\n",
       "      <th></th>\n",
       "      <th></th>\n",
       "    </tr>\n",
       "  </thead>\n",
       "  <tbody>\n",
       "    <tr>\n",
       "      <th>0316666343</th>\n",
       "      <td>1.000000</td>\n",
       "      <td>1295</td>\n",
       "    </tr>\n",
       "    <tr>\n",
       "      <th>0440225701</th>\n",
       "      <td>1.000000</td>\n",
       "      <td>379</td>\n",
       "    </tr>\n",
       "    <tr>\n",
       "      <th>0440222656</th>\n",
       "      <td>1.000000</td>\n",
       "      <td>420</td>\n",
       "    </tr>\n",
       "    <tr>\n",
       "      <th>0446606812</th>\n",
       "      <td>0.981981</td>\n",
       "      <td>369</td>\n",
       "    </tr>\n",
       "    <tr>\n",
       "      <th>0440206154</th>\n",
       "      <td>0.942809</td>\n",
       "      <td>365</td>\n",
       "    </tr>\n",
       "    <tr>\n",
       "      <th>0452282152</th>\n",
       "      <td>0.891902</td>\n",
       "      <td>526</td>\n",
       "    </tr>\n",
       "    <tr>\n",
       "      <th>0345313860</th>\n",
       "      <td>0.845222</td>\n",
       "      <td>301</td>\n",
       "    </tr>\n",
       "    <tr>\n",
       "      <th>0060928336</th>\n",
       "      <td>0.818182</td>\n",
       "      <td>732</td>\n",
       "    </tr>\n",
       "    <tr>\n",
       "      <th>0380789035</th>\n",
       "      <td>0.804030</td>\n",
       "      <td>302</td>\n",
       "    </tr>\n",
       "    <tr>\n",
       "      <th>044023722X</th>\n",
       "      <td>0.763763</td>\n",
       "      <td>647</td>\n",
       "    </tr>\n",
       "  </tbody>\n",
       "</table>\n",
       "</div>"
      ],
      "text/plain": [
       "            pearsonR  ratingcount\n",
       "ISBN                             \n",
       "0316666343  1.000000         1295\n",
       "0440225701  1.000000          379\n",
       "0440222656  1.000000          420\n",
       "0446606812  0.981981          369\n",
       "0440206154  0.942809          365\n",
       "0452282152  0.891902          526\n",
       "0345313860  0.845222          301\n",
       "0060928336  0.818182          732\n",
       "0380789035  0.804030          302\n",
       "044023722X  0.763763          647"
      ]
     },
     "execution_count": 130,
     "metadata": {},
     "output_type": "execute_result"
    }
   ],
   "source": [
    "# Find similar books to book example based on pearsons'R correlation between ratings\n",
    "bookexp=ratings_pivot['0316666343'] # 'The Lovely Bones: A Novel' book\n",
    "similartobook=ratings_pivot.corrwith(bookexp)\n",
    "corr_books=pd.DataFrame(similartobook,columns=['pearsonR'])\n",
    "corr_books.dropna(inplace=True)\n",
    "corr_books=corr_books.join(average_rating['ratingcount'])\n",
    "corr_books[corr_books['ratingcount']>300].sort_values('pearsonR',ascending=False).head(10)"
   ]
  },
  {
   "cell_type": "code",
   "execution_count": 131,
   "metadata": {},
   "outputs": [],
   "source": [
    "# Joining books's informations\n",
    "corr_books=corr_books.merge(books,on='ISBN')"
   ]
  },
  {
   "cell_type": "code",
   "execution_count": 132,
   "metadata": {},
   "outputs": [],
   "source": [
    "# Dropping out duplicates columns and renaming them\n",
    "corr_books=corr_books.T.drop_duplicates().T\n",
    "corr_books.columns=['ISBN','pearsonR','ratingcount','bookTitle','bookAuthor','yearOfPublication','publisher']"
   ]
  },
  {
   "cell_type": "code",
   "execution_count": 133,
   "metadata": {
    "scrolled": false
   },
   "outputs": [
    {
     "data": {
      "text/html": [
       "<div>\n",
       "<style scoped>\n",
       "    .dataframe tbody tr th:only-of-type {\n",
       "        vertical-align: middle;\n",
       "    }\n",
       "\n",
       "    .dataframe tbody tr th {\n",
       "        vertical-align: top;\n",
       "    }\n",
       "\n",
       "    .dataframe thead th {\n",
       "        text-align: right;\n",
       "    }\n",
       "</style>\n",
       "<table border=\"1\" class=\"dataframe\">\n",
       "  <thead>\n",
       "    <tr style=\"text-align: right;\">\n",
       "      <th></th>\n",
       "      <th>ISBN</th>\n",
       "      <th>pearsonR</th>\n",
       "      <th>ratingcount</th>\n",
       "      <th>bookTitle</th>\n",
       "      <th>bookAuthor</th>\n",
       "      <th>yearOfPublication</th>\n",
       "      <th>publisher</th>\n",
       "    </tr>\n",
       "  </thead>\n",
       "  <tbody>\n",
       "    <tr>\n",
       "      <th>35</th>\n",
       "      <td>0316666343</td>\n",
       "      <td>1</td>\n",
       "      <td>1295</td>\n",
       "      <td>The Lovely Bones: A Novel</td>\n",
       "      <td>Alice Sebold</td>\n",
       "      <td>2002</td>\n",
       "      <td>Little, Brown</td>\n",
       "    </tr>\n",
       "    <tr>\n",
       "      <th>120</th>\n",
       "      <td>0440225701</td>\n",
       "      <td>1</td>\n",
       "      <td>379</td>\n",
       "      <td>The Street Lawyer</td>\n",
       "      <td>JOHN GRISHAM</td>\n",
       "      <td>1999</td>\n",
       "      <td>Dell</td>\n",
       "    </tr>\n",
       "    <tr>\n",
       "      <th>118</th>\n",
       "      <td>0440222656</td>\n",
       "      <td>1</td>\n",
       "      <td>420</td>\n",
       "      <td>The Horse Whisperer</td>\n",
       "      <td>Nicholas Evans</td>\n",
       "      <td>1996</td>\n",
       "      <td>Dell</td>\n",
       "    </tr>\n",
       "    <tr>\n",
       "      <th>135</th>\n",
       "      <td>0446606812</td>\n",
       "      <td>0.981981</td>\n",
       "      <td>369</td>\n",
       "      <td>Message in a Bottle</td>\n",
       "      <td>Nicholas Sparks</td>\n",
       "      <td>1999</td>\n",
       "      <td>Warner Vision</td>\n",
       "    </tr>\n",
       "    <tr>\n",
       "      <th>108</th>\n",
       "      <td>0440206154</td>\n",
       "      <td>0.942809</td>\n",
       "      <td>365</td>\n",
       "      <td>Red Dragon</td>\n",
       "      <td>Thomas Harris</td>\n",
       "      <td>2000</td>\n",
       "      <td>Dell Publishing Company</td>\n",
       "    </tr>\n",
       "    <tr>\n",
       "      <th>165</th>\n",
       "      <td>0452282152</td>\n",
       "      <td>0.891902</td>\n",
       "      <td>526</td>\n",
       "      <td>Girl with a Pearl Earring</td>\n",
       "      <td>Tracy Chevalier</td>\n",
       "      <td>2001</td>\n",
       "      <td>Plume Books</td>\n",
       "    </tr>\n",
       "    <tr>\n",
       "      <th>42</th>\n",
       "      <td>0345313860</td>\n",
       "      <td>0.845222</td>\n",
       "      <td>301</td>\n",
       "      <td>The Vampire Lestat (Vampire Chronicles, Book II)</td>\n",
       "      <td>ANNE RICE</td>\n",
       "      <td>1986</td>\n",
       "      <td>Ballantine Books</td>\n",
       "    </tr>\n",
       "    <tr>\n",
       "      <th>2</th>\n",
       "      <td>0060928336</td>\n",
       "      <td>0.818182</td>\n",
       "      <td>732</td>\n",
       "      <td>Divine Secrets of the Ya-Ya Sisterhood: A Novel</td>\n",
       "      <td>Rebecca Wells</td>\n",
       "      <td>1997</td>\n",
       "      <td>Perennial</td>\n",
       "    </tr>\n",
       "    <tr>\n",
       "      <th>65</th>\n",
       "      <td>0380789035</td>\n",
       "      <td>0.80403</td>\n",
       "      <td>302</td>\n",
       "      <td>American Gods</td>\n",
       "      <td>Neil Gaiman</td>\n",
       "      <td>2002</td>\n",
       "      <td>HarperTorch</td>\n",
       "    </tr>\n",
       "    <tr>\n",
       "      <th>124</th>\n",
       "      <td>044023722X</td>\n",
       "      <td>0.763763</td>\n",
       "      <td>647</td>\n",
       "      <td>A Painted House</td>\n",
       "      <td>John Grisham</td>\n",
       "      <td>2001</td>\n",
       "      <td>Dell Publishing Company</td>\n",
       "    </tr>\n",
       "  </tbody>\n",
       "</table>\n",
       "</div>"
      ],
      "text/plain": [
       "           ISBN  pearsonR ratingcount  \\\n",
       "35   0316666343         1        1295   \n",
       "120  0440225701         1         379   \n",
       "118  0440222656         1         420   \n",
       "135  0446606812  0.981981         369   \n",
       "108  0440206154  0.942809         365   \n",
       "165  0452282152  0.891902         526   \n",
       "42   0345313860  0.845222         301   \n",
       "2    0060928336  0.818182         732   \n",
       "65   0380789035   0.80403         302   \n",
       "124  044023722X  0.763763         647   \n",
       "\n",
       "                                            bookTitle       bookAuthor  \\\n",
       "35                          The Lovely Bones: A Novel     Alice Sebold   \n",
       "120                                 The Street Lawyer     JOHN GRISHAM   \n",
       "118                               The Horse Whisperer   Nicholas Evans   \n",
       "135                               Message in a Bottle  Nicholas Sparks   \n",
       "108                                        Red Dragon    Thomas Harris   \n",
       "165                         Girl with a Pearl Earring  Tracy Chevalier   \n",
       "42   The Vampire Lestat (Vampire Chronicles, Book II)        ANNE RICE   \n",
       "2     Divine Secrets of the Ya-Ya Sisterhood: A Novel    Rebecca Wells   \n",
       "65                                      American Gods      Neil Gaiman   \n",
       "124                                   A Painted House     John Grisham   \n",
       "\n",
       "    yearOfPublication                publisher  \n",
       "35               2002            Little, Brown  \n",
       "120              1999                     Dell  \n",
       "118              1996                     Dell  \n",
       "135              1999            Warner Vision  \n",
       "108              2000  Dell Publishing Company  \n",
       "165              2001              Plume Books  \n",
       "42               1986         Ballantine Books  \n",
       "2                1997                Perennial  \n",
       "65               2002              HarperTorch  \n",
       "124              2001  Dell Publishing Company  "
      ]
     },
     "execution_count": 133,
     "metadata": {},
     "output_type": "execute_result"
    }
   ],
   "source": [
    "# Books recommended \n",
    "corr_books=corr_books[corr_books['pearsonR']>0.7]\n",
    "corr_books=corr_books[corr_books['ratingcount']>300]\n",
    "corr_books.sort_values('pearsonR',ascending=False)"
   ]
  },
  {
   "cell_type": "markdown",
   "metadata": {},
   "source": [
    "# CHATBOT"
   ]
  },
  {
   "cell_type": "markdown",
   "metadata": {},
   "source": [
    "#### A chatbot is a software or computer program that simulates human conversation or \"chatter\" through text or voice interactions.Users in both business-to-consumer and business-to-business environments increasingly use chatbot virtual assistants to handle simple tasks. Adding chatbot assistants reduces overhead costs, uses support staff time better and enables organizations to provide customer service during hours when live agents aren't available."
   ]
  },
  {
   "cell_type": "code",
   "execution_count": 134,
   "metadata": {},
   "outputs": [],
   "source": [
    "# Import libraries for chatting\n",
    "from nltk.chat.util import Chat , reflections"
   ]
  },
  {
   "cell_type": "code",
   "execution_count": 135,
   "metadata": {
    "scrolled": true
   },
   "outputs": [
    {
     "data": {
      "text/plain": [
       "['1st to Die: A Novel',\n",
       " '2nd Chance',\n",
       " '84 Charing Cross Road',\n",
       " 'A Bend in the Road',\n",
       " 'A Is for Alibi (Kinsey Millhone Mysteries (Paperback))',\n",
       " 'A Painted House',\n",
       " 'A Prayer for Owen Meany',\n",
       " 'A Time to Kill',\n",
       " 'A Walk to Remember',\n",
       " 'A Wrinkle In Time',\n",
       " 'A Wrinkle in Time',\n",
       " 'All I Really Need to Know',\n",
       " 'American Gods',\n",
       " \"Angela's Ashes: A Memoir\",\n",
       " 'Angels &amp; Demons',\n",
       " 'Anne of Green Gables (Anne of Green Gables Novels (Paperback))',\n",
       " 'B Is for Burglar (Kinsey Millhone Mysteries (Paperback))',\n",
       " 'Balzac and the Little Chinese Seamstress : A Novel',\n",
       " 'Bel Canto: A Novel',\n",
       " 'Black House',\n",
       " 'Blue Diary',\n",
       " 'Brave New World',\n",
       " \"Bridget Jones's Diary\",\n",
       " 'Bridget Jones: The Edge of Reason',\n",
       " 'C Is for Corpse (Kinsey Millhone Mysteries (Paperback))',\n",
       " 'Carrie',\n",
       " \"Chicken Soup for the Woman's Soul (Chicken Soup for the Soul Series (Paper))\",\n",
       " 'Christine',\n",
       " 'Confessions of a Shopaholic (Summer Display Opportunity)',\n",
       " 'Congo',\n",
       " 'Coraline',\n",
       " 'Cradle and All',\n",
       " 'Cruel &amp; Unusual (Kay Scarpetta Mysteries (Paperback))',\n",
       " 'Cujo',\n",
       " \"Daddy's Little Girl\",\n",
       " 'Desperation',\n",
       " 'Divine Secrets of the Ya-Ya Sisterhood: A Novel',\n",
       " 'Dolores Claiborne',\n",
       " 'Dragonfly in Amber',\n",
       " 'Dreamcatcher',\n",
       " 'Empire Falls',\n",
       " \"Ender's Game (Ender Wiggins Saga (Paperback))\",\n",
       " 'Fahrenheit 451',\n",
       " 'Fear Nothing',\n",
       " 'Four Blind Mice',\n",
       " 'Four Past Midnight',\n",
       " 'Four To Score (A Stephanie Plum Novel)',\n",
       " 'Fried Green Tomatoes at the Whistle Stop Cafe',\n",
       " \"Gerald's Game\",\n",
       " 'Girl in Hyacinth Blue',\n",
       " 'Girl with a Pearl Earring',\n",
       " 'Good in Bed',\n",
       " 'Hannibal',\n",
       " 'Hard Eight : A Stephanie Plum Novel (A Stephanie Plum Novel)',\n",
       " 'Harry Potter and the Chamber of Secrets (Book 2)',\n",
       " 'Harry Potter and the Goblet of Fire (Book 4)',\n",
       " 'Harry Potter and the Order of the Phoenix (Book 5)',\n",
       " 'Harry Potter and the Prisoner of Azkaban (Book 3)',\n",
       " \"Harry Potter and the Sorcerer's Stone (Book 1)\",\n",
       " \"Harry Potter and the Sorcerer's Stone (Harry Potter (Paperback))\",\n",
       " 'Heartbreaker',\n",
       " 'High Five (A Stephanie Plum Novel)',\n",
       " 'Hot Six : A Stephanie Plum Novel (A Stephanie Plum Novel)',\n",
       " 'House of Sand and Fog',\n",
       " 'How to Be Good',\n",
       " 'In Her Shoes : A Novel',\n",
       " 'Insomnia',\n",
       " 'Interview with the Vampire',\n",
       " 'Into Thin Air : A Personal Account of the Mt. Everest Disaster',\n",
       " 'It',\n",
       " 'Jurassic Park',\n",
       " 'Kiss the Girls',\n",
       " \"Left Behind: A Novel of the Earth's Last Days (Left Behind No. 1)\",\n",
       " 'Life of Pi',\n",
       " 'Lightning',\n",
       " 'Little Altars Everywhere: A Novel',\n",
       " 'Lord of the Flies',\n",
       " 'Lucky : A Memoir',\n",
       " 'Me Talk Pretty One Day',\n",
       " 'Message in a Bottle',\n",
       " 'Midnight Bayou',\n",
       " 'Midwives: A Novel',\n",
       " 'Misery',\n",
       " 'Mystic River',\n",
       " 'Needful Things',\n",
       " 'Nickel and Dimed: On (Not) Getting By in America',\n",
       " 'Nightmares &amp; Dreamscapes',\n",
       " 'One for the Money (Stephanie Plum Novels (Paperback))',\n",
       " 'Outlander',\n",
       " 'Pet Sematary',\n",
       " 'Point of Origin',\n",
       " 'Q Is for Quarry',\n",
       " 'Red Dragon',\n",
       " 'Rose Madder',\n",
       " 'STONES FROM THE RIVER',\n",
       " 'Seven Up (A Stephanie Plum Novel)',\n",
       " \"She's Come Undone (Oprah's Book Club (Paperback))\",\n",
       " 'Silence of the Lambs',\n",
       " 'Skeleton Crew',\n",
       " 'Skipping Christmas',\n",
       " 'Snow Falling on Cedars',\n",
       " 'Stupid White Men ...and Other Sorry Excuses for the State of the Nation!',\n",
       " 'Summer Sisters',\n",
       " \"Suzanne's Diary for Nicholas\",\n",
       " 'Tears of the Giraffe (No.1 Ladies Detective Agency)',\n",
       " 'The Alienist',\n",
       " 'The Bad Beginning (A Series of Unfortunate Events, Book 1)',\n",
       " 'The Beach House',\n",
       " 'The Bean Trees',\n",
       " \"The Bonesetter's Daughter\",\n",
       " 'The Brethren',\n",
       " 'The Bridges of Madison County',\n",
       " 'The Catcher in the Rye',\n",
       " 'The Chamber',\n",
       " 'The Cider House Rules',\n",
       " \"The Clan of the Cave Bear (Earth's Children (Paperback))\",\n",
       " 'The Client',\n",
       " 'The Color Purple',\n",
       " \"The Color of Water: A Black Man's Tribute to His White Mother\",\n",
       " 'The Da Vinci Code',\n",
       " 'The Dark Half',\n",
       " 'The Drawing of the Three (The Dark Tower, Book 2)',\n",
       " 'The Fellowship of the Ring (The Lord of the Rings, Part 1)',\n",
       " 'The Firm',\n",
       " 'The Five People You Meet in Heaven',\n",
       " 'The Gift',\n",
       " \"The Girls' Guide to Hunting and Fishing\",\n",
       " 'The Golden Compass (His Dark Materials, Book 1)',\n",
       " 'The Green Mile',\n",
       " 'The Gunslinger (The Dark Tower, Book 1)',\n",
       " \"The Handmaid's Tale\",\n",
       " \"The Hitchhiker's Guide to the Galaxy\",\n",
       " 'The Hobbit : The Enchanting Prelude to The Lord of the Rings',\n",
       " 'The Horse Whisperer',\n",
       " 'The Hundred Secret Senses',\n",
       " 'The Joy Luck Club',\n",
       " 'The Last Precinct',\n",
       " 'The Little Prince',\n",
       " 'The Lovely Bones: A Novel',\n",
       " 'The Mists of Avalon',\n",
       " 'The Nanny Diaries: A Novel',\n",
       " \"The No. 1 Ladies' Detective Agency (Today Show Book Club #8)\",\n",
       " 'The Notebook',\n",
       " 'The Partner',\n",
       " 'The Pelican Brief',\n",
       " 'The Perfect Storm : A True Story of Men Against the Sea',\n",
       " \"The Pilot's Wife : A Novel\",\n",
       " 'The Prince of Tides',\n",
       " 'The Rainmaker',\n",
       " 'The Reader',\n",
       " 'The Red Tent (Bestselling Backlist)',\n",
       " 'The Rescue',\n",
       " 'The Return of the King (The Lord of the Rings, Part 3)',\n",
       " 'The Runaway Jury',\n",
       " 'The Secret Garden',\n",
       " 'The Secret Life of Bees',\n",
       " 'The Shining',\n",
       " 'The Street Lawyer',\n",
       " 'The Summons',\n",
       " 'The Tale of the Body Thief (Vampire Chronicles (Paperback))',\n",
       " 'The Talisman',\n",
       " 'The Tao of Pooh',\n",
       " 'The Testament',\n",
       " 'The Thorn Birds',\n",
       " 'The Tommyknockers',\n",
       " 'The Two Towers (The Lord of the Rings, Part 2)',\n",
       " 'The Vampire Lestat (Vampire Chronicles, Book II)',\n",
       " 'The Witching Hour (Lives of the Mayfair Witches)',\n",
       " 'Thinner',\n",
       " 'Timeline',\n",
       " 'To Kill a Mockingbird',\n",
       " \"Tuesdays with Morrie: An Old Man, a Young Man, and Life's Greatest Lesson\",\n",
       " 'Two for the Dough',\n",
       " 'Unnatural Exposure',\n",
       " 'Violets Are Blue',\n",
       " 'Watchers',\n",
       " 'Watership Down',\n",
       " 'When the Wind Blows',\n",
       " \"Where the Heart Is (Oprah's Book Club (Paperback))\",\n",
       " 'Whispers',\n",
       " 'White Oleander : A Novel',\n",
       " \"White Oleander : A Novel (Oprah's Book Club)\",\n",
       " 'Wicked: The Life and Times of the Wicked Witch of the West',\n",
       " 'Wild Animus',\n",
       " 'Wizard and Glass (The Dark Tower, Book 4)']"
      ]
     },
     "execution_count": 135,
     "metadata": {},
     "output_type": "execute_result"
    }
   ],
   "source": [
    "# Making all books title having recommended books into list \n",
    "list_of_book=list(book_pivot.index)\n",
    "list_of_book"
   ]
  },
  {
   "cell_type": "code",
   "execution_count": 144,
   "metadata": {},
   "outputs": [],
   "source": [
    "# Creating chatting list containing the inputs and for each input the bot's responses\n",
    "pairs=[\n",
    "    ['(hi|hello|hey|hola)',['Hey there','Hello my friend','Hiii']],\n",
    "    ['how are you',['i m fine ','so good']],\n",
    "    ['who are you',['I am a chatbot who help users find books that they may like by giving them suggestions. And you what is your name ? ']],\n",
    "    ['my name is (.*)',['Nice to meet you %1, how are you ?']],\n",
    "    ['(fine|im fine)',['Good !, so are you looking for recommended books ?','Happy to hear this from you my friend , so are you looking for recommended books ?']],\n",
    "    ['(yes|ofcourse)',['Great !, and i m here for this job. So tell me, are you a new visitor or you have read some books ?']],\n",
    "    ['(.*) read (.*) books',['Very nice ! and what is the latest book title did you read ?']],\n",
    "    ['(thank you chatbot|thanks|thats great|good job)',['You are welcome, happy to help you','Thats my job']],\n",
    "    ['(good bye (.*)|bye (.*))',['Good bye','Bye , See you soon']]\n",
    "]"
   ]
  },
  {
   "cell_type": "code",
   "execution_count": 145,
   "metadata": {},
   "outputs": [],
   "source": [
    "# Adding the books and their recommendations to the chatting list\n",
    "for b in list_of_book:\n",
    "    l=[]\n",
    "    l.append(b)\n",
    "    x=bookindex(b)\n",
    "    distances, suggestions = model.kneighbors(book_pivot.iloc[x, :].values.reshape(1, -1))\n",
    "    booklist=[]\n",
    "    bookl=[]\n",
    "    ch=' Very interesting book and I think that you may also like these books :  '\n",
    "    for i in range(len(suggestions)):\n",
    "        booklist.append(book_pivot.index[suggestions[i]])\n",
    "    for j in range(1,len(booklist[0])):\n",
    "        ch+=booklist[0][j]\n",
    "        ch+=' , '\n",
    "    bookl.append(ch)\n",
    "    l.append(bookl)\n",
    "    pairs.append(l)"
   ]
  },
  {
   "cell_type": "code",
   "execution_count": 146,
   "metadata": {},
   "outputs": [
    {
     "data": {
      "text/plain": [
       "10"
      ]
     },
     "execution_count": 146,
     "metadata": {},
     "output_type": "execute_result"
    }
   ],
   "source": [
    "# How much popular books are they recommended for new visitors\n",
    "n=len(top10book['bookTitle'].tolist())\n",
    "n"
   ]
  },
  {
   "cell_type": "code",
   "execution_count": 147,
   "metadata": {},
   "outputs": [],
   "source": [
    "# Adding top popular books to the chatting list\n",
    "l=['(.*) new visitor']\n",
    "bookl=[]\n",
    "ch='You are welcome, these are most popular book that users rate and you may also need to read them : '\n",
    "for i in range(n):\n",
    "    ch+=top10book['bookTitle'].tolist()[i]\n",
    "    ch+=' , '\n",
    "bookl.append(ch)\n",
    "l.append(bookl)\n",
    "pairs.append(l)"
   ]
  },
  {
   "cell_type": "code",
   "execution_count": 148,
   "metadata": {},
   "outputs": [
    {
     "data": {
      "text/plain": [
       "[['(hi|hello|hey|hola)', ['Hey there', 'Hello my friend', 'Hiii']],\n",
       " ['how are you', ['i m fine ', 'so good']],\n",
       " ['who are you',\n",
       "  ['I am a chatbot who help users find books that they may like by giving them suggestions. And you what is your name ? ']],\n",
       " ['my name is (.*)', ['Nice to meet you %1, how are you ?']],\n",
       " ['(fine|im fine)',\n",
       "  ['Good !, so are you looking for recommended books ?',\n",
       "   'Happy to hear this from you my friend , so are you looking for recommended books ?']],\n",
       " ['(yes|ofcourse)',\n",
       "  ['Great !, and i m here for this job. So tell me, are you a new visitor or you have read some books ?']],\n",
       " ['(.*) read (.*) books',\n",
       "  ['Very nice ! and what is the latest book title did you read ?']],\n",
       " ['(thank you chatbot|thanks|thats great|good job)',\n",
       "  ['You are welcome, happy to help you', 'Thats my job']],\n",
       " ['(good bye (.*)|bye (.*))', ['Good bye', 'Bye , See you soon']],\n",
       " ['1st to Die: A Novel',\n",
       "  [' Very interesting book and I think that you may also like these books :  The Beach House , Cradle and All , Violets Are Blue , Kiss the Girls , ']],\n",
       " ['2nd Chance',\n",
       "  [\" Very interesting book and I think that you may also like these books :  Four Blind Mice , The Beach House , Violets Are Blue , Daddy's Little Girl , \"]],\n",
       " ['84 Charing Cross Road',\n",
       "  [' Very interesting book and I think that you may also like these books :  Wild Animus , Confessions of a Shopaholic (Summer Display Opportunity) , Blue Diary , How to Be Good , ']],\n",
       " ['A Bend in the Road',\n",
       "  [' Very interesting book and I think that you may also like these books :  A Walk to Remember , The Rescue , Wild Animus , Blue Diary , ']],\n",
       " ['A Is for Alibi (Kinsey Millhone Mysteries (Paperback))',\n",
       "  [' Very interesting book and I think that you may also like these books :  C Is for Corpse (Kinsey Millhone Mysteries (Paperback)) , B Is for Burglar (Kinsey Millhone Mysteries (Paperback)) , Wild Animus , Hot Six : A Stephanie Plum Novel (A Stephanie Plum Novel) , ']],\n",
       " ['A Painted House',\n",
       "  [' Very interesting book and I think that you may also like these books :  Cradle and All , The Last Precinct , Midnight Bayou , Wild Animus , ']],\n",
       " ['A Prayer for Owen Meany',\n",
       "  [' Very interesting book and I think that you may also like these books :  How to Be Good , Empire Falls , Wild Animus , The Cider House Rules , ']],\n",
       " ['A Time to Kill',\n",
       "  [' Very interesting book and I think that you may also like these books :  The Chamber , The Pelican Brief , The Rainmaker , The Street Lawyer , ']],\n",
       " ['A Walk to Remember',\n",
       "  [' Very interesting book and I think that you may also like these books :  The Rescue , A Bend in the Road , Message in a Bottle , Wild Animus , ']],\n",
       " ['A Wrinkle In Time',\n",
       "  [' Very interesting book and I think that you may also like these books :  Wild Animus , Blue Diary , Coraline , A Wrinkle in Time , ']],\n",
       " ['A Wrinkle in Time',\n",
       "  [\" Very interesting book and I think that you may also like these books :  A Wrinkle In Time , Wild Animus , The Girls' Guide to Hunting and Fishing , The Perfect Storm : A True Story of Men Against the Sea , \"]],\n",
       " ['All I Really Need to Know',\n",
       "  [' Very interesting book and I think that you may also like these books :  Wild Animus , The Shining , How to Be Good , A Walk to Remember , ']],\n",
       " ['American Gods',\n",
       "  [' Very interesting book and I think that you may also like these books :  Wild Animus , Coraline , The Golden Compass (His Dark Materials, Book 1) , The Beach House , ']],\n",
       " [\"Angela's Ashes: A Memoir\",\n",
       "  [' Very interesting book and I think that you may also like these books :  Wild Animus , The Reader , How to Be Good , The Rescue , ']],\n",
       " ['Angels &amp; Demons',\n",
       "  [' Very interesting book and I think that you may also like these books :  Wild Animus , How to Be Good , Bel Canto: A Novel , Tears of the Giraffe (No.1 Ladies Detective Agency) , ']],\n",
       " ['Anne of Green Gables (Anne of Green Gables Novels (Paperback))',\n",
       "  [\" Very interesting book and I think that you may also like these books :  Wild Animus , White Oleander : A Novel (Oprah's Book Club) , Daddy's Little Girl , The Gift , \"]],\n",
       " ['B Is for Burglar (Kinsey Millhone Mysteries (Paperback))',\n",
       "  [' Very interesting book and I think that you may also like these books :  C Is for Corpse (Kinsey Millhone Mysteries (Paperback)) , A Is for Alibi (Kinsey Millhone Mysteries (Paperback)) , Wild Animus , Q Is for Quarry , ']],\n",
       " ['Balzac and the Little Chinese Seamstress : A Novel',\n",
       "  [' Very interesting book and I think that you may also like these books :  Wild Animus , Tears of the Giraffe (No.1 Ladies Detective Agency) , Blue Diary , Confessions of a Shopaholic (Summer Display Opportunity) , ']],\n",
       " ['Bel Canto: A Novel',\n",
       "  [' Very interesting book and I think that you may also like these books :  Wild Animus , Blue Diary , Fried Green Tomatoes at the Whistle Stop Cafe , How to Be Good , ']],\n",
       " ['Black House',\n",
       "  [' Very interesting book and I think that you may also like these books :  Desperation , Wizard and Glass (The Dark Tower, Book 4) , Nightmares &amp; Dreamscapes , The Drawing of the Three (The Dark Tower, Book 2) , ']],\n",
       " ['Blue Diary',\n",
       "  [' Very interesting book and I think that you may also like these books :  Wild Animus , How to Be Good , In Her Shoes : A Novel , The Reader , ']],\n",
       " ['Brave New World',\n",
       "  [\" Very interesting book and I think that you may also like these books :  How to Be Good , Wild Animus , The Tale of the Body Thief (Vampire Chronicles (Paperback)) , The Color of Water: A Black Man's Tribute to His White Mother , \"]],\n",
       " [\"Bridget Jones's Diary\",\n",
       "  [' Very interesting book and I think that you may also like these books :  Bridget Jones: The Edge of Reason , The Bridges of Madison County , Girl in Hyacinth Blue , A Walk to Remember , ']],\n",
       " ['Bridget Jones: The Edge of Reason',\n",
       "  [' Very interesting book and I think that you may also like these books :  How to Be Good , Wild Animus , The Hundred Secret Senses , Confessions of a Shopaholic (Summer Display Opportunity) , ']],\n",
       " ['C Is for Corpse (Kinsey Millhone Mysteries (Paperback))',\n",
       "  [' Very interesting book and I think that you may also like these books :  A Is for Alibi (Kinsey Millhone Mysteries (Paperback)) , B Is for Burglar (Kinsey Millhone Mysteries (Paperback)) , Wild Animus , Q Is for Quarry , ']],\n",
       " ['Carrie',\n",
       "  [\" Very interesting book and I think that you may also like these books :  Desperation , Rose Madder , Christine , Gerald's Game , \"]],\n",
       " [\"Chicken Soup for the Woman's Soul (Chicken Soup for the Soul Series (Paper))\",\n",
       "  [' Very interesting book and I think that you may also like these books :  Wild Animus , The Reader , Blue Diary , The Bad Beginning (A Series of Unfortunate Events, Book 1) , ']],\n",
       " ['Christine',\n",
       "  [' Very interesting book and I think that you may also like these books :  Cujo , Desperation , The Shining , Carrie , ']],\n",
       " ['Confessions of a Shopaholic (Summer Display Opportunity)',\n",
       "  [' Very interesting book and I think that you may also like these books :  In Her Shoes : A Novel , Wild Animus , Mystic River , Q Is for Quarry , ']],\n",
       " ['Congo',\n",
       "  [' Very interesting book and I think that you may also like these books :  Wild Animus , Blue Diary , How to Be Good , Watchers , ']],\n",
       " ['Coraline',\n",
       "  [' Very interesting book and I think that you may also like these books :  Wild Animus , How to Be Good , American Gods , Balzac and the Little Chinese Seamstress : A Novel , ']],\n",
       " ['Cradle and All',\n",
       "  [\" Very interesting book and I think that you may also like these books :  Four Blind Mice , The Last Precinct , The Beach House , Daddy's Little Girl , \"]],\n",
       " ['Cruel &amp; Unusual (Kay Scarpetta Mysteries (Paperback))',\n",
       "  [' Very interesting book and I think that you may also like these books :  Unnatural Exposure , Wild Animus , Point of Origin , The Rescue , ']],\n",
       " ['Cujo',\n",
       "  [' Very interesting book and I think that you may also like these books :  Desperation , Christine , Four Past Midnight , It , ']],\n",
       " [\"Daddy's Little Girl\",\n",
       "  [' Very interesting book and I think that you may also like these books :  The Beach House , Lightning , Blue Diary , Wild Animus , ']],\n",
       " ['Desperation',\n",
       "  [' Very interesting book and I think that you may also like these books :  Four Past Midnight , Rose Madder , Cujo , Nightmares &amp; Dreamscapes , ']],\n",
       " ['Divine Secrets of the Ya-Ya Sisterhood: A Novel',\n",
       "  [\" Very interesting book and I think that you may also like these books :  Blue Diary , Wild Animus , White Oleander : A Novel (Oprah's Book Club) , Little Altars Everywhere: A Novel , \"]],\n",
       " ['Dolores Claiborne',\n",
       "  [' Very interesting book and I think that you may also like these books :  Nightmares &amp; Dreamscapes , Carrie , Rose Madder , The Tommyknockers , ']],\n",
       " ['Dragonfly in Amber',\n",
       "  [' Very interesting book and I think that you may also like these books :  Wild Animus , Outlander , The Horse Whisperer , How to Be Good , ']],\n",
       " ['Dreamcatcher',\n",
       "  [' Very interesting book and I think that you may also like these books :  Desperation , Carrie , Four Past Midnight , Christine , ']],\n",
       " ['Empire Falls',\n",
       "  [\" Very interesting book and I think that you may also like these books :  How to Be Good , Wild Animus , Tears of the Giraffe (No.1 Ladies Detective Agency) , She's Come Undone (Oprah's Book Club (Paperback)) , \"]],\n",
       " [\"Ender's Game (Ender Wiggins Saga (Paperback))\",\n",
       "  [\" Very interesting book and I think that you may also like these books :  Wild Animus , How to Be Good , The Hitchhiker's Guide to the Galaxy , The Cider House Rules , \"]],\n",
       " ['Fahrenheit 451',\n",
       "  [' Very interesting book and I think that you may also like these books :  Wild Animus , STONES FROM THE RIVER , How to Be Good , One for the Money (Stephanie Plum Novels (Paperback)) , ']],\n",
       " ['Fear Nothing',\n",
       "  [' Very interesting book and I think that you may also like these books :  Whispers , Lightning , Wild Animus , Violets Are Blue , ']],\n",
       " ['Four Blind Mice',\n",
       "  [' Very interesting book and I think that you may also like these books :  Cradle and All , The Beach House , Violets Are Blue , The Last Precinct , ']],\n",
       " ['Four Past Midnight',\n",
       "  [\" Very interesting book and I think that you may also like these books :  Rose Madder , The Tommyknockers , Desperation , Gerald's Game , \"]],\n",
       " ['Four To Score (A Stephanie Plum Novel)',\n",
       "  [' Very interesting book and I think that you may also like these books :  High Five (A Stephanie Plum Novel) , Two for the Dough , Hot Six : A Stephanie Plum Novel (A Stephanie Plum Novel) , Seven Up (A Stephanie Plum Novel) , ']],\n",
       " ['Fried Green Tomatoes at the Whistle Stop Cafe',\n",
       "  [' Very interesting book and I think that you may also like these books :  Wild Animus , The Reader , The Cider House Rules , How to Be Good , ']],\n",
       " [\"Gerald's Game\",\n",
       "  [' Very interesting book and I think that you may also like these books :  Four Past Midnight , Rose Madder , The Dark Half , The Tommyknockers , ']],\n",
       " ['Girl in Hyacinth Blue',\n",
       "  [\" Very interesting book and I think that you may also like these books :  Wild Animus , White Oleander : A Novel (Oprah's Book Club) , Blue Diary , Fried Green Tomatoes at the Whistle Stop Cafe , \"]],\n",
       " ['Girl with a Pearl Earring',\n",
       "  [' Very interesting book and I think that you may also like these books :  Wild Animus , The Bad Beginning (A Series of Unfortunate Events, Book 1) , Girl in Hyacinth Blue , The Horse Whisperer , ']],\n",
       " ['Good in Bed',\n",
       "  [\" Very interesting book and I think that you may also like these books :  In Her Shoes : A Novel , Blue Diary , Daddy's Little Girl , The Girls' Guide to Hunting and Fishing , \"]],\n",
       " ['Hannibal',\n",
       "  [' Very interesting book and I think that you may also like these books :  Wild Animus , Wizard and Glass (The Dark Tower, Book 4) , Red Dragon , The Tale of the Body Thief (Vampire Chronicles (Paperback)) , ']],\n",
       " ['Hard Eight : A Stephanie Plum Novel (A Stephanie Plum Novel)',\n",
       "  [' Very interesting book and I think that you may also like these books :  Seven Up (A Stephanie Plum Novel) , High Five (A Stephanie Plum Novel) , Hot Six : A Stephanie Plum Novel (A Stephanie Plum Novel) , Four To Score (A Stephanie Plum Novel) , ']],\n",
       " ['Harry Potter and the Chamber of Secrets (Book 2)',\n",
       "  [\" Very interesting book and I think that you may also like these books :  Harry Potter and the Prisoner of Azkaban (Book 3) , Harry Potter and the Goblet of Fire (Book 4) , Harry Potter and the Sorcerer's Stone (Book 1) , Harry Potter and the Sorcerer's Stone (Harry Potter (Paperback)) , \"]],\n",
       " ['Harry Potter and the Goblet of Fire (Book 4)',\n",
       "  [\" Very interesting book and I think that you may also like these books :  Harry Potter and the Prisoner of Azkaban (Book 3) , Harry Potter and the Order of the Phoenix (Book 5) , Harry Potter and the Chamber of Secrets (Book 2) , Harry Potter and the Sorcerer's Stone (Book 1) , \"]],\n",
       " ['Harry Potter and the Order of the Phoenix (Book 5)',\n",
       "  [\" Very interesting book and I think that you may also like these books :  Harry Potter and the Goblet of Fire (Book 4) , The Bad Beginning (A Series of Unfortunate Events, Book 1) , The Bonesetter's Daughter , The Tao of Pooh , \"]],\n",
       " ['Harry Potter and the Prisoner of Azkaban (Book 3)',\n",
       "  [\" Very interesting book and I think that you may also like these books :  Harry Potter and the Goblet of Fire (Book 4) , Harry Potter and the Chamber of Secrets (Book 2) , Harry Potter and the Sorcerer's Stone (Book 1) , Harry Potter and the Sorcerer's Stone (Harry Potter (Paperback)) , \"]],\n",
       " [\"Harry Potter and the Sorcerer's Stone (Book 1)\",\n",
       "  [\" Very interesting book and I think that you may also like these books :  Wild Animus , The Tao of Pooh , The Mists of Avalon , The Bonesetter's Daughter , \"]],\n",
       " [\"Harry Potter and the Sorcerer's Stone (Harry Potter (Paperback))\",\n",
       "  [\" Very interesting book and I think that you may also like these books :  Harry Potter and the Prisoner of Azkaban (Book 3) , Wild Animus , Left Behind: A Novel of the Earth's Last Days (Left Behind No. 1) , Heartbreaker , \"]],\n",
       " ['Heartbreaker',\n",
       "  [' Very interesting book and I think that you may also like these books :  Midnight Bayou , The Gift , Wild Animus , The Beach House , ']],\n",
       " ['High Five (A Stephanie Plum Novel)',\n",
       "  [' Very interesting book and I think that you may also like these books :  Hot Six : A Stephanie Plum Novel (A Stephanie Plum Novel) , Four To Score (A Stephanie Plum Novel) , Two for the Dough , Seven Up (A Stephanie Plum Novel) , ']],\n",
       " ['Hot Six : A Stephanie Plum Novel (A Stephanie Plum Novel)',\n",
       "  [' Very interesting book and I think that you may also like these books :  High Five (A Stephanie Plum Novel) , Four To Score (A Stephanie Plum Novel) , Wild Animus , Two for the Dough , ']],\n",
       " ['House of Sand and Fog',\n",
       "  [' Very interesting book and I think that you may also like these books :  Wild Animus , Blue Diary , The Reader , Midwives: A Novel , ']],\n",
       " ['How to Be Good',\n",
       "  [' Very interesting book and I think that you may also like these books :  The Cider House Rules , Wild Animus , Blue Diary , Empire Falls , ']],\n",
       " ['In Her Shoes : A Novel',\n",
       "  [\" Very interesting book and I think that you may also like these books :  Blue Diary , Confessions of a Shopaholic (Summer Display Opportunity) , Daddy's Little Girl , The Five People You Meet in Heaven , \"]],\n",
       " ['Insomnia',\n",
       "  [\" Very interesting book and I think that you may also like these books :  Desperation , Rose Madder , Gerald's Game , The Tommyknockers , \"]],\n",
       " ['Interview with the Vampire',\n",
       "  [' Very interesting book and I think that you may also like these books :  The Tale of the Body Thief (Vampire Chronicles (Paperback)) , The Vampire Lestat (Vampire Chronicles, Book II) , Wild Animus , How to Be Good , ']],\n",
       " ['Into Thin Air : A Personal Account of the Mt. Everest Disaster',\n",
       "  [\" Very interesting book and I think that you may also like these books :  How to Be Good , Wild Animus , The Girls' Guide to Hunting and Fishing , Fear Nothing , \"]],\n",
       " ['It',\n",
       "  [' Very interesting book and I think that you may also like these books :  Desperation , Four Past Midnight , Cujo , Skeleton Crew , ']],\n",
       " ['Jurassic Park',\n",
       "  [' Very interesting book and I think that you may also like these books :  Congo , Wild Animus , The Street Lawyer , Fried Green Tomatoes at the Whistle Stop Cafe , ']],\n",
       " ['Kiss the Girls',\n",
       "  [' Very interesting book and I think that you may also like these books :  The Beach House , Violets Are Blue , Wild Animus , When the Wind Blows , ']],\n",
       " [\"Left Behind: A Novel of the Earth's Last Days (Left Behind No. 1)\",\n",
       "  [\" Very interesting book and I think that you may also like these books :  Wild Animus , Chicken Soup for the Woman's Soul (Chicken Soup for the Soul Series (Paper)) , The Beach House , Fried Green Tomatoes at the Whistle Stop Cafe , \"]],\n",
       " ['Life of Pi',\n",
       "  [' Very interesting book and I think that you may also like these books :  Fried Green Tomatoes at the Whistle Stop Cafe , Empire Falls , How to Be Good , The Beach House , ']],\n",
       " ['Lightning',\n",
       "  [\" Very interesting book and I think that you may also like these books :  Whispers , Watchers , Daddy's Little Girl , Fear Nothing , \"]],\n",
       " ['Little Altars Everywhere: A Novel',\n",
       "  [\" Very interesting book and I think that you may also like these books :  Wild Animus , The Pilot's Wife : A Novel , Blue Diary , How to Be Good , \"]],\n",
       " ['Lord of the Flies',\n",
       "  [' Very interesting book and I think that you may also like these books :  Wild Animus , The Tao of Pooh , The Rainmaker , Congo , ']],\n",
       " ['Lucky : A Memoir',\n",
       "  [' Very interesting book and I think that you may also like these books :  Wild Animus , How to Be Good , Empire Falls , Into Thin Air : A Personal Account of the Mt. Everest Disaster , ']],\n",
       " ['Me Talk Pretty One Day',\n",
       "  [' Very interesting book and I think that you may also like these books :  How to Be Good , Wild Animus , Blue Diary , Coraline , ']],\n",
       " ['Message in a Bottle',\n",
       "  [' Very interesting book and I think that you may also like these books :  A Walk to Remember , Wild Animus , The Rescue , Midnight Bayou , ']],\n",
       " ['Midnight Bayou',\n",
       "  [' Very interesting book and I think that you may also like these books :  Heartbreaker , Wild Animus , The Gift , Lightning , ']],\n",
       " ['Midwives: A Novel',\n",
       "  [\" Very interesting book and I think that you may also like these books :  Wild Animus , The Reader , Chicken Soup for the Woman's Soul (Chicken Soup for the Soul Series (Paper)) , Blue Diary , \"]],\n",
       " ['Misery',\n",
       "  [' Very interesting book and I think that you may also like these books :  The Tommyknockers , Insomnia , Carrie , Christine , ']],\n",
       " ['Mystic River',\n",
       "  [' Very interesting book and I think that you may also like these books :  Wild Animus , Confessions of a Shopaholic (Summer Display Opportunity) , How to Be Good , Blue Diary , ']],\n",
       " ['Needful Things',\n",
       "  [' Very interesting book and I think that you may also like these books :  Christine , Thinner , Wild Animus , The Shining , ']],\n",
       " ['Nickel and Dimed: On (Not) Getting By in America',\n",
       "  [' Very interesting book and I think that you may also like these books :  Mystic River , Wild Animus , How to Be Good , The Rescue , ']],\n",
       " ['Nightmares &amp; Dreamscapes',\n",
       "  [' Very interesting book and I think that you may also like these books :  Desperation , Four Past Midnight , Rose Madder , Cujo , ']],\n",
       " ['One for the Money (Stephanie Plum Novels (Paperback))',\n",
       "  [\" Very interesting book and I think that you may also like these books :  Wild Animus , White Oleander : A Novel (Oprah's Book Club) , Lightning , How to Be Good , \"]],\n",
       " ['Outlander',\n",
       "  [' Very interesting book and I think that you may also like these books :  Dragonfly in Amber , The Horse Whisperer , Wild Animus , How to Be Good , ']],\n",
       " ['Pet Sematary',\n",
       "  [' Very interesting book and I think that you may also like these books :  Cujo , Christine , Carrie , The Tommyknockers , ']],\n",
       " ['Point of Origin',\n",
       "  [\" Very interesting book and I think that you may also like these books :  Daddy's Little Girl , Unnatural Exposure , Wild Animus , The Beach House , \"]],\n",
       " ['Q Is for Quarry',\n",
       "  [\" Very interesting book and I think that you may also like these books :  Wild Animus , Daddy's Little Girl , Confessions of a Shopaholic (Summer Display Opportunity) , In Her Shoes : A Novel , \"]],\n",
       " ['Red Dragon',\n",
       "  [' Very interesting book and I think that you may also like these books :  Wild Animus , Point of Origin , The Beach House , Hannibal , ']],\n",
       " ['Rose Madder',\n",
       "  [\" Very interesting book and I think that you may also like these books :  Four Past Midnight , Desperation , Gerald's Game , Insomnia , \"]],\n",
       " ['STONES FROM THE RIVER',\n",
       "  [' Very interesting book and I think that you may also like these books :  The Reader , Wild Animus , How to Be Good , Little Altars Everywhere: A Novel , ']],\n",
       " ['Seven Up (A Stephanie Plum Novel)',\n",
       "  [' Very interesting book and I think that you may also like these books :  Hard Eight : A Stephanie Plum Novel (A Stephanie Plum Novel) , High Five (A Stephanie Plum Novel) , Two for the Dough , Four To Score (A Stephanie Plum Novel) , ']],\n",
       " [\"She's Come Undone (Oprah's Book Club (Paperback))\",\n",
       "  [\" Very interesting book and I think that you may also like these books :  Wild Animus , Daddy's Little Girl , The Bean Trees , How to Be Good , \"]],\n",
       " ['Silence of the Lambs',\n",
       "  [' Very interesting book and I think that you may also like these books :  Wizard and Glass (The Dark Tower, Book 4) , Wild Animus , Desperation , Red Dragon , ']],\n",
       " ['Skeleton Crew',\n",
       "  [' Very interesting book and I think that you may also like these books :  Desperation , The Talisman , Carrie , It , ']],\n",
       " ['Skipping Christmas',\n",
       "  [' Very interesting book and I think that you may also like these books :  The Gift , Wild Animus , Blue Diary , Midnight Bayou , ']],\n",
       " ['Snow Falling on Cedars',\n",
       "  [\" Very interesting book and I think that you may also like these books :  Wild Animus , Bel Canto: A Novel , The Reader , White Oleander : A Novel (Oprah's Book Club) , \"]],\n",
       " ['Stupid White Men ...and Other Sorry Excuses for the State of the Nation!',\n",
       "  [\" Very interesting book and I think that you may also like these books :  The Bonesetter's Daughter , Confessions of a Shopaholic (Summer Display Opportunity) , Wild Animus , Bridget Jones: The Edge of Reason , \"]],\n",
       " ['Summer Sisters',\n",
       "  [\" Very interesting book and I think that you may also like these books :  A Walk to Remember , Daddy's Little Girl , Wild Animus , Chicken Soup for the Woman's Soul (Chicken Soup for the Soul Series (Paper)) , \"]],\n",
       " [\"Suzanne's Diary for Nicholas\",\n",
       "  [\" Very interesting book and I think that you may also like these books :  Chicken Soup for the Woman's Soul (Chicken Soup for the Soul Series (Paper)) , Wild Animus , Message in a Bottle , The Five People You Meet in Heaven , \"]],\n",
       " ['Tears of the Giraffe (No.1 Ladies Detective Agency)',\n",
       "  [\" Very interesting book and I think that you may also like these books :  The No. 1 Ladies' Detective Agency (Today Show Book Club #8) , Wild Animus , Balzac and the Little Chinese Seamstress : A Novel , Empire Falls , \"]],\n",
       " ['The Alienist',\n",
       "  [' Very interesting book and I think that you may also like these books :  Wild Animus , The Perfect Storm : A True Story of Men Against the Sea , How to Be Good , The Shining , ']],\n",
       " ['The Bad Beginning (A Series of Unfortunate Events, Book 1)',\n",
       "  [\" Very interesting book and I think that you may also like these books :  Wild Animus , Chicken Soup for the Woman's Soul (Chicken Soup for the Soul Series (Paper)) , Blue Diary , How to Be Good , \"]],\n",
       " ['The Beach House',\n",
       "  [\" Very interesting book and I think that you may also like these books :  Wild Animus , Daddy's Little Girl , Blue Diary , Kiss the Girls , \"]],\n",
       " ['The Bean Trees',\n",
       "  [\" Very interesting book and I think that you may also like these books :  She's Come Undone (Oprah's Book Club (Paperback)) , Wild Animus , The Reader , Into Thin Air : A Personal Account of the Mt. Everest Disaster , \"]],\n",
       " [\"The Bonesetter's Daughter\",\n",
       "  [' Very interesting book and I think that you may also like these books :  Wild Animus , The Hundred Secret Senses , Blue Diary , How to Be Good , ']],\n",
       " ['The Brethren',\n",
       "  [' Very interesting book and I think that you may also like these books :  Wild Animus , The Street Lawyer , Four Blind Mice , The Partner , ']],\n",
       " ['The Bridges of Madison County',\n",
       "  [' Very interesting book and I think that you may also like these books :  Wild Animus , A Walk to Remember , How to Be Good , Blue Diary , ']],\n",
       " ['The Catcher in the Rye',\n",
       "  [\" Very interesting book and I think that you may also like these books :  How to Be Good , Wild Animus , The Hitchhiker's Guide to the Galaxy , The Bad Beginning (A Series of Unfortunate Events, Book 1) , \"]],\n",
       " ['The Chamber',\n",
       "  [' Very interesting book and I think that you may also like these books :  The Rainmaker , The Street Lawyer , The Client , The Partner , ']],\n",
       " ['The Cider House Rules',\n",
       "  [' Very interesting book and I think that you may also like these books :  How to Be Good , Wild Animus , Blue Diary , The Reader , ']],\n",
       " [\"The Clan of the Cave Bear (Earth's Children (Paperback))\",\n",
       "  [' Very interesting book and I think that you may also like these books :  Wild Animus , How to Be Good , Blue Diary , The Reader , ']],\n",
       " ['The Client',\n",
       "  [' Very interesting book and I think that you may also like these books :  The Chamber , The Pelican Brief , The Rainmaker , Congo , ']],\n",
       " ['The Color Purple',\n",
       "  [' Very interesting book and I think that you may also like these books :  Wild Animus , How to Be Good , The Shining , Dragonfly in Amber , ']],\n",
       " [\"The Color of Water: A Black Man's Tribute to His White Mother\",\n",
       "  [' Very interesting book and I think that you may also like these books :  Wild Animus , Blue Diary , How to Be Good , Confessions of a Shopaholic (Summer Display Opportunity) , ']],\n",
       " ['The Da Vinci Code',\n",
       "  [' Very interesting book and I think that you may also like these books :  Angels &amp; Demons , The Rainmaker , Wild Animus , Timeline , ']],\n",
       " ['The Dark Half',\n",
       "  [\" Very interesting book and I think that you may also like these books :  The Tommyknockers , Gerald's Game , Four Past Midnight , Desperation , \"]],\n",
       " ['The Drawing of the Three (The Dark Tower, Book 2)',\n",
       "  [' Very interesting book and I think that you may also like these books :  Wizard and Glass (The Dark Tower, Book 4) , The Gunslinger (The Dark Tower, Book 1) , The Tommyknockers , Four Past Midnight , ']],\n",
       " ['The Fellowship of the Ring (The Lord of the Rings, Part 1)',\n",
       "  [\" Very interesting book and I think that you may also like these books :  The Two Towers (The Lord of the Rings, Part 2) , The Return of the King (The Lord of the Rings, Part 3) , The Hitchhiker's Guide to the Galaxy , The Tale of the Body Thief (Vampire Chronicles (Paperback)) , \"]],\n",
       " ['The Firm',\n",
       "  [' Very interesting book and I think that you may also like these books :  The Chamber , The Rainmaker , The Pelican Brief , Congo , ']],\n",
       " ['The Five People You Meet in Heaven',\n",
       "  [' Very interesting book and I think that you may also like these books :  In Her Shoes : A Novel , The Beach House , Confessions of a Shopaholic (Summer Display Opportunity) , Blue Diary , ']],\n",
       " ['The Gift',\n",
       "  [' Very interesting book and I think that you may also like these books :  Heartbreaker , Midnight Bayou , Skipping Christmas , Wild Animus , ']],\n",
       " [\"The Girls' Guide to Hunting and Fishing\",\n",
       "  [' Very interesting book and I think that you may also like these books :  Wild Animus , Into Thin Air : A Personal Account of the Mt. Everest Disaster , In Her Shoes : A Novel , How to Be Good , ']],\n",
       " ['The Golden Compass (His Dark Materials, Book 1)',\n",
       "  [' Very interesting book and I think that you may also like these books :  Wild Animus , How to Be Good , American Gods , Blue Diary , ']],\n",
       " ['The Green Mile',\n",
       "  [' Very interesting book and I think that you may also like these books :  Carrie , Skeleton Crew , Christine , Wild Animus , ']],\n",
       " ['The Gunslinger (The Dark Tower, Book 1)',\n",
       "  [' Very interesting book and I think that you may also like these books :  The Drawing of the Three (The Dark Tower, Book 2) , Wizard and Glass (The Dark Tower, Book 4) , Black House , Desperation , ']],\n",
       " [\"The Handmaid's Tale\",\n",
       "  [\" Very interesting book and I think that you may also like these books :  The Golden Compass (His Dark Materials, Book 1) , Wild Animus , How to Be Good , Chicken Soup for the Woman's Soul (Chicken Soup for the Soul Series (Paper)) , \"]],\n",
       " [\"The Hitchhiker's Guide to the Galaxy\",\n",
       "  [' Very interesting book and I think that you may also like these books :  Wild Animus , The Shining , Cujo , The Tale of the Body Thief (Vampire Chronicles (Paperback)) , ']],\n",
       " ['The Hobbit : The Enchanting Prelude to The Lord of the Rings',\n",
       "  [\" Very interesting book and I think that you may also like these books :  Wild Animus , The Return of the King (The Lord of the Rings, Part 3) , White Oleander : A Novel (Oprah's Book Club) , How to Be Good , \"]],\n",
       " ['The Horse Whisperer',\n",
       "  [\" Very interesting book and I think that you may also like these books :  Wild Animus , Dragonfly in Amber , Chicken Soup for the Woman's Soul (Chicken Soup for the Soul Series (Paper)) , The Rescue , \"]],\n",
       " ['The Hundred Secret Senses',\n",
       "  [\" Very interesting book and I think that you may also like these books :  Bridget Jones: The Edge of Reason , Wild Animus , The Bonesetter's Daughter , How to Be Good , \"]],\n",
       " ['The Joy Luck Club',\n",
       "  [' Very interesting book and I think that you may also like these books :  Wild Animus , The Reader , The Hundred Secret Senses , The Cider House Rules , ']],\n",
       " ['The Last Precinct',\n",
       "  [' Very interesting book and I think that you may also like these books :  Wild Animus , Cradle and All , Unnatural Exposure , The Shining , ']],\n",
       " ['The Little Prince',\n",
       "  [\" Very interesting book and I think that you may also like these books :  Wild Animus , How to Be Good , White Oleander : A Novel (Oprah's Book Club) , Blue Diary , \"]],\n",
       " ['The Lovely Bones: A Novel',\n",
       "  [\" Very interesting book and I think that you may also like these books :  Where the Heart Is (Oprah's Book Club (Paperback)) , Blue Diary , Lucky : A Memoir , She's Come Undone (Oprah's Book Club (Paperback)) , \"]],\n",
       " ['The Mists of Avalon',\n",
       "  [' Very interesting book and I think that you may also like these books :  Wild Animus , Dragonfly in Amber , The Tao of Pooh , How to Be Good , ']],\n",
       " ['The Nanny Diaries: A Novel',\n",
       "  [' Very interesting book and I think that you may also like these books :  Blue Diary , How to Be Good , The Reader , Wild Animus , ']],\n",
       " [\"The No. 1 Ladies' Detective Agency (Today Show Book Club #8)\",\n",
       "  [\" Very interesting book and I think that you may also like these books :  Tears of the Giraffe (No.1 Ladies Detective Agency) , Wild Animus , How to Be Good , The Girls' Guide to Hunting and Fishing , \"]],\n",
       " ['The Notebook',\n",
       "  [' Very interesting book and I think that you may also like these books :  The Rescue , Message in a Bottle , A Walk to Remember , Wild Animus , ']],\n",
       " ['The Partner',\n",
       "  [' Very interesting book and I think that you may also like these books :  The Rainmaker , The Brethren , The Street Lawyer , Lightning , ']],\n",
       " ['The Pelican Brief',\n",
       "  [' Very interesting book and I think that you may also like these books :  The Chamber , The Client , The Rainmaker , The Street Lawyer , ']],\n",
       " ['The Perfect Storm : A True Story of Men Against the Sea',\n",
       "  [\" Very interesting book and I think that you may also like these books :  Wild Animus , Blue Diary , Chicken Soup for the Woman's Soul (Chicken Soup for the Soul Series (Paper)) , Congo , \"]],\n",
       " [\"The Pilot's Wife : A Novel\",\n",
       "  [\" Very interesting book and I think that you may also like these books :  Wild Animus , Little Altars Everywhere: A Novel , She's Come Undone (Oprah's Book Club (Paperback)) , The Reader , \"]],\n",
       " ['The Prince of Tides',\n",
       "  [' Very interesting book and I think that you may also like these books :  Wild Animus , Mystic River , The Perfect Storm : A True Story of Men Against the Sea , Blue Diary , ']],\n",
       " ['The Rainmaker',\n",
       "  [' Very interesting book and I think that you may also like these books :  The Chamber , Lightning , Wild Animus , The Partner , ']],\n",
       " ['The Reader',\n",
       "  [\" Very interesting book and I think that you may also like these books :  Wild Animus , Blue Diary , Chicken Soup for the Woman's Soul (Chicken Soup for the Soul Series (Paper)) , Midwives: A Novel , \"]],\n",
       " ['The Red Tent (Bestselling Backlist)',\n",
       "  [' Very interesting book and I think that you may also like these books :  The Reader , Fried Green Tomatoes at the Whistle Stop Cafe , How to Be Good , Blue Diary , ']],\n",
       " ['The Rescue',\n",
       "  [' Very interesting book and I think that you may also like these books :  A Walk to Remember , Wild Animus , A Bend in the Road , How to Be Good , ']],\n",
       " ['The Return of the King (The Lord of the Rings, Part 3)',\n",
       "  [' Very interesting book and I think that you may also like these books :  The Two Towers (The Lord of the Rings, Part 2) , Wild Animus , Skipping Christmas , How to Be Good , ']],\n",
       " ['The Runaway Jury',\n",
       "  [' Very interesting book and I think that you may also like these books :  The Rainmaker , The Brethren , Congo , The Street Lawyer , ']],\n",
       " ['The Secret Garden',\n",
       "  [' Very interesting book and I think that you may also like these books :  Wild Animus , A Walk to Remember , The Bad Beginning (A Series of Unfortunate Events, Book 1) , How to Be Good , ']],\n",
       " ['The Secret Life of Bees',\n",
       "  [' Very interesting book and I think that you may also like these books :  Blue Diary , Wild Animus , How to Be Good , House of Sand and Fog , ']],\n",
       " ['The Shining',\n",
       "  [' Very interesting book and I think that you may also like these books :  Christine , Wild Animus , Carrie , Four Past Midnight , ']],\n",
       " ['The Street Lawyer',\n",
       "  [\" Very interesting book and I think that you may also like these books :  The Chamber , Daddy's Little Girl , The Brethren , The Rainmaker , \"]],\n",
       " ['The Summons',\n",
       "  [' Very interesting book and I think that you may also like these books :  Cradle and All , The Beach House , The Brethren , Wild Animus , ']],\n",
       " ['The Tale of the Body Thief (Vampire Chronicles (Paperback))',\n",
       "  [' Very interesting book and I think that you may also like these books :  The Vampire Lestat (Vampire Chronicles, Book II) , Wizard and Glass (The Dark Tower, Book 4) , Wild Animus , Interview with the Vampire , ']],\n",
       " ['The Talisman',\n",
       "  [' Very interesting book and I think that you may also like these books :  Desperation , Skeleton Crew , It , Four Past Midnight , ']],\n",
       " ['The Tao of Pooh',\n",
       "  [' Very interesting book and I think that you may also like these books :  Wild Animus , The Shining , The Tale of the Body Thief (Vampire Chronicles (Paperback)) , The Bad Beginning (A Series of Unfortunate Events, Book 1) , ']],\n",
       " ['The Testament',\n",
       "  [' Very interesting book and I think that you may also like these books :  The Street Lawyer , Four Blind Mice , The Brethren , Unnatural Exposure , ']],\n",
       " ['The Thorn Birds',\n",
       "  [\" Very interesting book and I think that you may also like these books :  Wild Animus , How to Be Good , Midnight Bayou , Daddy's Little Girl , \"]],\n",
       " ['The Tommyknockers',\n",
       "  [' Very interesting book and I think that you may also like these books :  Four Past Midnight , The Dark Half , The Drawing of the Three (The Dark Tower, Book 2) , Desperation , ']],\n",
       " ['The Two Towers (The Lord of the Rings, Part 2)',\n",
       "  [' Very interesting book and I think that you may also like these books :  The Return of the King (The Lord of the Rings, Part 3) , The Fellowship of the Ring (The Lord of the Rings, Part 1) , Wild Animus , How to Be Good , ']],\n",
       " ['The Vampire Lestat (Vampire Chronicles, Book II)',\n",
       "  [' Very interesting book and I think that you may also like these books :  The Tale of the Body Thief (Vampire Chronicles (Paperback)) , Interview with the Vampire , Wizard and Glass (The Dark Tower, Book 4) , The Witching Hour (Lives of the Mayfair Witches) , ']],\n",
       " ['The Witching Hour (Lives of the Mayfair Witches)',\n",
       "  [' Very interesting book and I think that you may also like these books :  The Tale of the Body Thief (Vampire Chronicles (Paperback)) , The Vampire Lestat (Vampire Chronicles, Book II) , Wild Animus , Wizard and Glass (The Dark Tower, Book 4) , ']],\n",
       " ['Thinner',\n",
       "  [' Very interesting book and I think that you may also like these books :  The Tommyknockers , Whispers , Christine , The Shining , ']],\n",
       " ['Timeline',\n",
       "  [\" Very interesting book and I think that you may also like these books :  Wild Animus , Daddy's Little Girl , How to Be Good , Whispers , \"]],\n",
       " ['To Kill a Mockingbird',\n",
       "  [' Very interesting book and I think that you may also like these books :  STONES FROM THE RIVER , The Catcher in the Rye , Wild Animus , Empire Falls , ']],\n",
       " [\"Tuesdays with Morrie: An Old Man, a Young Man, and Life's Greatest Lesson\",\n",
       "  [' Very interesting book and I think that you may also like these books :  The Five People You Meet in Heaven , The Rescue , Wild Animus , In Her Shoes : A Novel , ']],\n",
       " ['Two for the Dough',\n",
       "  [' Very interesting book and I think that you may also like these books :  Four To Score (A Stephanie Plum Novel) , High Five (A Stephanie Plum Novel) , Hot Six : A Stephanie Plum Novel (A Stephanie Plum Novel) , Seven Up (A Stephanie Plum Novel) , ']],\n",
       " ['Unnatural Exposure',\n",
       "  [\" Very interesting book and I think that you may also like these books :  The Last Precinct , Daddy's Little Girl , Cradle and All , Wild Animus , \"]],\n",
       " ['Violets Are Blue',\n",
       "  [' Very interesting book and I think that you may also like these books :  Fear Nothing , Four Blind Mice , Kiss the Girls , 2nd Chance , ']],\n",
       " ['Watchers',\n",
       "  [' Very interesting book and I think that you may also like these books :  Lightning , Whispers , The Beach House , Wild Animus , ']],\n",
       " ['Watership Down',\n",
       "  [\" Very interesting book and I think that you may also like these books :  Wild Animus , A Wrinkle In Time , How to Be Good , The Clan of the Cave Bear (Earth's Children (Paperback)) , \"]],\n",
       " ['When the Wind Blows',\n",
       "  [' Very interesting book and I think that you may also like these books :  The Beach House , Cradle and All , Wild Animus , Kiss the Girls , ']],\n",
       " [\"Where the Heart Is (Oprah's Book Club (Paperback))\",\n",
       "  [' Very interesting book and I think that you may also like these books :  Blue Diary , How to Be Good , Wild Animus , Into Thin Air : A Personal Account of the Mt. Everest Disaster , ']],\n",
       " ['Whispers',\n",
       "  [\" Very interesting book and I think that you may also like these books :  Lightning , Fear Nothing , Daddy's Little Girl , Wild Animus , \"]],\n",
       " ['White Oleander : A Novel',\n",
       "  [' Very interesting book and I think that you may also like these books :  Wild Animus , The Reader , Blue Diary , The Cider House Rules , ']],\n",
       " [\"White Oleander : A Novel (Oprah's Book Club)\",\n",
       "  [\" Very interesting book and I think that you may also like these books :  Wild Animus , One for the Money (Stephanie Plum Novels (Paperback)) , Blue Diary , Chicken Soup for the Woman's Soul (Chicken Soup for the Soul Series (Paper)) , \"]],\n",
       " ['Wicked: The Life and Times of the Wicked Witch of the West',\n",
       "  [' Very interesting book and I think that you may also like these books :  How to Be Good , Wild Animus , The Bad Beginning (A Series of Unfortunate Events, Book 1) , Empire Falls , ']],\n",
       " ['Wild Animus',\n",
       "  [' Very interesting book and I think that you may also like these books :  The Reader , Blue Diary , The Tao of Pooh , How to Be Good , ']],\n",
       " ['Wizard and Glass (The Dark Tower, Book 4)',\n",
       "  [' Very interesting book and I think that you may also like these books :  The Drawing of the Three (The Dark Tower, Book 2) , The Tale of the Body Thief (Vampire Chronicles (Paperback)) , Black House , The Tommyknockers , ']],\n",
       " ['(.*) new visitor',\n",
       "  [\"You are welcome, these are most popular book that users rate and you may also need to read them : The Lovely Bones: A Novel , The Da Vinci Code , The Red Tent (Bestselling Backlist) , Harry Potter and the Sorcerer's Stone (Harry Potter (Paperback)) , The Secret Life of Bees , Wild Animus , Divine Secrets of the Ya-Ya Sisterhood: A Novel , Where the Heart Is (Oprah's Book Club (Paperback)) , Girl with a Pearl Earring , Angels &amp; Demons , \"]]]"
      ]
     },
     "execution_count": 148,
     "metadata": {},
     "output_type": "execute_result"
    }
   ],
   "source": [
    "# Viewing the final chatting list : all the possible inputs and their possible \n",
    "# outputs (or bot's responses)\n",
    "pairs"
   ]
  },
  {
   "cell_type": "code",
   "execution_count": 149,
   "metadata": {},
   "outputs": [
    {
     "name": "stdout",
     "output_type": "stream",
     "text": [
      ">hi\n",
      "Hello my friend\n",
      ">how are you\n",
      "i m fine \n",
      ">who are you\n",
      "I am a chatbot who help users find books that they may like by giving them suggestions. And you what is your name ? \n",
      ">hamdi\n",
      "None\n",
      ">my name is hamdi\n",
      "Nice to meet you hamdi, how are you ?\n",
      ">i m fine\n",
      "None\n",
      ">im fine \n",
      "Good !, so are you looking for recommended books ?\n",
      ">yes\n",
      "Great !, and i m here for this job. So tell me, are you a new visitor or you have read some books ?\n",
      ">im new visitor\n",
      "You are welcome, these are most popular book that users rate and you may also need to read them : The Lovely Bones: A Novel , The Da Vinci Code , The Red Tent (Bestselling Backlist) , Harry Potter and the Sorcerer's Stone (Harry Potter (Paperback)) , The Secret Life of Bees , Wild Animus , Divine Secrets of the Ya-Ya Sisterhood: A Novel , Where the Heart Is (Oprah's Book Club (Paperback)) , Girl with a Pearl Earring , Angels &amp; Demons , \n",
      ">i have read some books\n",
      "Very nice ! and what is the latest book title did you read ?\n",
      ">Coraline\n",
      " Very interesting book and I think that you may also like these books :  Wild Animus , How to Be Good , American Gods , Balzac and the Little Chinese Seamstress : A Novel , \n",
      ">thanks\n",
      "You are welcome, happy to help you\n",
      ">good bye\n",
      "None\n",
      ">bye\n",
      "None\n",
      ">good bye chatbot\n",
      "Bye , See you soon\n",
      ">.\n"
     ]
    },
    {
     "ename": "IndexError",
     "evalue": "string index out of range",
     "output_type": "error",
     "traceback": [
      "\u001b[1;31m---------------------------------------------------------------------------\u001b[0m",
      "\u001b[1;31mIndexError\u001b[0m                                Traceback (most recent call last)",
      "\u001b[1;32m<ipython-input-149-7a10161241f8>\u001b[0m in \u001b[0;36m<module>\u001b[1;34m\u001b[0m\n\u001b[0;32m      1\u001b[0m \u001b[1;31m# Making conversation with the bot and see how does it intereact\u001b[0m\u001b[1;33m\u001b[0m\u001b[1;33m\u001b[0m\u001b[1;33m\u001b[0m\u001b[0m\n\u001b[0;32m      2\u001b[0m \u001b[0mchat\u001b[0m\u001b[1;33m=\u001b[0m\u001b[0mChat\u001b[0m\u001b[1;33m(\u001b[0m\u001b[0mpairs\u001b[0m\u001b[1;33m,\u001b[0m\u001b[0mreflections\u001b[0m\u001b[1;33m)\u001b[0m\u001b[1;33m\u001b[0m\u001b[1;33m\u001b[0m\u001b[0m\n\u001b[1;32m----> 3\u001b[1;33m \u001b[0mchat\u001b[0m\u001b[1;33m.\u001b[0m\u001b[0mconverse\u001b[0m\u001b[1;33m(\u001b[0m\u001b[1;33m)\u001b[0m\u001b[1;33m\u001b[0m\u001b[1;33m\u001b[0m\u001b[0m\n\u001b[0m",
      "\u001b[1;32m~\\anaconda3\\lib\\site-packages\\nltk\\chat\\util.py\u001b[0m in \u001b[0;36mconverse\u001b[1;34m(self, quit)\u001b[0m\n\u001b[0;32m    124\u001b[0m                 \u001b[0mprint\u001b[0m\u001b[1;33m(\u001b[0m\u001b[0muser_input\u001b[0m\u001b[1;33m)\u001b[0m\u001b[1;33m\u001b[0m\u001b[1;33m\u001b[0m\u001b[0m\n\u001b[0;32m    125\u001b[0m             \u001b[1;32mif\u001b[0m \u001b[0muser_input\u001b[0m\u001b[1;33m:\u001b[0m\u001b[1;33m\u001b[0m\u001b[1;33m\u001b[0m\u001b[0m\n\u001b[1;32m--> 126\u001b[1;33m                 \u001b[1;32mwhile\u001b[0m \u001b[0muser_input\u001b[0m\u001b[1;33m[\u001b[0m\u001b[1;33m-\u001b[0m\u001b[1;36m1\u001b[0m\u001b[1;33m]\u001b[0m \u001b[1;32min\u001b[0m \u001b[1;34m\"!.\"\u001b[0m\u001b[1;33m:\u001b[0m\u001b[1;33m\u001b[0m\u001b[1;33m\u001b[0m\u001b[0m\n\u001b[0m\u001b[0;32m    127\u001b[0m                     \u001b[0muser_input\u001b[0m \u001b[1;33m=\u001b[0m \u001b[0muser_input\u001b[0m\u001b[1;33m[\u001b[0m\u001b[1;33m:\u001b[0m\u001b[1;33m-\u001b[0m\u001b[1;36m1\u001b[0m\u001b[1;33m]\u001b[0m\u001b[1;33m\u001b[0m\u001b[1;33m\u001b[0m\u001b[0m\n\u001b[0;32m    128\u001b[0m                 \u001b[0mprint\u001b[0m\u001b[1;33m(\u001b[0m\u001b[0mself\u001b[0m\u001b[1;33m.\u001b[0m\u001b[0mrespond\u001b[0m\u001b[1;33m(\u001b[0m\u001b[0muser_input\u001b[0m\u001b[1;33m)\u001b[0m\u001b[1;33m)\u001b[0m\u001b[1;33m\u001b[0m\u001b[1;33m\u001b[0m\u001b[0m\n",
      "\u001b[1;31mIndexError\u001b[0m: string index out of range"
     ]
    }
   ],
   "source": [
    "# Making conversation with the bot and see how does it intereact\n",
    "chat=Chat(pairs,reflections)\n",
    "chat.converse()"
   ]
  }
 ],
 "metadata": {
  "kernelspec": {
   "display_name": "Python 3",
   "language": "python",
   "name": "python3"
  },
  "language_info": {
   "codemirror_mode": {
    "name": "ipython",
    "version": 3
   },
   "file_extension": ".py",
   "mimetype": "text/x-python",
   "name": "python",
   "nbconvert_exporter": "python",
   "pygments_lexer": "ipython3",
   "version": "3.7.6"
  }
 },
 "nbformat": 4,
 "nbformat_minor": 4
}
